{
 "cells": [
  {
   "cell_type": "code",
   "execution_count": 14,
   "metadata": {},
   "outputs": [],
   "source": [
    "import numpy as np\n",
    "\n",
    "np.savez(\n",
    "    \"./file\", x=['a', 'b'], y=['c', 2]\n",
    ")\n",
    "\n",
    "np.savez(\n",
    "    \"./file2\", x=['a', 'b'], y=['c', 2]\n",
    ")"
   ]
  },
  {
   "cell_type": "code",
   "execution_count": 9,
   "metadata": {},
   "outputs": [],
   "source": [
    "f = np.load(\"./file.npz\")"
   ]
  },
  {
   "cell_type": "code",
   "execution_count": 13,
   "metadata": {},
   "outputs": [
    {
     "data": {
      "text/plain": [
       "array(['c', '2'], dtype='<U1')"
      ]
     },
     "execution_count": 13,
     "metadata": {},
     "output_type": "execute_result"
    }
   ],
   "source": [
    "f['y']"
   ]
  },
  {
   "cell_type": "code",
   "execution_count": 16,
   "metadata": {},
   "outputs": [
    {
     "name": "stdout",
     "output_type": "stream",
     "text": [
      "Untitled.ipynb\n",
      "autoencoder_mnist_1.ipynb\n",
      "autoencoder_mnist_2.ipynb\n",
      "\u001b[34mcats_vs_dogs_small\u001b[m\u001b[m\n",
      "\u001b[34mdogs-vs-cats\u001b[m\u001b[m\n",
      "dogs-vs-cats.zip\n",
      "dogs_vs_cast_augmentation_transfer.ipynb\n",
      "dogs_vs_cats.ipynb\n",
      "dogs_vs_cats_augmentation.ipynb\n",
      "download_dogs_cats.ipynb\n",
      "file.npy.npz\n",
      "file.npz\n",
      "file2.npz\n",
      "\u001b[34mglove.6B\u001b[m\u001b[m\n",
      "glove.6B.zip\n",
      "imbd_transferlearning_embedding.ipynb\n",
      "imdb.ipynb\n",
      "imdb_LSTM.ipynb\n",
      "imdb_LSTM_functionalAPI.ipynb\n",
      "imdb_convolution.ipynb\n",
      "imdb_embedding.ipynb\n",
      "imdb_transformer.ipynb\n",
      "model.png\n",
      "reuters_dataset.ipynb\n",
      "reuters_dataset2.ipynb\n",
      "\u001b[34mtrain\u001b[m\u001b[m\n",
      "variational_atuoencoder_mnist.ipynb\n",
      "\u001b[34mweird-fiction-gentleman\u001b[m\u001b[m\n",
      "zalando_fashion.ipynb\n"
     ]
    }
   ],
   "source": [
    "!ls"
   ]
  },
  {
   "cell_type": "code",
   "execution_count": null,
   "metadata": {},
   "outputs": [],
   "source": []
  }
 ],
 "metadata": {
  "kernelspec": {
   "display_name": "dsr",
   "language": "python",
   "name": "dsr"
  },
  "language_info": {
   "codemirror_mode": {
    "name": "ipython",
    "version": 3
   },
   "file_extension": ".py",
   "mimetype": "text/x-python",
   "name": "python",
   "nbconvert_exporter": "python",
   "pygments_lexer": "ipython3",
   "version": "3.6.10"
  }
 },
 "nbformat": 4,
 "nbformat_minor": 4
}
