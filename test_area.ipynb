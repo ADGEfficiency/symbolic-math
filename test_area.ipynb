{
 "cells": [
  {
   "cell_type": "code",
   "execution_count": 1,
   "metadata": {},
   "outputs": [
    {
     "name": "stdout",
     "output_type": "stream",
     "text": [
      "cosh - 4 sinh / -4 -2\n",
      "['cosh', '-', '4', 'sinh', '/', '-4', '-2']\n",
      "cosh ( 4 - sinh ( -4 / -2 ) )\n",
      "['cosh', '(', '4', '-', 'sinh', '(', '-4', '/', '-2', ')', ')']\n"
     ]
    }
   ],
   "source": [
    "!python infix_prefix.py"
   ]
  },
  {
   "cell_type": "code",
   "execution_count": 2,
   "metadata": {},
   "outputs": [],
   "source": [
    "# install sympy"
   ]
  },
  {
   "cell_type": "code",
   "execution_count": 3,
   "metadata": {},
   "outputs": [],
   "source": [
    "from sympy import *"
   ]
  },
  {
   "cell_type": "code",
   "execution_count": 4,
   "metadata": {},
   "outputs": [],
   "source": [
    "exp = sympify(\"cosh ( 4 - sinh ( -4 / -2 ) )\")"
   ]
  },
  {
   "cell_type": "code",
   "execution_count": 5,
   "metadata": {},
   "outputs": [
    {
     "data": {
      "text/latex": [
       "$\\displaystyle 1.07042808042557$"
      ],
      "text/plain": [
       "1.07042808042557"
      ]
     },
     "execution_count": 5,
     "metadata": {},
     "output_type": "execute_result"
    }
   ],
   "source": [
    "exp.evalf()"
   ]
  },
  {
   "cell_type": "code",
   "execution_count": 1,
   "metadata": {},
   "outputs": [
    {
     "name": "stdout",
     "output_type": "stream",
     "text": [
      "['asin', '1']\n"
     ]
    }
   ],
   "source": [
    "!python random_unary_binary_tree.py"
   ]
  },
  {
   "cell_type": "code",
   "execution_count": 2,
   "metadata": {},
   "outputs": [],
   "source": [
    "!python infix_prefix.py"
   ]
  },
  {
   "cell_type": "code",
   "execution_count": 6,
   "metadata": {},
   "outputs": [
    {
     "data": {
      "text/plain": [
       "'log(exp(x))'"
      ]
     },
     "execution_count": 6,
     "metadata": {},
     "output_type": "execute_result"
    }
   ],
   "source": [
    "str(simplify(sympify(\"log(exp(x))\")))"
   ]
  },
  {
   "cell_type": "code",
   "execution_count": 7,
   "metadata": {},
   "outputs": [
    {
     "name": "stdout",
     "output_type": "stream",
     "text": [
      "log exp x\n",
      "\n",
      "\n",
      "cosh ( 4 - sinh ( -4 / -2 ) )\n"
     ]
    }
   ],
   "source": [
    "!python infix_prefix2.py"
   ]
  },
  {
   "cell_type": "code",
   "execution_count": 10,
   "metadata": {},
   "outputs": [
    {
     "name": "stdout",
     "output_type": "stream",
     "text": [
      "{'3', '2'}\n",
      "{'3', '2'}\n"
     ]
    }
   ],
   "source": [
    "thisset = set([\"2\", \"3\"])\n",
    "for e in thisset:\n",
    "    print(thisset)"
   ]
  },
  {
   "cell_type": "code",
   "execution_count": 1,
   "metadata": {},
   "outputs": [],
   "source": [
    "from  random_unary_binary_tree1 import random_binary_trees\n",
    "import time"
   ]
  },
  {
   "cell_type": "code",
   "execution_count": 4,
   "metadata": {},
   "outputs": [
    {
     "name": "stdout",
     "output_type": "stream",
     "text": [
      "step 1: 16.844390869140625\n",
      "step e 1 n 11 time 3.3745150566101074:\n",
      "step e 2 n 10 time 4.279618978500366:\n",
      "step e 3 n 9 time 3.3446359634399414:\n",
      "step e 2 n 8 time 0.18547511100769043:\n",
      "step e 3 n 7 time 0.13792896270751953:\n",
      "step e 4 n 6 time 0.07580399513244629:\n",
      "step e 4 n 5 time 0.014729976654052734:\n",
      "step e 4 n 4 time 0.0030841827392578125:\n",
      "step e 3 n 3 time 0.00021791458129882812:\n",
      "step e 3 n 2 time 4.601478576660156e-05:\n",
      "step e 1 n 1 time 3.0994415283203125e-06:\n",
      "Generate tree: 28.261868953704834\n"
     ]
    }
   ],
   "source": [
    "n = 12\n",
    "start = time.time()\n",
    "root = random_binary_trees(n)\n",
    "time1 = time.time()\n",
    "print(\"Generate tree:\", time1 - start)"
   ]
  },
  {
   "cell_type": "code",
   "execution_count": 5,
   "metadata": {},
   "outputs": [
    {
     "name": "stdout",
     "output_type": "stream",
     "text": [
      "step 1: 0.0001952648162841797\n",
      "step e 2 n 14 time 0.0002689361572265625:\n",
      "step e 3 n 13 time 0.00041294097900390625:\n",
      "step e 4 n 12 time 0.0005459785461425781:\n",
      "step e 5 n 11 time 0.0006749629974365234:\n",
      "step e 6 n 10 time 0.0007598400115966797:\n",
      "step e 6 n 9 time 0.0006480216979980469:\n",
      "step e 4 n 8 time 0.0003008842468261719:\n",
      "step e 5 n 7 time 0.0002601146697998047:\n",
      "step e 4 n 6 time 0.00014829635620117188:\n",
      "step e 5 n 5 time 0.00016117095947265625:\n",
      "step e 6 n 4 time 0.00012302398681640625:\n",
      "step e 7 n 3 time 7.700920104980469e-05:\n",
      "step e 6 n 2 time 1.5735626220703125e-05:\n",
      "step e 1 n 1 time 1.9073486328125e-06:\n",
      "Generate tree: 0.005921125411987305\n"
     ]
    }
   ],
   "source": [
    "n = 15\n",
    "start = time.time()\n",
    "root = random_binary_trees(n)\n",
    "time1 = time.time()\n",
    "print(\"Generate tree:\", time1 - start)"
   ]
  },
  {
   "cell_type": "code",
   "execution_count": 6,
   "metadata": {},
   "outputs": [],
   "source": [
    "p_leaf = [1/6, 1/12, 1/12, 1/12, 1/12, 1/12, 1/12, 1/12, 1/12, 1/12, 1/12]"
   ]
  },
  {
   "cell_type": "code",
   "execution_count": 7,
   "metadata": {},
   "outputs": [
    {
     "data": {
      "text/plain": [
       "1.0"
      ]
     },
     "execution_count": 7,
     "metadata": {},
     "output_type": "execute_result"
    }
   ],
   "source": [
    "sum(p_leaf)"
   ]
  },
  {
   "cell_type": "code",
   "execution_count": 9,
   "metadata": {},
   "outputs": [],
   "source": [
    "import numpy as np"
   ]
  },
  {
   "cell_type": "code",
   "execution_count": 11,
   "metadata": {},
   "outputs": [
    {
     "data": {
      "text/plain": [
       "array(['x', '-5', '-4', '-3', '-2', '-1', '1', '2', '3', '4', '5'],\n",
       "      dtype='<U2')"
      ]
     },
     "execution_count": 11,
     "metadata": {},
     "output_type": "execute_result"
    }
   ],
   "source": [
    "np.array([\"x\", \"-5\", \"-4\", \"-3\", \"-2\", \"-1\", \"1\", \"2\", \"3\", \"4\", \"5\"])"
   ]
  },
  {
   "cell_type": "code",
   "execution_count": 14,
   "metadata": {},
   "outputs": [
    {
     "name": "stdout",
     "output_type": "stream",
     "text": [
      "type is:  <class 'numpy.ndarray'>\n",
      "dtype is:  <U11\n"
     ]
    }
   ],
   "source": [
    "import numpy as np \n",
    "  \n",
    "a = np.array([\"hello world\"]) \n",
    "  \n",
    "print(\"type is: \",type(a)) \n",
    "print(\"dtype is: \",a.dtype)"
   ]
  },
  {
   "cell_type": "code",
   "execution_count": 4,
   "metadata": {},
   "outputs": [],
   "source": [
    "from sympy import *"
   ]
  },
  {
   "cell_type": "code",
   "execution_count": 14,
   "metadata": {},
   "outputs": [
    {
     "data": {
      "text/latex": [
       "$\\displaystyle \\log{\\left(2 \\right)}$"
      ],
      "text/plain": [
       "log(2)"
      ]
     },
     "execution_count": 14,
     "metadata": {},
     "output_type": "execute_result"
    }
   ],
   "source": [
    "sympify(\"log(2)\")"
   ]
  },
  {
   "cell_type": "code",
   "execution_count": 8,
   "metadata": {},
   "outputs": [],
   "source": [
    "from sympy.parsing.sympy_parser import parse_expr"
   ]
  },
  {
   "cell_type": "code",
   "execution_count": 15,
   "metadata": {},
   "outputs": [
    {
     "data": {
      "text/latex": [
       "$\\displaystyle \\log{\\left(2 \\right)}$"
      ],
      "text/plain": [
       "log(2)"
      ]
     },
     "execution_count": 15,
     "metadata": {},
     "output_type": "execute_result"
    }
   ],
   "source": [
    "parse_expr(\"log(2)\")"
   ]
  },
  {
   "cell_type": "code",
   "execution_count": null,
   "metadata": {},
   "outputs": [],
   "source": []
  },
  {
   "cell_type": "code",
   "execution_count": null,
   "metadata": {},
   "outputs": [],
   "source": []
  }
 ],
 "metadata": {
  "kernelspec": {
   "display_name": "symbolic_math",
   "language": "python",
   "name": "symbolic_math"
  },
  "language_info": {
   "codemirror_mode": {
    "name": "ipython",
    "version": 3
   },
   "file_extension": ".py",
   "mimetype": "text/x-python",
   "name": "python",
   "nbconvert_exporter": "python",
   "pygments_lexer": "ipython3",
   "version": "3.6.8"
  }
 },
 "nbformat": 4,
 "nbformat_minor": 4
}
