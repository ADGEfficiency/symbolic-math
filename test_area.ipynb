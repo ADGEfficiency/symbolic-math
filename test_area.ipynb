{
 "cells": [
  {
   "cell_type": "code",
   "execution_count": null,
   "metadata": {},
   "outputs": [],
   "source": [
    "!python infix_prefix.py"
   ]
  },
  {
   "cell_type": "code",
   "execution_count": null,
   "metadata": {},
   "outputs": [],
   "source": [
    "# install sympy"
   ]
  },
  {
   "cell_type": "code",
   "execution_count": null,
   "metadata": {},
   "outputs": [],
   "source": [
    "from sympy import *"
   ]
  },
  {
   "cell_type": "code",
   "execution_count": null,
   "metadata": {},
   "outputs": [],
   "source": [
    "exp = sympify(\"cosh ( 4 - sinh ( -4 / -2 ) )\")"
   ]
  },
  {
   "cell_type": "code",
   "execution_count": null,
   "metadata": {},
   "outputs": [],
   "source": [
    "exp.evalf()"
   ]
  },
  {
   "cell_type": "code",
   "execution_count": null,
   "metadata": {},
   "outputs": [],
   "source": [
    "!python random_unary_binary_tree.py"
   ]
  },
  {
   "cell_type": "code",
   "execution_count": null,
   "metadata": {},
   "outputs": [],
   "source": [
    "!python infix_prefix.py"
   ]
  },
  {
   "cell_type": "code",
   "execution_count": null,
   "metadata": {},
   "outputs": [],
   "source": [
    "str(simplify(sympify(\"log(exp(x))\")))"
   ]
  },
  {
   "cell_type": "code",
   "execution_count": null,
   "metadata": {},
   "outputs": [],
   "source": [
    "!python infix_prefix2.py"
   ]
  },
  {
   "cell_type": "code",
   "execution_count": null,
   "metadata": {},
   "outputs": [],
   "source": [
    "thisset = set([\"2\", \"3\"])\n",
    "for e in thisset:\n",
    "    print(thisset)"
   ]
  },
  {
   "cell_type": "code",
   "execution_count": null,
   "metadata": {},
   "outputs": [],
   "source": [
    "from  random_unary_binary_tree1 import random_binary_trees\n",
    "import time"
   ]
  },
  {
   "cell_type": "code",
   "execution_count": null,
   "metadata": {},
   "outputs": [],
   "source": [
    "n = 12\n",
    "start = time.time()\n",
    "root = random_binary_trees(n)\n",
    "time1 = time.time()\n",
    "print(\"Generate tree:\", time1 - start)"
   ]
  },
  {
   "cell_type": "code",
   "execution_count": null,
   "metadata": {},
   "outputs": [],
   "source": [
    "n = 15\n",
    "start = time.time()\n",
    "root = random_binary_trees(n)\n",
    "time1 = time.time()\n",
    "print(\"Generate tree:\", time1 - start)"
   ]
  },
  {
   "cell_type": "code",
   "execution_count": null,
   "metadata": {},
   "outputs": [],
   "source": [
    "p_leaf = [1/6, 1/12, 1/12, 1/12, 1/12, 1/12, 1/12, 1/12, 1/12, 1/12, 1/12]"
   ]
  },
  {
   "cell_type": "code",
   "execution_count": null,
   "metadata": {},
   "outputs": [],
   "source": [
    "sum(p_leaf)"
   ]
  },
  {
   "cell_type": "code",
   "execution_count": null,
   "metadata": {},
   "outputs": [],
   "source": [
    "import numpy as np"
   ]
  },
  {
   "cell_type": "code",
   "execution_count": null,
   "metadata": {},
   "outputs": [],
   "source": [
    "np.array([\"x\", \"-5\", \"-4\", \"-3\", \"-2\", \"-1\", \"1\", \"2\", \"3\", \"4\", \"5\"])"
   ]
  },
  {
   "cell_type": "code",
   "execution_count": null,
   "metadata": {},
   "outputs": [],
   "source": [
    "import numpy as np \n",
    "  \n",
    "a = np.array([\"hello world\"]) \n",
    "  \n",
    "print(\"type is: \",type(a)) \n",
    "print(\"dtype is: \",a.dtype)"
   ]
  },
  {
   "cell_type": "code",
   "execution_count": null,
   "metadata": {},
   "outputs": [],
   "source": [
    "from sympy import *"
   ]
  },
  {
   "cell_type": "code",
   "execution_count": null,
   "metadata": {},
   "outputs": [],
   "source": [
    "sympify(\"log(2)\")"
   ]
  },
  {
   "cell_type": "code",
   "execution_count": null,
   "metadata": {},
   "outputs": [],
   "source": [
    "from sympy.parsing.sympy_parser import parse_expr"
   ]
  },
  {
   "cell_type": "code",
   "execution_count": null,
   "metadata": {},
   "outputs": [],
   "source": [
    "parse_expr(\"log(2)\")"
   ]
  },
  {
   "cell_type": "code",
   "execution_count": null,
   "metadata": {},
   "outputs": [],
   "source": []
  },
  {
   "cell_type": "code",
   "execution_count": null,
   "metadata": {},
   "outputs": [],
   "source": [
    "file = open(r\"test.txt\", \"w+\")\n",
    "for i in range(5):\n",
    "    string = str(i) + \"\\n\"\n",
    "    file.writelines(string) "
   ]
  },
  {
   "cell_type": "code",
   "execution_count": null,
   "metadata": {},
   "outputs": [],
   "source": [
    "sequence = []\n",
    "\n",
    "start = time.time()\n",
    "\n",
    "i = 1\n",
    "while i<=10:\n",
    "    n = random.randint(1, 15)\n",
    "    print(n)\n",
    "    root = random_binary_trees(n)\n",
    "    print(\"generated\")\n",
    "    result = traverse_unary_binary_prefix(root)\n",
    "    if 'x' not in result:\n",
    "        continue\n",
    "    print(\"prefix:\", result)    \n",
    "    result_infix = prefix_to_infix(result) \n",
    "    result_expr = \" \".join(result_infix)\n",
    "    result_expr = parse_expr_timeout(result_expr)\n",
    "    if result_expr==None:\n",
    "        continue\n",
    "    result_simp = simplify_timeout(result_expr)\n",
    "    if result_simp == \"Error\":\n",
    "        continue\n",
    "    print(\"infix:\", result_simp)\n",
    "    result_simp_prefix = infix_to_prefix(result_simp)\n",
    "    if result_simp_prefix == False:\n",
    "        continue\n",
    "    print(\"pass 1\") \n",
    "    try:\n",
    "        expr_diff = diff(result_simp)\n",
    "    except ValueError:\n",
    "        continue\n",
    "    #print(expr_diff)\n",
    "    expression = simplify_timeout(expr_diff)\n",
    "    print(\"expression infix:\", expression)\n",
    "    expression_prefix = infix_to_prefix(expression)\n",
    "    if expression_prefix == False:\n",
    "        continue\n",
    "    print(\"expression prefix:\", expression_prefix)    \n",
    "    expression_prefix = \" \".join(expression_prefix)\n",
    "    result_simp_prefix = \" \".join(result_simp_prefix)\n",
    "    sequence.append(expression_prefix + \"\\t\" + result_simp_prefix + \"\\n\")\n",
    "    print(\"added\")\n",
    "    i += 1\n",
    "    \n",
    "end = time.time()\n",
    "print(end - start)  "
   ]
  },
  {
   "cell_type": "code",
   "execution_count": null,
   "metadata": {},
   "outputs": [],
   "source": [
    "import numpy as np"
   ]
  },
  {
   "cell_type": "code",
   "execution_count": null,
   "metadata": {},
   "outputs": [],
   "source": [
    "np.newaxis"
   ]
  },
  {
   "cell_type": "code",
   "execution_count": null,
   "metadata": {},
   "outputs": [],
   "source": [
    "np.arange(10)[:, np.newaxis]"
   ]
  },
  {
   "cell_type": "code",
   "execution_count": null,
   "metadata": {},
   "outputs": [],
   "source": [
    "np.arange(10)"
   ]
  },
  {
   "cell_type": "code",
   "execution_count": null,
   "metadata": {},
   "outputs": [],
   "source": [
    "np.arange(10)[:]"
   ]
  },
  {
   "cell_type": "code",
   "execution_count": null,
   "metadata": {},
   "outputs": [],
   "source": [
    "np.arange(10)[np.newaxis, :]"
   ]
  },
  {
   "cell_type": "code",
   "execution_count": null,
   "metadata": {},
   "outputs": [],
   "source": [
    "import tensorflow as tf"
   ]
  },
  {
   "cell_type": "code",
   "execution_count": null,
   "metadata": {},
   "outputs": [],
   "source": [
    "a1 = tf.constant([], shape=(2, 3))\n",
    "a2 = tf.ones((2, 3))\n",
    "tf.concat([a2], axis=0)"
   ]
  },
  {
   "cell_type": "code",
   "execution_count": null,
   "metadata": {},
   "outputs": [],
   "source": [
    "def encoder_layer(input_layer, num_heads, layer, training):\n",
    "    #multi-head self attention \n",
    "    for i in range(num_heads):\n",
    "        q_i = layers.Dense(depth, name=\"layer\" + str(layer) + \"_\" + \"en_query\" + str(i))(input_layer)\n",
    "        k_i = layers.Dense(depth, name=\"layer\" + str(layer) + \"_\" + \"en_key\" + str(i))(input_layer)\n",
    "        v_i = layers.Dense(depth, name=\"layer\" + str(layer) + \"_\" + \"en_value\" + str(i))(input_layer)\n",
    "        self_attention_i = layers.Attention(\n",
    "            use_scale=True,\n",
    "            name = \"layer\" + str(layer) + \"_\" + \"en_self_attention\" + str(i),\n",
    "            )([q_i, v_i, k_i])\n",
    "        if i == 0:\n",
    "            concat_attention = tf.concat([self_attention_i], axis=2)\n",
    "        else:\n",
    "            concat_attention = tf.concat([concat_attention, self_attention_i], axis=2)      \n",
    "    self_attention = layers.Dense(d_model, name=\"layer\" + str(layer) + \"_\" + \"en_concat_attention\")(concat_attention)\n",
    "    self_attenton = layers.Dropout(rate=0.1)(self_attention, training=training)\n",
    "    \n",
    "    #layer norm1\n",
    "    layernorm1 = layers.LayerNormalization(epsilon=1e-6, name=\"layer\" + str(layer) + \"_\" + \"en_layer_norm1\")(self_attention + input_layer)\n",
    "    \n",
    "    # feed forward\n",
    "    ffn1 = tf.keras.layers.Dense(dff, activation='relu')(layernorm1)\n",
    "    ffn2 = tf.keras.layers.Dense(d_model, name=\"layer\" + str(layer) + \"_\" + \"en_feed_forward\")(ffn1)\n",
    "    ffn2 = layers.Dropout(rate=0.1)(ffn2, training=training)\n",
    "    \n",
    "    #layer norm2\n",
    "    layernorm2 = layers.LayerNormalization(epsilon=1e-6, name=\"layer\" + str(layer) + \"_\" + \"en_layer_norm2\")(ffn2+layernorm1)\n",
    "    return layernorm2\n",
    "    "
   ]
  }
 ],
 "metadata": {
  "kernelspec": {
   "display_name": "symbolic_math",
   "language": "python",
   "name": "symbolic_math"
  },
  "language_info": {
   "codemirror_mode": {
    "name": "ipython",
    "version": 3
   },
   "file_extension": ".py",
   "mimetype": "text/x-python",
   "name": "python",
   "nbconvert_exporter": "python",
   "pygments_lexer": "ipython3",
   "version": "3.6.8"
  }
 },
 "nbformat": 4,
 "nbformat_minor": 4
}
