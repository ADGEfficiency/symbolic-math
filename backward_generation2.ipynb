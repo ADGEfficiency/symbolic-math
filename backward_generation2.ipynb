{
 "cells": [
  {
   "cell_type": "markdown",
   "metadata": {},
   "source": [
    "#### Backward generation(BWD)\n",
    "- 20 data"
   ]
  },
  {
   "cell_type": "markdown",
   "metadata": {},
   "source": [
    "1. generate data after integral"
   ]
  },
  {
   "cell_type": "code",
   "execution_count": 1,
   "metadata": {},
   "outputs": [],
   "source": [
    "import random\n",
    "from  random_unary_binary_tree1 import random_binary_trees\n",
    "from  random_unary_binary_tree1 import traverse_unary_binary_prefix \n",
    "from infix_prefix import prefix_to_infix\n",
    "from infix_prefix import infix_to_prefix\n",
    "from sympy.parsing.sympy_parser import parse_expr\n",
    "import time"
   ]
  },
  {
   "cell_type": "code",
   "execution_count": 2,
   "metadata": {},
   "outputs": [],
   "source": [
    "from __future__ import division\n",
    "from sympy import *\n",
    "import numpy as np"
   ]
  },
  {
   "cell_type": "code",
   "execution_count": 3,
   "metadata": {},
   "outputs": [],
   "source": [
    "x = symbols('x', real=True)"
   ]
  },
  {
   "cell_type": "code",
   "execution_count": null,
   "metadata": {},
   "outputs": [],
   "source": [
    "sequence = []\n",
    "\n",
    "start = time.time()\n",
    "\n",
    "i = 1\n",
    "while i<=100:\n",
    "    n = random.randint(1, 15)\n",
    "    print(n)\n",
    "    root = random_binary_trees(n)\n",
    "    print(\"generated\")\n",
    "    result = traverse_unary_binary_prefix(root)\n",
    "    if 'x' not in result:\n",
    "        continue\n",
    "    result_infix = prefix_to_infix(result) \n",
    "    result_expr = \" \".join(result_infix)\n",
    "    print(result_expr)\n",
    "    result_expr = parse_expr(result_expr, local_dict={'x': x})\n",
    "    result_simp = simplify(result_expr)\n",
    "    print(result_simp)\n",
    "    result_simp_prefix = infix_to_prefix(result_simp)\n",
    "    if result_simp_prefix == False:\n",
    "        continue\n",
    "    print(\"pass 1\")    \n",
    "    expression = simplify(diff(result_simp, x))\n",
    "    print(expression)\n",
    "    expression_prefix = infix_to_prefix(expression)\n",
    "    if expression_prefix == False:\n",
    "        continue\n",
    "    print(\"pass 2\")    \n",
    "    expression_prefix = \" \".join(expression_prefix)\n",
    "    result_simp_prefix = \" \".join(result_simp_prefix)\n",
    "    sequence.append(expression_prefix + \"\\t\" + result_simp_prefix + \"\\n\")\n",
    "    print(\"added\")\n",
    "    i += 1\n",
    "    \n",
    "end = time.time()\n",
    "print(end - start)    "
   ]
  },
  {
   "cell_type": "code",
   "execution_count": 4,
   "metadata": {},
   "outputs": [],
   "source": [
    "import threading, queue\n",
    "\n",
    "start = time.time()\n",
    "s1 = \"sin ( log ( tanh ( ( x ) * x + 1 + tan ( tanh ( 2 ) ) - cosh ( 1 ) * 1 + 5 / -5 * x ) ) / 2 )\"\n",
    "s2 = parse_expr(s1, local_dict={'x': x})\n",
    "s3 = x\n",
    "# result_queue = queue.Queue()\n",
    "# def do_something(expr):\n",
    "#     result = simplify(expr)\n",
    "#     result_queue.put(result)\n",
    "    \n",
    "# threading.Thread(target=do_something, args=(s3, )).start()\n",
    "# try:\n",
    "#     result = result_queue.get(timeout=3)\n",
    "# except queue.Empty:\n",
    "#     print(None)\n",
    "# else:\n",
    "#     print(result)\n",
    "# end = time.time()\n",
    "# print(end - start)"
   ]
  },
  {
   "cell_type": "code",
   "execution_count": 8,
   "metadata": {},
   "outputs": [
    {
     "data": {
      "text/latex": [
       "$\\displaystyle \\sin{\\left(\\frac{\\log{\\left(\\tanh{\\left(x^{2} - x - \\cosh{\\left(1 \\right)} + 1 + \\tan{\\left(\\tanh{\\left(2 \\right)} \\right)} \\right)} \\right)}}{2} \\right)}$"
      ],
      "text/plain": [
       "sin(log(tanh(x**2 - x - cosh(1) + 1 + tan(tanh(2))))/2)"
      ]
     },
     "execution_count": 8,
     "metadata": {},
     "output_type": "execute_result"
    }
   ],
   "source": [
    "s2"
   ]
  },
  {
   "cell_type": "code",
   "execution_count": 15,
   "metadata": {},
   "outputs": [
    {
     "name": "stdout",
     "output_type": "stream",
     "text": [
      "0.022016048431396484\n"
     ]
    }
   ],
   "source": [
    "start = time.time()\n",
    "s4 = simplify(x+cos(x) +cos(7))\n",
    "print(time.time()-start)"
   ]
  },
  {
   "cell_type": "code",
   "execution_count": 10,
   "metadata": {},
   "outputs": [],
   "source": [
    "# simplify(s2)"
   ]
  },
  {
   "cell_type": "code",
   "execution_count": 16,
   "metadata": {},
   "outputs": [
    {
     "name": "stdout",
     "output_type": "stream",
     "text": [
      "0.11963391304016113\n"
     ]
    }
   ],
   "source": [
    "from multiprocessing import Pool\n",
    "\n",
    "from time import sleep\n",
    "\n",
    "\n",
    "def func(x):\n",
    "    return simplify(x)\n",
    "\n",
    "start = time.time()\n",
    "with Pool(4) as p:\n",
    "    out = p.map(func, [s4]*16)\n",
    "print(time.time()-start)    "
   ]
  },
  {
   "cell_type": "code",
   "execution_count": 17,
   "metadata": {},
   "outputs": [
    {
     "name": "stdout",
     "output_type": "stream",
     "text": [
      "[x + cos(x) + cos(7), x + cos(x) + cos(7), x + cos(x) + cos(7), x + cos(x) + cos(7), x + cos(x) + cos(7), x + cos(x) + cos(7), x + cos(x) + cos(7), x + cos(x) + cos(7), x + cos(x) + cos(7), x + cos(x) + cos(7), x + cos(x) + cos(7), x + cos(x) + cos(7), x + cos(x) + cos(7), x + cos(x) + cos(7), x + cos(x) + cos(7), x + cos(x) + cos(7)]\n"
     ]
    }
   ],
   "source": [
    "print(out)"
   ]
  },
  {
   "cell_type": "code",
   "execution_count": null,
   "metadata": {},
   "outputs": [],
   "source": [
    "start = time.time()\n",
    "simplify(x)\n",
    "end = time.time()\n",
    "print(end - start)"
   ]
  },
  {
   "cell_type": "code",
   "execution_count": null,
   "metadata": {},
   "outputs": [],
   "source": [
    "def pre(expr):\n",
    "    print(expr)\n",
    "    print(expr.func)\n",
    "    for arg in expr.args:\n",
    "        pre(arg)"
   ]
  },
  {
   "cell_type": "code",
   "execution_count": null,
   "metadata": {},
   "outputs": [],
   "source": [
    "pre(s3)"
   ]
  },
  {
   "cell_type": "code",
   "execution_count": null,
   "metadata": {},
   "outputs": [],
   "source": [
    "file = open(r\"bwd_sample5000.txt\", \"w+\")\n",
    "file.writelines(sequence) "
   ]
  },
  {
   "cell_type": "markdown",
   "metadata": {},
   "source": [
    "### To do\n",
    "- 1. change def function list to numpy\n",
    "- 2. save sequence and label to csv file"
   ]
  },
  {
   "cell_type": "markdown",
   "metadata": {},
   "source": [
    "test csvfile"
   ]
  },
  {
   "cell_type": "code",
   "execution_count": null,
   "metadata": {},
   "outputs": [],
   "source": [
    "import numpy as np"
   ]
  },
  {
   "cell_type": "code",
   "execution_count": null,
   "metadata": {},
   "outputs": [],
   "source": [
    "s =['*', 'pow', 'x', '-1', '+', '*', '-1', 'cos', '1', '*', 'x', '+', '-2', 'sinh', '*', '/', '1', '12', '*', 'x', '+', '4', '+', '*', '3', 'exp', '1', '*', '3', 'acosh', '*', '-1', 'atan', '8']\n",
    "s = \" \".join(s)\n",
    "print(s)"
   ]
  },
  {
   "cell_type": "code",
   "execution_count": null,
   "metadata": {},
   "outputs": [],
   "source": [
    "bwd_test = np.array(sequence)\n"
   ]
  },
  {
   "cell_type": "code",
   "execution_count": null,
   "metadata": {},
   "outputs": [],
   "source": [
    "bwd_test[0]"
   ]
  },
  {
   "cell_type": "code",
   "execution_count": null,
   "metadata": {},
   "outputs": [],
   "source": [
    "bwd_test.shape"
   ]
  },
  {
   "cell_type": "code",
   "execution_count": null,
   "metadata": {},
   "outputs": [],
   "source": [
    "pwd"
   ]
  },
  {
   "cell_type": "code",
   "execution_count": null,
   "metadata": {},
   "outputs": [],
   "source": [
    "li = []\n",
    "file = open(r\"bwd_test2.txt\", \"w+\")\n",
    "for ele in bwd_test:\n",
    "    new_ele1 = \" \".join(ele[0])\n",
    "    new_ele2 = \" \".join(ele[1])\n",
    "    new_ele = new_ele1 + \"\\t\" + new_ele2 + \"\\n\"\n",
    "    li.append(new_ele)\n",
    "file.writelines(li)    "
   ]
  },
  {
   "cell_type": "code",
   "execution_count": null,
   "metadata": {},
   "outputs": [],
   "source": [
    "li"
   ]
  },
  {
   "cell_type": "code",
   "execution_count": null,
   "metadata": {},
   "outputs": [],
   "source": [
    "import numpy as np\n",
    "\n",
    "np.savetxt('bwd_test.csv', bwd_test, delimiter=',', fmt=\"%s\")"
   ]
  },
  {
   "cell_type": "code",
   "execution_count": null,
   "metadata": {},
   "outputs": [],
   "source": [
    "import csv\n",
    "import ast\n",
    "bwd_test2 = []\n",
    "with open('bwd_test.csv', 'r') as f:\n",
    "    for line in f:\n",
    "        newline = ast.literal_eval(line)\n",
    "        bwd_test2.append(list(newline))\n",
    "    "
   ]
  },
  {
   "cell_type": "code",
   "execution_count": null,
   "metadata": {},
   "outputs": [],
   "source": [
    "bwd_test2 = np.array(bwd_test2)"
   ]
  },
  {
   "cell_type": "code",
   "execution_count": null,
   "metadata": {},
   "outputs": [],
   "source": [
    "bwd_test2.shape"
   ]
  },
  {
   "cell_type": "code",
   "execution_count": null,
   "metadata": {},
   "outputs": [],
   "source": [
    "print(bwd_test2[0])"
   ]
  },
  {
   "cell_type": "code",
   "execution_count": null,
   "metadata": {},
   "outputs": [],
   "source": []
  }
 ],
 "metadata": {
  "kernelspec": {
   "display_name": "symbolic_math",
   "language": "python",
   "name": "symbolic_math"
  },
  "language_info": {
   "codemirror_mode": {
    "name": "ipython",
    "version": 3
   },
   "file_extension": ".py",
   "mimetype": "text/x-python",
   "name": "python",
   "nbconvert_exporter": "python",
   "pygments_lexer": "ipython3",
   "version": "3.6.8"
  }
 },
 "nbformat": 4,
 "nbformat_minor": 4
}
