{
 "cells": [
  {
   "cell_type": "markdown",
   "metadata": {},
   "source": [
    "### Assume p_1 = 0"
   ]
  },
  {
   "cell_type": "markdown",
   "metadata": {},
   "source": [
    "### 1. calculate D(e,n)"
   ]
  },
  {
   "cell_type": "code",
   "execution_count": 1,
   "metadata": {},
   "outputs": [],
   "source": [
    "def binary_subtrees(e, n):\n",
    "    if e==0:\n",
    "        return 0\n",
    "    elif n==0:\n",
    "        return 1\n",
    "    else:\n",
    "        return binary_subtrees(e-1, n) + binary_subtrees(e+1, n-1)"
   ]
  },
  {
   "cell_type": "markdown",
   "metadata": {},
   "source": [
    "### 2. calculate distribution K(e,n)"
   ]
  },
  {
   "cell_type": "code",
   "execution_count": 2,
   "metadata": {},
   "outputs": [],
   "source": [
    "def distribution_k(e, n):\n",
    "    distr_list = []\n",
    "    for k in range(e):\n",
    "        distr_list.append(binary_subtrees(e-k+1, n-1)/binary_subtrees(e, n))\n",
    "    return distr_list"
   ]
  },
  {
   "cell_type": "markdown",
   "metadata": {},
   "source": [
    "### 3. leaves and binary operators"
   ]
  },
  {
   "cell_type": "code",
   "execution_count": 3,
   "metadata": {},
   "outputs": [],
   "source": [
    "leaves = [\"x\", \"-5\", \"-4\", \"-3\", \"-2\", \"-1\", \"1\", \"2\", \"3\", \"4\", \"5\"]\n",
    "binary_operators = [\"+\", \"-\", \"*\", \"/\"]"
   ]
  },
  {
   "cell_type": "markdown",
   "metadata": {},
   "source": [
    "### 4. generate random binary trees"
   ]
  },
  {
   "cell_type": "code",
   "execution_count": 4,
   "metadata": {},
   "outputs": [],
   "source": [
    "from random import choices\n",
    "import numpy as np"
   ]
  },
  {
   "cell_type": "code",
   "execution_count": 5,
   "metadata": {},
   "outputs": [],
   "source": [
    "class Node:\n",
    "    operator = True\n",
    "    operand = False\n",
    "    def __init__(self, data, left=None, right=None):\n",
    "        self.data = data\n",
    "        self.left = left\n",
    "        self.right = right\n",
    "class Leaf:\n",
    "    operator = False\n",
    "    operand = True\n",
    "    def __init__(self, data):\n",
    "        self.data = data"
   ]
  },
  {
   "cell_type": "code",
   "execution_count": 6,
   "metadata": {},
   "outputs": [],
   "source": [
    "def random_binary_trees(n):\n",
    "    operator = choices(binary_operators)[0]\n",
    "    node = Node(operator)\n",
    "    empty_node = [(node, 'left'), (node, 'right')]\n",
    "    e = 2\n",
    "    n = n-1\n",
    "    while n > 0:\n",
    "        population = np.arange(e)\n",
    "        weights = distribution_k(e, n)\n",
    "        k = choices(population, weights)[0]\n",
    "        i = 0\n",
    "        new_empty_node = []\n",
    "        for ele in empty_node:\n",
    "            if i < k:\n",
    "                leave = choices(leaves)[0]\n",
    "                value = Leaf(leave)\n",
    "                setattr(ele[0], ele[1], value)\n",
    "            elif i == k:\n",
    "                operator = choices(binary_operators)[0]\n",
    "                value = Node(operator)\n",
    "                setattr(ele[0], ele[1], value)\n",
    "                if ele[1] == 'left':\n",
    "                    new_ele = ele[0].left\n",
    "                else:\n",
    "                    new_ele = ele[0].right\n",
    "                new_empty_node = [(new_ele, 'left'), (new_ele, 'right')]\n",
    "            else:\n",
    "                new_empty_node.append(ele)\n",
    "            i += 1\n",
    "        empty_node = new_empty_node\n",
    "        e = e - k + 1\n",
    "        n = n - 1\n",
    "    if len(empty_node) != 0:\n",
    "        for ele in empty_node:\n",
    "            leave = choices(leaves)[0]\n",
    "            value = Leaf(leave)\n",
    "            setattr(ele[0], ele[1], value)\n",
    "            \n",
    "    return node"
   ]
  },
  {
   "cell_type": "code",
   "execution_count": 7,
   "metadata": {},
   "outputs": [],
   "source": [
    "root = random_binary_trees(4)"
   ]
  },
  {
   "cell_type": "code",
   "execution_count": 8,
   "metadata": {},
   "outputs": [
    {
     "data": {
      "text/plain": [
       "['+', '-', '5', '*', '-2', '+', 'x', '-4', '-4']"
      ]
     },
     "execution_count": 8,
     "metadata": {},
     "output_type": "execute_result"
    }
   ],
   "source": [
    "def traverse(root, seq=None, verbose=False):\n",
    "    if not seq:\n",
    "        seq = []\n",
    "        \n",
    "    if verbose:\n",
    "        print(root.data)\n",
    "        \n",
    "    seq.append(root.data)\n",
    "    \n",
    "    if root.left.operator:\n",
    "        traverse(root.left, seq)\n",
    "    else:\n",
    "        if verbose:\n",
    "            print(root.left.data)\n",
    "        seq.append(root.left.data)\n",
    "        \n",
    "    if root.right.operator:\n",
    "        traverse(root.right, seq)\n",
    "    else:\n",
    "        if verbose:\n",
    "            print(root.right.data)\n",
    "        seq.append(root.right.data)\n",
    "    \n",
    "    return seq\n",
    "        \n",
    "traverse(root)   "
   ]
  },
  {
   "cell_type": "code",
   "execution_count": 9,
   "metadata": {},
   "outputs": [],
   "source": [
    "def test_traverse():\n",
    "    \n",
    "    # prefix = (5 − 6) × 7\n",
    "    tree = Node('*')\n",
    "    tree.left = Node('-')\n",
    "    tree.right = Leaf(7)\n",
    "    tree.left.left = Leaf(5)\n",
    "    tree.left.right = Leaf(6)\n",
    "    \n",
    "    res = traverse(tree, verbose=False)\n",
    "    desired = ['*', '-', 5, 6, 7]\n",
    "    assert desired == res\n",
    "    \n",
    "test_traverse()"
   ]
  },
  {
   "cell_type": "code",
   "execution_count": 10,
   "metadata": {},
   "outputs": [],
   "source": [
    "def test_traverse2():\n",
    "    \n",
    "    # prefix = 2 + 3 * (5 + 2)\n",
    "    tree = Node('+')\n",
    "    tree.left = Leaf(2)\n",
    "    tree.right = Node('*')\n",
    "    tree.right.left = Leaf(3)\n",
    "    tree.right.right = Node('+')\n",
    "    tree.right.right.left = Leaf(5)\n",
    "    tree.right.right.right = Leaf(2)\n",
    "\n",
    "    res = traverse(tree, verbose=False)\n",
    "    desired = ['+', 2, '*', 3, '+', 5, 2]\n",
    "    assert desired == res\n",
    "    \n",
    "test_traverse2()"
   ]
  },
  {
   "cell_type": "markdown",
   "metadata": {},
   "source": [
    "<pre>\n",
    "Algorithm infix (tree)\n",
    " if (tree not empty)\n",
    "    if (tree token is operator)\n",
    "       print (open parenthesis)\n",
    "    end if\n",
    "    infix (tree left subtree)\n",
    "    print (tree token)\n",
    "    infix (tree right subtree)\n",
    "    if (tree token is operator)\n",
    "       print (close parenthesis)\n",
    "    end if\n",
    " end if\n",
    "end infix\n",
    "<pre>"
   ]
  },
  {
   "cell_type": "code",
   "execution_count": 11,
   "metadata": {},
   "outputs": [
    {
     "name": "stdout",
     "output_type": "stream",
     "text": [
      "(\n",
      "(\n",
      "5\n",
      "-\n",
      "(\n",
      "-2\n",
      "*\n",
      "(\n",
      "x\n",
      "+\n",
      "-4\n",
      ")\n",
      ")\n",
      ")\n",
      "+\n",
      "-4\n",
      ")\n"
     ]
    }
   ],
   "source": [
    "def traverse_infix(root):\n",
    "    if root.operator:\n",
    "        print('(')\n",
    "    if root.left.operator:\n",
    "        traverse_infix(root.left)\n",
    "    else:\n",
    "        print(root.left.data)\n",
    "    print(root.data)\n",
    "    if root.right.operator:\n",
    "        traverse_infix(root.right)\n",
    "    else:\n",
    "        print(root.right.data)    \n",
    "    if root.operator:\n",
    "        print(\")\")\n",
    "traverse_infix(root) "
   ]
  },
  {
   "cell_type": "markdown",
   "metadata": {},
   "source": [
    "<pre>\n",
    "Algorithm prefix (tree) \n",
    " if (tree not empty) \n",
    "    print (tree token) \n",
    "    prefix (tree left subtree) \n",
    "    prefix (tree right subtree)\n",
    " end if \n",
    "end prefix <br>\n",
    "<pre>"
   ]
  },
  {
   "cell_type": "code",
   "execution_count": 12,
   "metadata": {},
   "outputs": [
    {
     "name": "stdout",
     "output_type": "stream",
     "text": [
      "+\n",
      "-\n",
      "5\n",
      "*\n",
      "-2\n",
      "+\n",
      "x\n",
      "-4\n",
      "-4\n"
     ]
    }
   ],
   "source": [
    "def traverse_prefix(root):\n",
    "    print(root.data)\n",
    "    if root.left.operator:\n",
    "        traverse_prefix(root.left)\n",
    "    else:\n",
    "        print(root.left.data)\n",
    "    if root.right.operator:\n",
    "        traverse_prefix(root.right)\n",
    "    else:\n",
    "        print(root.right.data)\n",
    "traverse_prefix(root) "
   ]
  },
  {
   "cell_type": "code",
   "execution_count": null,
   "metadata": {},
   "outputs": [],
   "source": []
  }
 ],
 "metadata": {
  "kernelspec": {
   "display_name": "Python 3",
   "language": "python",
   "name": "python3"
  },
  "language_info": {
   "codemirror_mode": {
    "name": "ipython",
    "version": 3
   },
   "file_extension": ".py",
   "mimetype": "text/x-python",
   "name": "python",
   "nbconvert_exporter": "python",
   "pygments_lexer": "ipython3",
   "version": "3.6.10"
  }
 },
 "nbformat": 4,
 "nbformat_minor": 4
}
