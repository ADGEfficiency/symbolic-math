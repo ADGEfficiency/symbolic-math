{
 "cells": [
  {
   "cell_type": "markdown",
   "metadata": {},
   "source": [
    "#### Backward generation(BWD)"
   ]
  },
  {
   "cell_type": "markdown",
   "metadata": {},
   "source": [
    "1. generate data after integral"
   ]
  },
  {
   "cell_type": "code",
   "execution_count": null,
   "metadata": {},
   "outputs": [],
   "source": [
    "import random\n",
    "from random_trees import random_binary_trees, traverse_unary_binary_prefix\n",
    "from infix_prefix import prefix_to_infix, infix_to_prefix\n",
    "import time"
   ]
  },
  {
   "cell_type": "code",
   "execution_count": null,
   "metadata": {},
   "outputs": [],
   "source": [
    "#from __future__ import division\n",
    "from sympy import *\n",
    "import numpy as np"
   ]
  },
  {
   "cell_type": "code",
   "execution_count": null,
   "metadata": {},
   "outputs": [],
   "source": [
    "x = Symbol('x', real=True)"
   ]
  },
  {
   "cell_type": "code",
   "execution_count": null,
   "metadata": {},
   "outputs": [],
   "source": [
    "_FINISH = False"
   ]
  },
  {
   "cell_type": "code",
   "execution_count": null,
   "metadata": {},
   "outputs": [],
   "source": [
    "def simplify_timeout(expr):\n",
    "    from multiprocessing import Process, Manager\n",
    "    \n",
    "    result = None\n",
    "    def f(d, expr):\n",
    "        try:\n",
    "            d['result'] = simplify(expr)\n",
    "        except:\n",
    "            d['result'] = \"Error\"\n",
    "\n",
    "    with Manager() as manager:\n",
    "        d = manager.dict()\n",
    "        p = Process(target=f, args=(d, expr))\n",
    "        p.start()\n",
    "        p.join(timeout=3)\n",
    "        if p.is_alive():\n",
    "            p.terminate()\n",
    "        else:    \n",
    "            result = d[\"result\"]\n",
    "    if result==None:\n",
    "        return expr\n",
    "    else:\n",
    "        return result"
   ]
  },
  {
   "cell_type": "code",
   "execution_count": null,
   "metadata": {},
   "outputs": [],
   "source": [
    "def parse_expr_timeout(string):\n",
    "    from multiprocessing import Process, Manager\n",
    "    from sympy.parsing.sympy_parser import parse_expr\n",
    "\n",
    "    expr = None\n",
    "    def f(d, string):\n",
    "        d['expr'] = parse_expr(string, local_dict={'x': x})\n",
    "        \n",
    "    with Manager() as manager:\n",
    "        d = manager.dict()\n",
    "        p = Process(target=f, args=(d, string))\n",
    "        p.start()\n",
    "        p.join(timeout=3)\n",
    "        if p.is_alive():\n",
    "            p.terminate()\n",
    "        else:    \n",
    "            expr = d[\"expr\"]\n",
    "    if expr==None or str(type(expr))==\"<class 'sympy.calculus.util.AccumulationBounds'>\":\n",
    "        return None\n",
    "    else:\n",
    "        return expr"
   ]
  },
  {
   "cell_type": "code",
   "execution_count": null,
   "metadata": {},
   "outputs": [],
   "source": [
    "def generate_bwd(num):\n",
    "    \n",
    "    while True:\n",
    "        if _FINISH:\n",
    "            break\n",
    "        sequence = []\n",
    "        start = time.time()\n",
    "\n",
    "        i = 1\n",
    "        while i<=num:\n",
    "            n = random.randint(1, 15)\n",
    "            root = random_binary_trees(n)\n",
    "            result = traverse_unary_binary_prefix(root)\n",
    "            if 'x' not in result:\n",
    "                continue\n",
    "            result_infix = prefix_to_infix(result) \n",
    "            result_expr = \" \".join(result_infix)\n",
    "            \n",
    "            #  convert to sympy expression\n",
    "            result_expr = parse_expr_timeout(result_expr)\n",
    "            if result_expr==None:\n",
    "                continue\n",
    "                \n",
    "            #  simplification\n",
    "            result_simp = simplify_timeout(result_expr)\n",
    "            if result_simp == \"Error\":\n",
    "                continue\n",
    "                \n",
    "            #  back to prefix\n",
    "            result_simp_prefix = infix_to_prefix(result_simp)\n",
    "            if result_simp_prefix == False:\n",
    "                continue\n",
    "                \n",
    "            #  generate target\n",
    "            try:\n",
    "                expr_diff = diff(result_simp)\n",
    "            except ValueError:\n",
    "                continue\n",
    "            expression = simplify_timeout(expr_diff)\n",
    "            expression_prefix = infix_to_prefix(expression)\n",
    "            if expression_prefix == False:\n",
    "                continue  \n",
    "            expression_prefix = \" \".join(expression_prefix)\n",
    "            result_simp_prefix = \" \".join(result_simp_prefix)\n",
    "            sequence.append(expression_prefix + \"\\t\" + result_simp_prefix + \"\\n\")\n",
    "            i += 1\n",
    "\n",
    "        end = time.time()\n",
    "        print(end - start)\n",
    "        return sequence"
   ]
  },
  {
   "cell_type": "markdown",
   "metadata": {},
   "source": [
    "### Testing ..."
   ]
  },
  {
   "cell_type": "code",
   "execution_count": null,
   "metadata": {},
   "outputs": [],
   "source": [
    "from multiprocessing.pool import ThreadPool\n",
    "\n",
    "_FINISH = False\n",
    "\n",
    "start = time.time()\n",
    "with ThreadPool(processes=4) as p:\n",
    "    out = p.map(generate_bwd, [100]*10)\n",
    "    time.sleep(40)\n",
    "    _FINISH = True\n",
    "    p.terminate()\n",
    "    p.join()\n",
    "\n",
    "print(\"Finished: \", time.time()-start)    "
   ]
  },
  {
   "cell_type": "code",
   "execution_count": null,
   "metadata": {},
   "outputs": [],
   "source": [
    "len(out)"
   ]
  },
  {
   "cell_type": "code",
   "execution_count": null,
   "metadata": {},
   "outputs": [],
   "source": [
    "file = open(r\"./data/bwd_sample1000_0.txt\", \"w+\")\n",
    "for i in range(len(out)):\n",
    "    sequence =out[i]\n",
    "    file.writelines(sequence) "
   ]
  },
  {
   "cell_type": "code",
   "execution_count": null,
   "metadata": {},
   "outputs": [],
   "source": [
    "filenames = []\n",
    "for i in range(5):\n",
    "    filename = \"./data/bwd_sample1000_\" + str(i) + \".txt\"\n",
    "    filenames.append(filename)\n",
    "with open(r\"./data/bwd_sample5000.txt\", 'w+') as outfile:\n",
    "    for fname in filenames:\n",
    "        with open(fname) as infile:\n",
    "            outfile.write(infile.read())"
   ]
  }
 ],
 "metadata": {
  "kernelspec": {
   "display_name": "Python 3",
   "language": "python",
   "name": "python3"
  },
  "language_info": {
   "codemirror_mode": {
    "name": "ipython",
    "version": 3
   },
   "file_extension": ".py",
   "mimetype": "text/x-python",
   "name": "python",
   "nbconvert_exporter": "python",
   "pygments_lexer": "ipython3",
   "version": "3.6.10"
  }
 },
 "nbformat": 4,
 "nbformat_minor": 4
}
