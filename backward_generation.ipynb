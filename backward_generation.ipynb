{
 "cells": [
  {
   "cell_type": "markdown",
   "metadata": {},
   "source": [
    "#### Backward generation(BWD)"
   ]
  },
  {
   "cell_type": "markdown",
   "metadata": {},
   "source": [
    "1. generate data after integral"
   ]
  },
  {
   "cell_type": "code",
   "execution_count": 1,
   "metadata": {},
   "outputs": [],
   "source": [
    "import time\n",
    "\n",
    "import numpy as np\n",
    "\n",
    "from backward import generate_bwd"
   ]
  },
  {
   "cell_type": "markdown",
   "metadata": {},
   "source": [
    "### Testing ..."
   ]
  },
  {
   "cell_type": "code",
   "execution_count": 2,
   "metadata": {},
   "outputs": [
    {
     "name": "stdout",
     "output_type": "stream",
     "text": [
      "    1994 ./data/bwd_sample5000.txt\n"
     ]
    }
   ],
   "source": [
    "!wc -l ./data/bwd_sample5000.txt"
   ]
  },
  {
   "cell_type": "code",
   "execution_count": 10,
   "metadata": {},
   "outputs": [
    {
     "name": "stdout",
     "output_type": "stream",
     "text": [
      "generating 512 samples in total\n",
      "process finished\n",
      "process finished\n",
      "process finished\n",
      "process finished\n",
      "process finished\n",
      "process finished\n",
      "process finished\n",
      "process finished\n",
      "done\n",
      "Finished:  100.57037425041199\n",
      "54.5629200577322\n"
     ]
    }
   ],
   "source": [
    "from multiprocessing.pool import ThreadPool\n",
    "\n",
    "_FINISH = False\n",
    "\n",
    "sequences_per_process = 64\n",
    "process_runs = 8\n",
    "\n",
    "print('generating {} samples in total'.format(\n",
    "    sequences_per_process * process_runs)\n",
    ")\n",
    "\n",
    "start = time.time()\n",
    "with ThreadPool(processes=14) as p:\n",
    "    out = p.map(generate_bwd, [sequences_per_process]*process_runs)\n",
    "    time.sleep(1)\n",
    "    print('done')\n",
    "    _FINISH = True\n",
    "    p.terminate()\n",
    "    p.join()\n",
    "\n",
    "length = time.time()-start\n",
    "print(\"Finished: \", length)  \n",
    "\n",
    "seconds_per_seq = length / (sequences_per_process * process_runs)\n",
    "print(seconds_per_seq * 1000000 / 3600)"
   ]
  },
  {
   "cell_type": "code",
   "execution_count": 11,
   "metadata": {},
   "outputs": [
    {
     "data": {
      "text/plain": [
       "8"
      ]
     },
     "execution_count": 11,
     "metadata": {},
     "output_type": "execute_result"
    }
   ],
   "source": [
    "len(out)"
   ]
  },
  {
   "cell_type": "markdown",
   "metadata": {},
   "source": [
    "<pre>\n",
    "processes=14\n",
    "sequences_per_process   process_runs         hours for 1 million \n",
    "- 16                       4                 94.28\n",
    "- 4                        16                54.06\n",
    "- 128                      4                 80.07\n",
    "- 32                       16                58.18\n",
    "- 64                       8                 54.56\n",
    "</pre>"
   ]
  },
  {
   "cell_type": "code",
   "execution_count": null,
   "metadata": {},
   "outputs": [],
   "source": [
    "file = open(r\"./data/bwd_sample2048.txt\", \"w+\")\n",
    "for i in range(len(out)):\n",
    "    sequence =out[i]\n",
    "    file.writelines(sequence) "
   ]
  },
  {
   "cell_type": "code",
   "execution_count": null,
   "metadata": {},
   "outputs": [],
   "source": [
    "filenames = []\n",
    "for i in range(1):\n",
    "    filename = \"./data/bwd_sample1028\"  + \".txt\"\n",
    "    filenames.append(filename)\n",
    "with open(r\"./data/bwd_sample5000.txt\", 'w+') as outfile:\n",
    "    for fname in filenames:\n",
    "        with open(fname) as infile:\n",
    "            outfile.write(infile.read())"
   ]
  },
  {
   "cell_type": "code",
   "execution_count": null,
   "metadata": {},
   "outputs": [],
   "source": [
    "!wc -l ./data/bwd_sample5000.txt"
   ]
  },
  {
   "cell_type": "code",
   "execution_count": null,
   "metadata": {},
   "outputs": [],
   "source": []
  }
 ],
 "metadata": {
  "kernelspec": {
   "display_name": "symbolic_math",
   "language": "python",
   "name": "symbolic_math"
  },
  "language_info": {
   "codemirror_mode": {
    "name": "ipython",
    "version": 3
   },
   "file_extension": ".py",
   "mimetype": "text/x-python",
   "name": "python",
   "nbconvert_exporter": "python",
   "pygments_lexer": "ipython3",
   "version": "3.6.8"
  }
 },
 "nbformat": 4,
 "nbformat_minor": 4
}
