{
 "cells": [
  {
   "cell_type": "markdown",
   "metadata": {},
   "source": [
    "#### Backward generation(BWD)\n",
    "- 20 data"
   ]
  },
  {
   "cell_type": "markdown",
   "metadata": {},
   "source": [
    "1. generate data after integral"
   ]
  },
  {
   "cell_type": "code",
   "execution_count": 1,
   "metadata": {},
   "outputs": [],
   "source": [
    "import random\n",
    "from  random_unary_binary_tree import random_binary_trees\n",
    "from  random_unary_binary_tree import traverse_unary_binary_prefix \n",
    "from infix_prefix import prefix_to_infix\n",
    "from infix_prefix import infix_to_prefix\n",
    "from sympy.parsing.sympy_parser import parse_expr"
   ]
  },
  {
   "cell_type": "code",
   "execution_count": 2,
   "metadata": {},
   "outputs": [],
   "source": [
    "from __future__ import division\n",
    "from sympy import *\n",
    "import numpy as np"
   ]
  },
  {
   "cell_type": "code",
   "execution_count": 3,
   "metadata": {},
   "outputs": [],
   "source": [
    "x = symbols('x', real=True)"
   ]
  },
  {
   "cell_type": "code",
   "execution_count": 4,
   "metadata": {},
   "outputs": [
    {
     "name": "stdout",
     "output_type": "stream",
     "text": [
      "4\n",
      "['*', '-1', 'atanh', '+', '9', '*', '3', 'x']\n",
      "3\n",
      "9\n",
      "5\n",
      "5\n",
      "['*', '-1', 'atan', '+', '1', 'x']\n",
      "6\n",
      "['*', 'pow', 'cos', '*', 'asin', '2', 'cos', '1', '-1', '+', '5', 'x']\n",
      "3\n",
      "6\n",
      "11\n",
      "7\n",
      "9\n",
      "['+', '*', '-1', 'x', '*', '/', '5', '4', 'pow', 'sin', '+', '5', 'cosh', 'cos', '10', '-1']\n",
      "3\n",
      "11\n",
      "['+', '6', '+', '*', '-1', 'pow', '3', '/', '1', '2', '*', '3', '*', 'x', 'log', 'cosh', 'cos', '5']\n",
      "5\n",
      "3\n",
      "8\n",
      "['+', '2', 'cos', '+', '8', '*', 'exp', '4', 'sin', '+', '4', 'x']\n"
     ]
    }
   ],
   "source": [
    "sequence = []\n",
    "\n",
    "i = 0\n",
    "while i<=5:\n",
    "    n = random.randint(1, 11)\n",
    "    print(n)\n",
    "    #n = 10\n",
    "    root = random_binary_trees(n)\n",
    "    result = traverse_unary_binary_prefix(root)\n",
    "    if 'x' not in result:\n",
    "        continue\n",
    "    result_infix = prefix_to_infix(result)\n",
    "    result_expr = \" \".join(result_infix)\n",
    "    result_simp = simplify(parse_expr(result_expr, local_dict={'x': x}))\n",
    "    result_simp_prefix = infix_to_prefix(result_simp)\n",
    "    print(result_simp_prefix)\n",
    "    if 'x' not in result_simp_prefix or not result_simp_prefix:\n",
    "        continue\n",
    "    expression = simplify(diff(result_simp, x))\n",
    "    expression_prefix = infix_to_prefix(expression)\n",
    "    sequence.append([expression_prefix, result_simp_prefix])\n",
    "    i += 1"
   ]
  },
  {
   "cell_type": "markdown",
   "metadata": {},
   "source": [
    "### To do\n",
    "- 1. change def function list to numpy\n",
    "- 2. save sequence and label to csv file"
   ]
  },
  {
   "cell_type": "markdown",
   "metadata": {},
   "source": [
    "test csvfile"
   ]
  },
  {
   "cell_type": "code",
   "execution_count": 5,
   "metadata": {},
   "outputs": [],
   "source": [
    "import numpy as np"
   ]
  },
  {
   "cell_type": "code",
   "execution_count": 6,
   "metadata": {},
   "outputs": [],
   "source": [
    "bwd_test = np.array(sequence)\n"
   ]
  },
  {
   "cell_type": "code",
   "execution_count": 61,
   "metadata": {},
   "outputs": [
    {
     "data": {
      "text/plain": [
       "array([list(['*', '3', 'pow', '+', '-1', '*', '9', 'pow', '+', '3', 'x', '2', '-1']),\n",
       "       list(['*', '-1', 'atanh', '+', '9', '*', '3', 'x'])], dtype=object)"
      ]
     },
     "execution_count": 61,
     "metadata": {},
     "output_type": "execute_result"
    }
   ],
   "source": [
    "bwd_test[0]"
   ]
  },
  {
   "cell_type": "code",
   "execution_count": 7,
   "metadata": {},
   "outputs": [
    {
     "data": {
      "text/plain": [
       "(6, 2)"
      ]
     },
     "execution_count": 7,
     "metadata": {},
     "output_type": "execute_result"
    }
   ],
   "source": [
    "bwd_test.shape"
   ]
  },
  {
   "cell_type": "code",
   "execution_count": 8,
   "metadata": {},
   "outputs": [
    {
     "data": {
      "text/plain": [
       "'/Users/wenjuanyang/symbolic_math'"
      ]
     },
     "execution_count": 8,
     "metadata": {},
     "output_type": "execute_result"
    }
   ],
   "source": [
    "pwd"
   ]
  },
  {
   "cell_type": "code",
   "execution_count": 42,
   "metadata": {},
   "outputs": [],
   "source": [
    "import numpy as np\n",
    "\n",
    "np.savetxt('bwd_test.csv', bwd_test, delimiter=',', fmt=\"%s\")"
   ]
  },
  {
   "cell_type": "code",
   "execution_count": 63,
   "metadata": {},
   "outputs": [],
   "source": [
    "import csv\n",
    "import ast\n",
    "bwd_test2 = []\n",
    "with open('bwd_test.csv', 'r') as f:\n",
    "    for line in f:\n",
    "        newline = ast.literal_eval(line)\n",
    "        bwd_test2.append(list(newline))\n",
    "    "
   ]
  },
  {
   "cell_type": "code",
   "execution_count": 64,
   "metadata": {},
   "outputs": [],
   "source": [
    "bwd_test2 = np.array(bwd_test2)"
   ]
  },
  {
   "cell_type": "code",
   "execution_count": 65,
   "metadata": {},
   "outputs": [
    {
     "data": {
      "text/plain": [
       "(6, 2)"
      ]
     },
     "execution_count": 65,
     "metadata": {},
     "output_type": "execute_result"
    }
   ],
   "source": [
    "bwd_test2.shape"
   ]
  },
  {
   "cell_type": "code",
   "execution_count": 66,
   "metadata": {},
   "outputs": [
    {
     "name": "stdout",
     "output_type": "stream",
     "text": [
      "[list(['*', '3', 'pow', '+', '-1', '*', '9', 'pow', '+', '3', 'x', '2', '-1'])\n",
      " list(['*', '-1', 'atanh', '+', '9', '*', '3', 'x'])]\n"
     ]
    }
   ],
   "source": [
    "print(bwd_test2[0])"
   ]
  },
  {
   "cell_type": "code",
   "execution_count": null,
   "metadata": {},
   "outputs": [],
   "source": []
  }
 ],
 "metadata": {
  "kernelspec": {
   "display_name": "symbolic_math",
   "language": "python",
   "name": "symbolic_math"
  },
  "language_info": {
   "codemirror_mode": {
    "name": "ipython",
    "version": 3
   },
   "file_extension": ".py",
   "mimetype": "text/x-python",
   "name": "python",
   "nbconvert_exporter": "python",
   "pygments_lexer": "ipython3",
   "version": "3.6.8"
  }
 },
 "nbformat": 4,
 "nbformat_minor": 4
}
