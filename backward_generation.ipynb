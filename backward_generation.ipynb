{
 "cells": [
  {
   "cell_type": "markdown",
   "metadata": {},
   "source": [
    "#### Backward generation(BWD)\n",
    "- 20 data"
   ]
  },
  {
   "cell_type": "markdown",
   "metadata": {},
   "source": [
    "1. generate data after integral"
   ]
  },
  {
   "cell_type": "code",
   "execution_count": 1,
   "metadata": {},
   "outputs": [],
   "source": [
    "import random\n",
    "from  random_unary_binary_tree import random_binary_trees\n",
    "from  random_unary_binary_tree import traverse_unary_binary_prefix \n",
    "from infix_prefix import prefix_to_infix\n",
    "from infix_prefix import infix_to_prefix\n",
    "from sympy.parsing.sympy_parser import parse_expr"
   ]
  },
  {
   "cell_type": "code",
   "execution_count": 2,
   "metadata": {},
   "outputs": [],
   "source": [
    "from __future__ import division\n",
    "from sympy import *"
   ]
  },
  {
   "cell_type": "code",
   "execution_count": 3,
   "metadata": {},
   "outputs": [],
   "source": [
    "x = symbols('x', real=True)"
   ]
  },
  {
   "cell_type": "code",
   "execution_count": 8,
   "metadata": {},
   "outputs": [],
   "source": [
    "sequence = []\n",
    "label = []\n",
    "i = 0\n",
    "while i<=5:\n",
    "    #n = random.randint(1, 15)\n",
    "    n = 10\n",
    "    root = random_binary_trees(n)\n",
    "    result = traverse_unary_binary_prefix(root)\n",
    "    if 'x' not in result:\n",
    "        continue\n",
    "    result_infix = prefix_to_infix(result)\n",
    "    result_expr = \" \".join(result_infix)\n",
    "    result_simp = simplify(parse_expr(result_expr, local_dict={'x': x}))\n",
    "    result_simp_prefix = infix_to_prefix(result_simp)\n",
    "    if 'x' not in result_simp_prefix or not result_simp_prefix:\n",
    "        continue\n",
    "    expression = simplify(diff(result_simp, x))\n",
    "    expression_prefix = infix_to_prefix(expression)\n",
    "    label.append(result_simp_prefix)\n",
    "    sequence.append(expression_prefix)\n",
    "    i += 1"
   ]
  },
  {
   "cell_type": "code",
   "execution_count": 9,
   "metadata": {},
   "outputs": [
    {
     "name": "stdout",
     "output_type": "stream",
     "text": [
      "['-1'] ['+', '/', '-2', '3', '+', '*', '-1', 'x', '+', '*', '-1', 'tan', '+', '1', '*', '-1', 'tan', '3', 'acosh', '*', '-1', 'sinh', '2']\n",
      "['*', '-20', '*', 'pow', '+', '-1', 'pow', 'x', '2', '/', '-1', '2', 'pow', '+', '-100', 'pow', '+', '2', '+', 'pi', '*', '-2', 'acosh', 'x', '2', '-1'] ['+', '9', '*', '-1', 'atanh', '+', '/', '1', '5', '+', '*', '/', '-1', '5', 'acosh', 'x', '*', '/', '1', '10', 'pi']\n",
      "['*', 'pow', 'x', '-2', '+', '*', '-1', 'acos', '*', '-1', 'sinh', '+', 'x', 'log', '+', '2', '*', '/', '1', '2', 'sinh', '3', '*', 'x', '*', 'pow', '2', '/', '1', '2', '*', 'pow', '+', '3', '*', '-1', 'cosh', '+', '*', '2', 'x', '*', '2', 'log', '+', '2', '*', '/', '1', '2', 'sinh', '3', '/', '-1', '2', 'cosh', '+', 'x', 'log', '+', '2', '*', '/', '1', '2', 'sinh', '3'] ['*', 'pow', 'x', '-1', 'acos', '*', '-1', 'sinh', '+', 'x', 'log', '+', '2', '*', '/', '1', '2', 'sinh', '3']\n",
      "['+', 'pow', '+', '1', 'pow', '+', '2', 'x', '2', '/', '-1', '2', '*', '/', '-4', '3', '*', 'pow', '+', '1', 'pow', 'atanh', 'x', '2', '/', '-1', '2', '*', 'pow', '+', '-1', 'pow', 'x', '2', '-1', '*', 'pow', 'asinh', 'atanh', 'x', '-2', 'cosh', '4'] ['+', '*', '/', '-4', '3', '*', 'pow', 'asinh', 'atanh', 'x', '-1', 'cosh', '4', 'asinh', '+', '2', 'x']\n",
      "['*', '-48', '*', 'pow', '+', '-1', '*', '9', '*', 'pow', '+', '-5', '*', '2', 'x', '2', 'pow', '+', '3', '*', '2', 'x', '-2', '/', '-1', '2', 'pow', '+', '3', '*', '2', 'x', '-2'] ['acosh', '*', '3', '*', 'pow', '+', '3', '*', '2', 'x', '-1', '+', '5', '*', '-2', 'x']\n"
     ]
    }
   ],
   "source": [
    "for i in range(5):\n",
    "    print(sequence[i], label[i])"
   ]
  },
  {
   "cell_type": "code",
   "execution_count": null,
   "metadata": {},
   "outputs": [],
   "source": []
  }
 ],
 "metadata": {
  "kernelspec": {
   "display_name": "symbolic_math",
   "language": "python",
   "name": "symbolic_math"
  },
  "language_info": {
   "codemirror_mode": {
    "name": "ipython",
    "version": 3
   },
   "file_extension": ".py",
   "mimetype": "text/x-python",
   "name": "python",
   "nbconvert_exporter": "python",
   "pygments_lexer": "ipython3",
   "version": "3.6.8"
  }
 },
 "nbformat": 4,
 "nbformat_minor": 4
}
