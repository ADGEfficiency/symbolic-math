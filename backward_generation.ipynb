{
 "cells": [
  {
   "cell_type": "markdown",
   "metadata": {},
   "source": [
    "#### Backward generation(BWD)\n",
    "- 20 data"
   ]
  },
  {
   "cell_type": "markdown",
   "metadata": {},
   "source": [
    "1. generate data after integral"
   ]
  },
  {
   "cell_type": "code",
   "execution_count": 8,
   "metadata": {},
   "outputs": [],
   "source": [
    "import random\n",
    "from  random_unary_binary_tree import random_binary_trees\n",
    "from  random_unary_binary_tree import traverse_unary_binary_prefix \n",
    "from infix_prefix import prefix_to_infix\n",
    "from infix_prefix import infix_to_prefix\n",
    "from sympy.parsing.sympy_parser import parse_expr\n",
    "import time"
   ]
  },
  {
   "cell_type": "code",
   "execution_count": 9,
   "metadata": {},
   "outputs": [],
   "source": [
    "from __future__ import division\n",
    "from sympy import *\n",
    "import numpy as np"
   ]
  },
  {
   "cell_type": "code",
   "execution_count": 10,
   "metadata": {},
   "outputs": [],
   "source": [
    "x = symbols('x', real=True)"
   ]
  },
  {
   "cell_type": "code",
   "execution_count": 7,
   "metadata": {},
   "outputs": [
    {
     "name": "stdout",
     "output_type": "stream",
     "text": [
      "step 1: 0.00710606575012207\n",
      "step 2: 0.0001380443572998047\n",
      "step 3: 5.984306335449219e-05\n",
      "step 4: 0.3129689693450928\n",
      "step 5: 0.006211042404174805\n",
      "['*', 'pow', 'x', '-1', '+', '*', '-1', 'cos', '1', '*', 'x', '+', '-2', 'sinh', '*', '/', '1', '12', '*', 'x', '+', '4', '+', '*', '3', 'exp', '1', '*', '3', 'acosh', '*', '-1', 'atan', '8']\n",
      "step 6: 0.5979897975921631\n",
      "step 7: 0.012323141098022461\n",
      "All step: 0.9367969036102295\n",
      "step 1: 0.0025479793548583984\n",
      "step 2: 0.00015616416931152344\n",
      "step 1: 0.0026488304138183594\n",
      "step 2: 0.00011420249938964844\n",
      "step 3: 3.4809112548828125e-05\n",
      "step 4: 0.5660851001739502\n",
      "step 5: 0.00386810302734375\n",
      "['+', '4', 'acos', 'tan', 'tanh', '+', '*', '/', '5', '3', 'sin', '3', '+', '*', '-1', '*', 'pow', 'sin', '2', '-1', 'asinh', '2', '*', '/', '1', '3', '*', 'pow', 'x', '-1', 'sin', '3']\n",
      "step 6: 1.41447114944458\n",
      "step 7: 0.01385807991027832\n",
      "All step: 2.001080274581909\n",
      "step 1: 0.004481792449951172\n",
      "step 2: 0.00010204315185546875\n",
      "step 3: 3.409385681152344e-05\n",
      "step 4: 0.8924248218536377\n",
      "step 5: 0.0019788742065429688\n",
      "['exp', '*', '2', 'tan', '+', '-4', '+', '*', '/', '1', '9', 'x', '*', '/', '8', '3', 'pow', 'tan', '1', '-1']\n",
      "step 6: 3.4035251140594482\n",
      "step 7: 0.005539894104003906\n",
      "All step: 4.308086633682251\n",
      "step 1: 0.005202054977416992\n",
      "step 2: 0.0001609325408935547\n",
      "step 3: 3.504753112792969e-05\n",
      "step 4: 0.1712949275970459\n",
      "step 5: 0.0026597976684570312\n",
      "['+', '*', '-1', 'log', '7776', '+', '*', '-5', 'asinh', '+', '1', '*', '-1', 'asinh', 'tan', '3', '+', '*', '-5', 'log', 'x', '*', '/', '5', '4', '*', 'pow', '42', '/', '1', '2']\n",
      "step 6: 0.007390260696411133\n",
      "step 7: 0.00037789344787597656\n",
      "All step: 0.18712091445922852\n"
     ]
    }
   ],
   "source": [
    "sequence = []\n",
    "\n",
    "i = 0\n",
    "while i<=3:\n",
    "    #n = random.randint(1, 11)\n",
    "    #print(n)\n",
    "    n = 15\n",
    "    start = time.time()\n",
    "    root = random_binary_trees(n)\n",
    "    \n",
    "    time1 = time.time()\n",
    "    print(\"step 1:\", time1 - start)\n",
    "    \n",
    "    result = traverse_unary_binary_prefix(root)\n",
    "\n",
    "    time2 = time.time()\n",
    "    print(\"step 2:\", time2 - time1)\n",
    "    \n",
    "    if 'x' not in result:\n",
    "        continue\n",
    "    result_infix = prefix_to_infix(result)\n",
    "    \n",
    "    time3 = time.time()\n",
    "    print(\"step 3:\", time3 - time2)    \n",
    "    \n",
    "    result_expr = \" \".join(result_infix)\n",
    "    result_simp = simplify(parse_expr(result_expr, local_dict={'x': x}))\n",
    "    \n",
    "    time4 = time.time()\n",
    "    print(\"step 4:\", time4 - time3) \n",
    "    \n",
    "    result_simp_prefix = infix_to_prefix(result_simp)\n",
    "    \n",
    "    time5 = time.time()\n",
    "    print(\"step 5:\", time5 - time4) \n",
    "    \n",
    "    print(result_simp_prefix)\n",
    "    if 'x' not in result_simp_prefix or not result_simp_prefix:\n",
    "        continue\n",
    "    expression = simplify(diff(result_simp, x))\n",
    "\n",
    "    time6 = time.time()\n",
    "    print(\"step 6:\", time6 - time5) \n",
    "    \n",
    "    expression_prefix = infix_to_prefix(expression)\n",
    "    \n",
    "    time7 = time.time()\n",
    "    print(\"step 7:\", time7 - time6) \n",
    "    print(\"All step:\", time7 - start)\n",
    "    \n",
    "    sequence.append([expression_prefix, result_simp_prefix])\n",
    "    i += 1"
   ]
  },
  {
   "cell_type": "markdown",
   "metadata": {},
   "source": [
    "### To do\n",
    "- 1. change def function list to numpy\n",
    "- 2. save sequence and label to csv file"
   ]
  },
  {
   "cell_type": "markdown",
   "metadata": {},
   "source": [
    "test csvfile"
   ]
  },
  {
   "cell_type": "code",
   "execution_count": 5,
   "metadata": {},
   "outputs": [],
   "source": [
    "import numpy as np"
   ]
  },
  {
   "cell_type": "code",
   "execution_count": 6,
   "metadata": {},
   "outputs": [],
   "source": [
    "bwd_test = np.array(sequence)\n"
   ]
  },
  {
   "cell_type": "code",
   "execution_count": 7,
   "metadata": {},
   "outputs": [
    {
     "data": {
      "text/plain": [
       "array([list(['/', '-1', '15']),\n",
       "       list(['+', '/', '-1', '5', '*', '/', '-1', '15', 'x'])],\n",
       "      dtype=object)"
      ]
     },
     "execution_count": 7,
     "metadata": {},
     "output_type": "execute_result"
    }
   ],
   "source": [
    "bwd_test[0]"
   ]
  },
  {
   "cell_type": "code",
   "execution_count": 8,
   "metadata": {},
   "outputs": [
    {
     "data": {
      "text/plain": [
       "(6, 2)"
      ]
     },
     "execution_count": 8,
     "metadata": {},
     "output_type": "execute_result"
    }
   ],
   "source": [
    "bwd_test.shape"
   ]
  },
  {
   "cell_type": "code",
   "execution_count": 9,
   "metadata": {},
   "outputs": [
    {
     "data": {
      "text/plain": [
       "'/Users/wenjuanyang/symbolic_math'"
      ]
     },
     "execution_count": 9,
     "metadata": {},
     "output_type": "execute_result"
    }
   ],
   "source": [
    "pwd"
   ]
  },
  {
   "cell_type": "code",
   "execution_count": 21,
   "metadata": {},
   "outputs": [],
   "source": [
    "li = []\n",
    "file = open(r\"bwd_test2.txt\", \"w+\")\n",
    "for ele in bwd_test:\n",
    "    new_ele1 = \" \".join(ele[0])\n",
    "    new_ele2 = \" \".join(ele[1])\n",
    "    new_ele = new_ele1 + \"\\t\" + new_ele2 + \"\\n\"\n",
    "    li.append(new_ele)\n",
    "file.writelines(li)    "
   ]
  },
  {
   "cell_type": "code",
   "execution_count": 22,
   "metadata": {},
   "outputs": [
    {
     "data": {
      "text/plain": [
       "['/ -1 15\\t+ / -1 5 * / -1 15 x\\n',\n",
       " 'exp x\\t+ 1 exp x\\n',\n",
       " 'pow + 1 * -1 pow x 2 / -1 2\\t+ -10 + asin x cos 2\\n',\n",
       " '* 2 * pow x -2 pow + * pi log 2 -1\\t* -2 * pow x -1 pow + * pi log 2 -1\\n',\n",
       " '1\\t+ 37 x\\n',\n",
       " '/ -1 4\\t* / -1 4 x\\n']"
      ]
     },
     "execution_count": 22,
     "metadata": {},
     "output_type": "execute_result"
    }
   ],
   "source": [
    "li"
   ]
  },
  {
   "cell_type": "code",
   "execution_count": 10,
   "metadata": {},
   "outputs": [],
   "source": [
    "import numpy as np\n",
    "\n",
    "np.savetxt('bwd_test.csv', bwd_test, delimiter=',', fmt=\"%s\")"
   ]
  },
  {
   "cell_type": "code",
   "execution_count": 63,
   "metadata": {},
   "outputs": [],
   "source": [
    "import csv\n",
    "import ast\n",
    "bwd_test2 = []\n",
    "with open('bwd_test.csv', 'r') as f:\n",
    "    for line in f:\n",
    "        newline = ast.literal_eval(line)\n",
    "        bwd_test2.append(list(newline))\n",
    "    "
   ]
  },
  {
   "cell_type": "code",
   "execution_count": 64,
   "metadata": {},
   "outputs": [],
   "source": [
    "bwd_test2 = np.array(bwd_test2)"
   ]
  },
  {
   "cell_type": "code",
   "execution_count": 65,
   "metadata": {},
   "outputs": [
    {
     "data": {
      "text/plain": [
       "(6, 2)"
      ]
     },
     "execution_count": 65,
     "metadata": {},
     "output_type": "execute_result"
    }
   ],
   "source": [
    "bwd_test2.shape"
   ]
  },
  {
   "cell_type": "code",
   "execution_count": 66,
   "metadata": {},
   "outputs": [
    {
     "name": "stdout",
     "output_type": "stream",
     "text": [
      "[list(['*', '3', 'pow', '+', '-1', '*', '9', 'pow', '+', '3', 'x', '2', '-1'])\n",
      " list(['*', '-1', 'atanh', '+', '9', '*', '3', 'x'])]\n"
     ]
    }
   ],
   "source": [
    "print(bwd_test2[0])"
   ]
  },
  {
   "cell_type": "code",
   "execution_count": null,
   "metadata": {},
   "outputs": [],
   "source": []
  }
 ],
 "metadata": {
  "kernelspec": {
   "display_name": "symbolic_math",
   "language": "python",
   "name": "symbolic_math"
  },
  "language_info": {
   "codemirror_mode": {
    "name": "ipython",
    "version": 3
   },
   "file_extension": ".py",
   "mimetype": "text/x-python",
   "name": "python",
   "nbconvert_exporter": "python",
   "pygments_lexer": "ipython3",
   "version": "3.6.8"
  }
 },
 "nbformat": 4,
 "nbformat_minor": 4
}
