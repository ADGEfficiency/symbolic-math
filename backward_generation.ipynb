{
 "cells": [
  {
   "cell_type": "markdown",
   "metadata": {},
   "source": [
    "#### Backward generation(BWD)"
   ]
  },
  {
   "cell_type": "markdown",
   "metadata": {},
   "source": [
    "1. generate data after integral"
   ]
  },
  {
   "cell_type": "code",
   "execution_count": null,
   "metadata": {},
   "outputs": [],
   "source": [
    "import time\n",
    "\n",
    "import numpy as np\n",
    "\n",
    "from backward import generate_bwd"
   ]
  },
  {
   "cell_type": "markdown",
   "metadata": {},
   "source": [
    "### Testing ..."
   ]
  },
  {
   "cell_type": "code",
   "execution_count": null,
   "metadata": {},
   "outputs": [],
   "source": [
    "!wc -l ./data/bwd_sample5000.txt"
   ]
  },
  {
   "cell_type": "code",
   "execution_count": null,
   "metadata": {},
   "outputs": [],
   "source": [
    "from multiprocessing.pool import ThreadPool\n",
    "\n",
    "_FINISH = False\n",
    "\n",
    "sequences_per_process = 128\n",
    "process_runs = 16\n",
    "\n",
    "print('generating {} samples in total'.format(\n",
    "    sequences_per_process * process_runs)\n",
    ")\n",
    "\n",
    "start = time.time()\n",
    "with ThreadPool(processes=8) as p:\n",
    "    out = p.map(generate_bwd, [sequences_per_process]*process_runs)\n",
    "    time.sleep(1)\n",
    "    print('done')\n",
    "    _FINISH = True\n",
    "    p.terminate()\n",
    "    p.join()\n",
    "\n",
    "print(\"Finished: \", time.time()-start)    "
   ]
  },
  {
   "cell_type": "code",
   "execution_count": null,
   "metadata": {},
   "outputs": [],
   "source": [
    "len(out)"
   ]
  },
  {
   "cell_type": "code",
   "execution_count": null,
   "metadata": {},
   "outputs": [],
   "source": [
    "file = open(r\"./data/bwd_sample1000_0.txt\", \"w+\")\n",
    "for i in range(len(out)):\n",
    "    sequence =out[i]\n",
    "    file.writelines(sequence) "
   ]
  },
  {
   "cell_type": "code",
   "execution_count": null,
   "metadata": {},
   "outputs": [],
   "source": [
    "filenames = []\n",
    "for i in range(5):\n",
    "    filename = \"./data/bwd_sample1000_\" + str(i) + \".txt\"\n",
    "    filenames.append(filename)\n",
    "with open(r\"./data/bwd_sample5000.txt\", 'w+') as outfile:\n",
    "    for fname in filenames:\n",
    "        with open(fname) as infile:\n",
    "            outfile.write(infile.read())"
   ]
  },
  {
   "cell_type": "code",
   "execution_count": null,
   "metadata": {},
   "outputs": [],
   "source": [
    "!wc -l ./data/bwd_sample5000.txt"
   ]
  },
  {
   "cell_type": "code",
   "execution_count": null,
   "metadata": {},
   "outputs": [],
   "source": []
  }
 ],
 "metadata": {
  "kernelspec": {
   "display_name": "Python 3",
   "language": "python",
   "name": "python3"
  },
  "language_info": {
   "codemirror_mode": {
    "name": "ipython",
    "version": 3
   },
   "file_extension": ".py",
   "mimetype": "text/x-python",
   "name": "python",
   "nbconvert_exporter": "python",
   "pygments_lexer": "ipython3",
   "version": "3.7.2"
  }
 },
 "nbformat": 4,
 "nbformat_minor": 4
}
