{
 "cells": [
  {
   "cell_type": "markdown",
   "metadata": {},
   "source": [
    "#### start from baseline model"
   ]
  },
  {
   "cell_type": "code",
   "execution_count": null,
   "metadata": {},
   "outputs": [],
   "source": [
    "#!pip install tensorflow-addons\n",
    "        "
   ]
  },
  {
   "cell_type": "code",
   "execution_count": null,
   "metadata": {},
   "outputs": [],
   "source": [
    "#!pip install tensorflow"
   ]
  },
  {
   "cell_type": "code",
   "execution_count": 1,
   "metadata": {},
   "outputs": [
    {
     "name": "stdout",
     "output_type": "stream",
     "text": [
      "2.1.0\n"
     ]
    }
   ],
   "source": [
    "import tensorflow as tf\n",
    "import tensorflow_addons as tfa\n",
    "print(tf.__version__)\n",
    "from sklearn.model_selection import train_test_split\n",
    "import os\n",
    "import io\n",
    "import numpy as np\n",
    "import re\n",
    "import unicodedata\n",
    "import urllib3\n",
    "import shutil\n",
    "import zipfile\n",
    "import itertools\n",
    "#from google.colab import drive"
   ]
  },
  {
   "cell_type": "markdown",
   "metadata": {},
   "source": [
    "### Create Dataset"
   ]
  },
  {
   "cell_type": "code",
   "execution_count": 85,
   "metadata": {},
   "outputs": [],
   "source": [
    "path_to_file = \"./bwd_sample100.txt\""
   ]
  },
  {
   "cell_type": "code",
   "execution_count": 86,
   "metadata": {},
   "outputs": [],
   "source": [
    "# Converts the unicode file to ascii\n",
    "def unicode_to_ascii(s):\n",
    "  return ''.join(c for c in unicodedata.normalize('NFD', s)\n",
    "      if unicodedata.category(c) != 'Mn')\n",
    "\n",
    "\n",
    "def preprocess_sentence(w):\n",
    "  w = unicode_to_ascii(w.lower().strip())\n",
    "\n",
    "\n",
    "  # adding a start and an end token to the sentence\n",
    "  # so that the model know when to start and stop predicting.\n",
    "  w = '<start> ' + w + ' <end>'\n",
    "  return w"
   ]
  },
  {
   "cell_type": "code",
   "execution_count": 87,
   "metadata": {},
   "outputs": [],
   "source": [
    "# 1. Remove the accents\n",
    "# 2. Clean the sentences\n",
    "# 3. Return word pairs in the format: [equation, integral]\n",
    "def create_dataset(path, num_examples):\n",
    "  lines = io.open(path, encoding='UTF-8').read().strip().split('\\n')\n",
    "\n",
    "  word_pairs = [[preprocess_sentence(w) for w in l.split('\\t')]  for l in lines[:num_examples]]\n",
    "\n",
    "  return zip(*word_pairs)"
   ]
  },
  {
   "cell_type": "code",
   "execution_count": 88,
   "metadata": {},
   "outputs": [
    {
     "name": "stdout",
     "output_type": "stream",
     "text": [
      "<start> * 4 * acos 3 cosh x <end>\n",
      "<start> * 2 * + 8 + * 2 sinh x * + 4 * -1 pi tan / 41 2 acos 3 <end>\n"
     ]
    }
   ],
   "source": [
    "eq, intgr = create_dataset(path_to_file, None)\n",
    "print(eq[-1])\n",
    "print(intgr[-1])"
   ]
  },
  {
   "cell_type": "code",
   "execution_count": 89,
   "metadata": {},
   "outputs": [],
   "source": [
    "X_text, Y_text = create_dataset(path_to_file, None)"
   ]
  },
  {
   "cell_type": "code",
   "execution_count": 90,
   "metadata": {},
   "outputs": [],
   "source": [
    "# create a function to tokenize words into index using inbuild tokenizer vocabulory\n",
    "def tokenize(input):\n",
    "   tokenizer = tf.keras.preprocessing.text.Tokenizer(filters='')\n",
    "   tokenizer.fit_on_texts(input)\n",
    "   sequences = tokenizer.texts_to_sequences(input)\n",
    "  # print(max_len(sequences))\n",
    "   sequences = tf.keras.preprocessing.sequence.pad_sequences(sequences, padding='post')\n",
    "   return  sequences, tokenizer"
   ]
  },
  {
   "cell_type": "code",
   "execution_count": 91,
   "metadata": {},
   "outputs": [],
   "source": [
    "def max_len(tensor):\n",
    "    #print( np.argmax([len(t) for t in tensor]))\n",
    "    return max( len(t) for t in tensor)"
   ]
  },
  {
   "cell_type": "code",
   "execution_count": 92,
   "metadata": {},
   "outputs": [],
   "source": [
    "# Tokenize each word into index and return the tokenized list and tokenizer\n",
    "X , X_tokenizer = tokenize(X_text)\n",
    "Y, Y_tokenizer = tokenize(Y_text)\n",
    "X_train,  X_test, Y_train, Y_test = train_test_split(X,Y,test_size=0.2)\n",
    "\n",
    "Tx = max_len(X)\n",
    "Ty = max_len(Y)  "
   ]
  },
  {
   "cell_type": "code",
   "execution_count": 93,
   "metadata": {},
   "outputs": [
    {
     "data": {
      "text/plain": [
       "(80, 152)"
      ]
     },
     "execution_count": 93,
     "metadata": {},
     "output_type": "execute_result"
    }
   ],
   "source": [
    "X_train.shape"
   ]
  },
  {
   "cell_type": "code",
   "execution_count": 94,
   "metadata": {},
   "outputs": [
    {
     "data": {
      "text/plain": [
       "152"
      ]
     },
     "execution_count": 94,
     "metadata": {},
     "output_type": "execute_result"
    }
   ],
   "source": [
    "Tx"
   ]
  },
  {
   "cell_type": "code",
   "execution_count": 95,
   "metadata": {},
   "outputs": [
    {
     "name": "stdout",
     "output_type": "stream",
     "text": [
      "Max length  equation sentence denoted as Tx :  152\n",
      "Max length intergral sentence denoted as Ty:  40\n"
     ]
    }
   ],
   "source": [
    "print(\"Max length  equation sentence denoted as Tx : \", Tx)\n",
    "print(\"Max length intergral sentence denoted as Ty: \", Ty)"
   ]
  },
  {
   "cell_type": "code",
   "execution_count": 96,
   "metadata": {},
   "outputs": [
    {
     "name": "stdout",
     "output_type": "stream",
     "text": [
      "input_vocab_size :  62\n",
      "output_vocab_size :  66\n"
     ]
    }
   ],
   "source": [
    "X_tokenizer.word_index['<start>'] #'<start>': 2   # tokenize by frequency\n",
    "input_vocab_size = len(X_tokenizer.word_index)+1  # add 1 for 0 sequence character\n",
    "output_vocab_size = len(Y_tokenizer.word_index)+ 1\n",
    "print(\"input_vocab_size : \", input_vocab_size)\n",
    "print(\"output_vocab_size : \" ,output_vocab_size)"
   ]
  },
  {
   "cell_type": "code",
   "execution_count": 97,
   "metadata": {},
   "outputs": [
    {
     "data": {
      "text/plain": [
       "{'*': 1,\n",
       " '+': 2,\n",
       " 'pow': 3,\n",
       " 'x': 4,\n",
       " '-1': 5,\n",
       " '2': 6,\n",
       " '<start>': 7,\n",
       " '/': 8,\n",
       " '<end>': 9,\n",
       " '1': 10,\n",
       " '3': 11,\n",
       " '5': 12,\n",
       " '4': 13,\n",
       " '-2': 14,\n",
       " 'cos': 15,\n",
       " 'sinh': 16,\n",
       " 'exp': 17,\n",
       " 'cosh': 18,\n",
       " 'tan': 19,\n",
       " '-3': 20,\n",
       " 'sin': 21,\n",
       " 'tanh': 22,\n",
       " '-4': 23,\n",
       " '0': 24,\n",
       " 'log': 25,\n",
       " 'asin': 26,\n",
       " 'acos': 27,\n",
       " '-5': 28,\n",
       " 'atan': 29,\n",
       " 'acosh': 30,\n",
       " '-10': 31,\n",
       " 'atanh': 32,\n",
       " 'asinh': 33,\n",
       " '6': 34,\n",
       " '20': 35,\n",
       " '9': 36,\n",
       " '16': 37,\n",
       " 'pi': 38,\n",
       " '8': 39,\n",
       " '15': 40,\n",
       " '-20': 41,\n",
       " '-15': 42,\n",
       " '-25': 43,\n",
       " '-8': 44,\n",
       " '25': 45,\n",
       " '7': 46,\n",
       " '18': 47,\n",
       " '-17': 48,\n",
       " '-6': 49,\n",
       " '1250': 50,\n",
       " '100': 51,\n",
       " '-18': 52,\n",
       " '-16': 53,\n",
       " 'sign(x)': 54,\n",
       " '10': 55,\n",
       " '21': 56,\n",
       " '-9': 57,\n",
       " '-200': 58,\n",
       " '80': 59,\n",
       " '24': 60,\n",
       " '-60': 61}"
      ]
     },
     "execution_count": 97,
     "metadata": {},
     "output_type": "execute_result"
    }
   ],
   "source": [
    "X_tokenizer.word_index"
   ]
  },
  {
   "cell_type": "code",
   "execution_count": 98,
   "metadata": {},
   "outputs": [
    {
     "data": {
      "text/plain": [
       "(80, 152)"
      ]
     },
     "execution_count": 98,
     "metadata": {},
     "output_type": "execute_result"
    }
   ],
   "source": [
    "X_train.shape"
   ]
  },
  {
   "cell_type": "code",
   "execution_count": 47,
   "metadata": {},
   "outputs": [
    {
     "data": {
      "text/plain": [
       "array([[ 1,  5,  6,  5,  4,  8, 13,  4,  9,  5, 14, 15,  6,  3,  2],\n",
       "       [ 1,  4,  9, 10,  5,  3,  4,  8,  6,  7,  3,  6,  2,  0,  0],\n",
       "       [ 1,  7,  3, 11,  2,  0,  0,  0,  0,  0,  0,  0,  0,  0,  0],\n",
       "       [ 1, 10,  2,  0,  0,  0,  0,  0,  0,  0,  0,  0,  0,  0,  0]],\n",
       "      dtype=int32)"
      ]
     },
     "execution_count": 47,
     "metadata": {},
     "output_type": "execute_result"
    }
   ],
   "source": [
    "X_train"
   ]
  },
  {
   "cell_type": "markdown",
   "metadata": {},
   "source": [
    "### Create a tf.data dataset"
   ]
  },
  {
   "cell_type": "code",
   "execution_count": 99,
   "metadata": {},
   "outputs": [],
   "source": [
    "BATCH_SIZE = 10\n",
    "BUFFER_SIZE = len(X_train)\n",
    "steps_per_epoch = BUFFER_SIZE//BATCH_SIZE\n",
    "embedding_dims = 256\n",
    "rnn_units = 1024\n",
    "dense_units = 1024\n",
    "Dtype = tf.float32   #used to initialize DecoderCell Zero state"
   ]
  },
  {
   "cell_type": "code",
   "execution_count": 100,
   "metadata": {},
   "outputs": [
    {
     "name": "stdout",
     "output_type": "stream",
     "text": [
      "(10, 152)\n",
      "(10, 40)\n"
     ]
    }
   ],
   "source": [
    "dataset = tf.data.Dataset.from_tensor_slices((X_train, Y_train)).shuffle(BUFFER_SIZE).batch(BATCH_SIZE, drop_remainder=True)\n",
    "example_X, example_Y = next(iter(dataset))\n",
    "print(example_X.shape) \n",
    "print(example_Y.shape) "
   ]
  },
  {
   "cell_type": "code",
   "execution_count": 101,
   "metadata": {},
   "outputs": [
    {
     "name": "stdout",
     "output_type": "stream",
     "text": [
      "(10, 152)\n",
      "(10, 40)\n"
     ]
    }
   ],
   "source": [
    "dataset_test = tf.data.Dataset.from_tensor_slices((X_test, Y_test)).shuffle(BUFFER_SIZE).batch(BATCH_SIZE, drop_remainder=True)\n",
    "example_X, example_Y = next(iter(dataset))\n",
    "print(example_X.shape) \n",
    "print(example_Y.shape)"
   ]
  },
  {
   "cell_type": "markdown",
   "metadata": {},
   "source": [
    "### Creating Encoder-Decoder Model based on tfa.seq2seq module"
   ]
  },
  {
   "cell_type": "markdown",
   "metadata": {},
   "source": [
    "### Define Model\n",
    "\n",
    "The encoder network consists of an encoder embedding layer and a LSTM layer.\n",
    "\n",
    "The decoder network encompasses both decoder and attention mechanism.\n",
    "\n",
    "The attention uses LuongAttention."
   ]
  },
  {
   "cell_type": "code",
   "execution_count": 102,
   "metadata": {},
   "outputs": [],
   "source": [
    "#ENCODER\n",
    "class EncoderNetwork(tf.keras.Model):\n",
    "    def __init__(self,input_vocab_size,embedding_dims, rnn_units ):\n",
    "        super().__init__()\n",
    "        self.encoder_embedding = tf.keras.layers.Embedding(input_dim=input_vocab_size,\n",
    "                                                           output_dim=embedding_dims)\n",
    "        self.encoder_rnnlayer = tf.keras.layers.LSTM(rnn_units,return_sequences=True, \n",
    "                                                     return_state=True )\n",
    "    \n",
    "#DECODER\n",
    "class DecoderNetwork(tf.keras.Model):\n",
    "    def __init__(self,output_vocab_size, embedding_dims, rnn_units):\n",
    "        super().__init__()\n",
    "        self.decoder_embedding = tf.keras.layers.Embedding(input_dim=output_vocab_size,\n",
    "                                                           output_dim=embedding_dims) \n",
    "        self.dense_layer = tf.keras.layers.Dense(output_vocab_size)\n",
    "        self.decoder_rnncell = tf.keras.layers.LSTMCell(rnn_units)\n",
    "        # Sampler\n",
    "        self.sampler = tfa.seq2seq.sampler.TrainingSampler()\n",
    "        # Create attention mechanism with memory = None\n",
    "        self.attention_mechanism = self.build_attention_mechanism(dense_units,None,BATCH_SIZE*[Tx])\n",
    "        self.rnn_cell =  self.build_rnn_cell(BATCH_SIZE)\n",
    "        self.decoder = tfa.seq2seq.BasicDecoder(self.rnn_cell, sampler= self.sampler,\n",
    "                                                output_layer=self.dense_layer)\n",
    "\n",
    "    def build_attention_mechanism(self, units,memory, memory_sequence_length):\n",
    "        return tfa.seq2seq.LuongAttention(units, memory = memory, \n",
    "                                          memory_sequence_length=memory_sequence_length)\n",
    "        #return tfa.seq2seq.BahdanauAttention(units, memory = memory, memory_sequence_length=memory_sequence_length)\n",
    "\n",
    "    # wrap decodernn cell  \n",
    "    def build_rnn_cell(self, batch_size ):\n",
    "        rnn_cell = tfa.seq2seq.AttentionWrapper(self.decoder_rnncell, self.attention_mechanism,\n",
    "                                                attention_layer_size=dense_units)\n",
    "        return rnn_cell\n",
    "    \n",
    "    def build_decoder_initial_state(self, batch_size, encoder_state,Dtype):\n",
    "        decoder_initial_state = self.rnn_cell.get_initial_state(batch_size = batch_size, \n",
    "                                                                dtype = Dtype)\n",
    "        decoder_initial_state = decoder_initial_state.clone(cell_state=encoder_state) \n",
    "        return decoder_initial_state\n",
    "\n",
    "\n",
    "\n",
    "encoderNetwork = EncoderNetwork(input_vocab_size,embedding_dims, rnn_units)\n",
    "decoderNetwork = DecoderNetwork(output_vocab_size,embedding_dims, rnn_units)\n"
   ]
  },
  {
   "cell_type": "markdown",
   "metadata": {},
   "source": [
    "second way of define encoder and decoder"
   ]
  },
  {
   "cell_type": "code",
   "execution_count": 103,
   "metadata": {},
   "outputs": [],
   "source": [
    "class Encoder(tf.keras.Model):\n",
    "  def __init__(self, vocab_size, embedding_dim, enc_units, batch_sz):\n",
    "    super(Encoder, self).__init__()\n",
    "    self.batch_sz = batch_sz\n",
    "    self.enc_units = enc_units\n",
    "    self.embedding = tf.keras.layers.Embedding(vocab_size, embedding_dim)\n",
    "    self.lstm = tf.keras.layers.LSTM(self.enc_units,\n",
    "                                   return_sequences=True,\n",
    "                                   return_state=True\n",
    "                                    )\n",
    "\n",
    "  def __call__(self, x, initial_state):\n",
    "    x = self.embedding(x)\n",
    "    output, state_h, state_cell = self.lstm(x, initial_state = initial_state)\n",
    "    return output, state_h, state_cell\n",
    "\n",
    "  def initialize_hidden_state(self):\n",
    "    return  [tf.zeros((self.batch_sz, self.enc_units)), tf.zeros((self.batch_sz, self.enc_units))]"
   ]
  },
  {
   "cell_type": "code",
   "execution_count": 104,
   "metadata": {},
   "outputs": [
    {
     "name": "stdout",
     "output_type": "stream",
     "text": [
      "Encoder output shape: (batch size, sequence length, units) (10, 152, 1024)\n",
      "Encoder Hidden state shape: (batch size, units) (10, 1024)\n",
      "Encoder cell state shape: (batch size, units) (10, 1024)\n"
     ]
    }
   ],
   "source": [
    "encoder = Encoder(input_vocab_size, embedding_dims, rnn_units, BATCH_SIZE)\n",
    "\n",
    "# sample input\n",
    "initial_state = encoder.initialize_hidden_state()\n",
    "sample_output, sample_h, sample_c = encoder(example_X, initial_state)\n",
    "print ('Encoder output shape: (batch size, sequence length, units) {}'.format(sample_output.shape))\n",
    "print ('Encoder Hidden state shape: (batch size, units) {}'.format(sample_h.shape))\n",
    "print ('Encoder cell state shape: (batch size, units) {}'.format(sample_c.shape))"
   ]
  },
  {
   "cell_type": "code",
   "execution_count": 105,
   "metadata": {},
   "outputs": [],
   "source": [
    "class BahdanauAttention(tf.keras.layers.Layer):\n",
    "  def __init__(self, units):\n",
    "    super(BahdanauAttention, self).__init__()\n",
    "    self.W1 = tf.keras.layers.Dense(units)\n",
    "    self.W2 = tf.keras.layers.Dense(units)\n",
    "    self.V = tf.keras.layers.Dense(1)\n",
    "\n",
    "  def __call__(self, query, values):\n",
    "    # hidden shape == (batch_size, hidden size)\n",
    "    # hidden_with_time_axis shape == (batch_size, 1, hidden size)\n",
    "    # we are doing this to perform addition to calculate the score\n",
    "    hidden_with_time_axis = tf.expand_dims(query, 1)\n",
    "\n",
    "    # score shape == (batch_size, max_length, 1)\n",
    "    # we get 1 at the last axis because we are applying score to self.V\n",
    "    # the shape of the tensor before applying self.V is (batch_size, max_length, units)\n",
    "    score = self.V(tf.nn.tanh(\n",
    "        self.W1(values) + self.W2(hidden_with_time_axis)))\n",
    "\n",
    "    # attention_weights shape == (batch_size, max_length, 1)\n",
    "    attention_weights = tf.nn.softmax(score, axis=1)\n",
    "\n",
    "    # context_vector shape after sum == (batch_size, hidden_size)\n",
    "    context_vector = attention_weights * values\n",
    "    context_vector = tf.reduce_sum(context_vector, axis=1)\n",
    "\n",
    "    return context_vector, attention_weights"
   ]
  },
  {
   "cell_type": "code",
   "execution_count": 106,
   "metadata": {},
   "outputs": [
    {
     "name": "stdout",
     "output_type": "stream",
     "text": [
      "Attention result shape: (batch size, units) (10, 1024)\n",
      "Attention weights shape: (batch_size, sequence_length, 1) (10, 152, 1)\n"
     ]
    }
   ],
   "source": [
    "attention_layer = BahdanauAttention(10)\n",
    "attention_result, attention_weights = attention_layer(sample_h, sample_output)\n",
    "\n",
    "print(\"Attention result shape: (batch size, units) {}\".format(attention_result.shape))\n",
    "print(\"Attention weights shape: (batch_size, sequence_length, 1) {}\".format(attention_weights.shape))"
   ]
  },
  {
   "cell_type": "code",
   "execution_count": 107,
   "metadata": {},
   "outputs": [
    {
     "name": "stdout",
     "output_type": "stream",
     "text": [
      "Attention result shape: (batch size, units) (10, 1024)\n",
      "Attention weights shape: (batch_size, sequence_length, 1) (10, 152, 1)\n"
     ]
    }
   ],
   "source": [
    "attention_layer = BahdanauAttention(10)\n",
    "attention_result, attention_weights = attention_layer(sample_h, sample_output)\n",
    "\n",
    "print(\"Attention result shape: (batch size, units) {}\".format(attention_result.shape))\n",
    "print(\"Attention weights shape: (batch_size, sequence_length, 1) {}\".format(attention_weights.shape))"
   ]
  },
  {
   "cell_type": "code",
   "execution_count": 108,
   "metadata": {},
   "outputs": [
    {
     "data": {
      "text/plain": [
       "TensorShape([10, 152, 1024])"
      ]
     },
     "execution_count": 108,
     "metadata": {},
     "output_type": "execute_result"
    }
   ],
   "source": [
    "sample_output.shape"
   ]
  },
  {
   "cell_type": "code",
   "execution_count": 109,
   "metadata": {},
   "outputs": [
    {
     "data": {
      "text/plain": [
       "TensorShape([10, 1, 1024])"
      ]
     },
     "execution_count": 109,
     "metadata": {},
     "output_type": "execute_result"
    }
   ],
   "source": [
    "tf.expand_dims(sample_h, 1).shape"
   ]
  },
  {
   "cell_type": "code",
   "execution_count": 110,
   "metadata": {},
   "outputs": [],
   "source": [
    "class Decoder(tf.keras.Model):\n",
    "  def __init__(self, vocab_size, embedding_dim, dec_units, batch_sz):\n",
    "    super(Decoder, self).__init__()\n",
    "    self.batch_sz = batch_sz\n",
    "    self.dec_units = dec_units\n",
    "    self.embedding = tf.keras.layers.Embedding(vocab_size, embedding_dim)\n",
    "    self.lstm = tf.keras.layers.LSTM(self.dec_units,\n",
    "                                   return_sequences=True,\n",
    "                                   return_state=True,\n",
    "                                   )\n",
    "    self.fc = tf.keras.layers.Dense(vocab_size)\n",
    "\n",
    "    # used for attention\n",
    "    self.attention = BahdanauAttention(self.dec_units)\n",
    "\n",
    "  def __call__(self, x, hidden, enc_output):\n",
    "    # enc_output shape == (batch_size, max_length, hidden_size)\n",
    "    context_vector, attention_weights = self.attention(hidden, enc_output)\n",
    "     \n",
    "    # x shape after passing through embedding == (batch_size, 1, embedding_dim)\n",
    "    x = self.embedding(x)\n",
    "\n",
    "    # x shape after concatenation == (batch_size, 1, embedding_dim + hidden_size)\n",
    "    x = tf.concat([tf.expand_dims(context_vector, 1), x], axis=-1)\n",
    "\n",
    "    # passing the concatenated vector to the lstm\n",
    "    output, state_h, state_c = self.lstm(x)\n",
    "\n",
    "    # output shape == (batch_size * 1, hidden_size)\n",
    "    output = tf.reshape(output, (-1, output.shape[2]))\n",
    "\n",
    "    # output shape == (batch_size, vocab)\n",
    "    x = self.fc(output)\n",
    "\n",
    "    return x, state_h, attention_weights"
   ]
  },
  {
   "cell_type": "code",
   "execution_count": 111,
   "metadata": {},
   "outputs": [
    {
     "name": "stdout",
     "output_type": "stream",
     "text": [
      "Decoder output shape: (batch_size, vocab size) (10, 66)\n"
     ]
    }
   ],
   "source": [
    "decoder = Decoder(output_vocab_size, embedding_dims, rnn_units, BATCH_SIZE)\n",
    "\n",
    "sample_decoder_output, _, _ = decoder(tf.random.uniform((BATCH_SIZE, 1)),\n",
    "                                      sample_h, sample_output)\n",
    "\n",
    "print ('Decoder output shape: (batch_size, vocab size) {}'.format(sample_decoder_output.shape))"
   ]
  },
  {
   "cell_type": "markdown",
   "metadata": {},
   "source": [
    "### Optimizer and Custom Loss Function"
   ]
  },
  {
   "cell_type": "code",
   "execution_count": 112,
   "metadata": {},
   "outputs": [],
   "source": [
    "optimizer = tf.keras.optimizers.Adam()"
   ]
  },
  {
   "cell_type": "markdown",
   "metadata": {},
   "source": [
    "Here, mask is a zero-one matrix of the same size as decoder_outputs. It masks padding positions outside of the target sequence lengths with values 0."
   ]
  },
  {
   "cell_type": "code",
   "execution_count": 113,
   "metadata": {},
   "outputs": [],
   "source": [
    "def loss_function(y_pred, y):\n",
    "   \n",
    "    #shape of y [batch_size, ty]\n",
    "    #shape of y_pred [batch_size, Ty, output_vocab_size] \n",
    "    sparsecategoricalcrossentropy = tf.keras.losses.SparseCategoricalCrossentropy(from_logits=True,\n",
    "                                                                                  reduction='none')\n",
    "    loss = sparsecategoricalcrossentropy(y_true=y, y_pred=y_pred)\n",
    "    #skip loss calculation for padding sequences i.e. y = 0 \n",
    "    #[ <start>,How, are, you, today, 0, 0, 0, 0 ....<end>]\n",
    "    #[ 1, 234, 3, 423, 3344, 0, 0 ,0 ,0, 2 ]\n",
    "    # y is a tensor of [batch_size,Ty] . Create a mask when [y=0]\n",
    "    # mask the loss when padding sequence appears in the output sequence\n",
    "    mask = tf.logical_not(tf.math.equal(y,0))   #output 0 for y=0 else output 1\n",
    "    mask = tf.cast(mask, dtype=loss.dtype)\n",
    "    loss = mask* loss\n",
    "    loss = tf.reduce_mean(loss)\n",
    "    return loss"
   ]
  },
  {
   "cell_type": "markdown",
   "metadata": {},
   "source": [
    "To begin with, attention mechanism is initialized without memory. "
   ]
  },
  {
   "cell_type": "code",
   "execution_count": 114,
   "metadata": {},
   "outputs": [
    {
     "data": {
      "text/plain": [
       "False"
      ]
     },
     "execution_count": 114,
     "metadata": {},
     "output_type": "execute_result"
    }
   ],
   "source": [
    "decoderNetwork.attention_mechanism.memory_initialized"
   ]
  },
  {
   "cell_type": "code",
   "execution_count": 115,
   "metadata": {},
   "outputs": [],
   "source": [
    "def train_step(input_batch, output_batch,encoder_initial_cell_state):\n",
    "    #initialize loss = 0\n",
    "    loss = 0\n",
    "    with tf.GradientTape() as tape:\n",
    "        encoder_emb_inp = encoderNetwork.encoder_embedding(input_batch)\n",
    "        #print(encoder_emb_inp.shape)\n",
    "        a, a_tx, c_tx = encoderNetwork.encoder_rnnlayer(encoder_emb_inp, \n",
    "                                                        initial_state =encoder_initial_cell_state)\n",
    "        #print(a.shape)\n",
    "        #[last step activations,last memory_state] of encoder passed as input to decoder Network\n",
    "        \n",
    "\n",
    "         \n",
    "        # Prepare correct Decoder input & output sequence data\n",
    "        decoder_input = output_batch[:,:-1] # ignore <end>\n",
    "        #compare logits with timestepped +1 version of decoder_input\n",
    "        decoder_output = output_batch[:,1:] #ignore <start>\n",
    "\n",
    "\n",
    "        # Decoder Embeddings\n",
    "        decoder_emb_inp = decoderNetwork.decoder_embedding(decoder_input)\n",
    "\n",
    "        #Setting up decoder memory from encoder output and Zero State for AttentionWrapperState\n",
    "        decoderNetwork.attention_mechanism.setup_memory(a)\n",
    "        decoder_initial_state = decoderNetwork.build_decoder_initial_state(BATCH_SIZE,\n",
    "                                                                           encoder_state=[a_tx, c_tx],\n",
    "                                                                           Dtype=tf.float32)\n",
    "\n",
    "        #BasicDecoderOutput        \n",
    "        outputs, _, _ = decoderNetwork.decoder(decoder_emb_inp,initial_state=decoder_initial_state,\n",
    "                                               sequence_length=BATCH_SIZE*[Ty-1])\n",
    "\n",
    "        logits = outputs.rnn_output\n",
    "        #Calculate loss\n",
    "\n",
    "        loss = loss_function(logits, decoder_output)\n",
    "\n",
    "    #Returns the list of all layer variables / weights.\n",
    "    variables = encoderNetwork.trainable_variables + decoderNetwork.trainable_variables  \n",
    "    # differentiate loss wrt variables\n",
    "    gradients = tape.gradient(loss, variables)\n",
    "\n",
    "    #grads_and_vars – List of(gradient, variable) pairs.\n",
    "    grads_and_vars = zip(gradients,variables)\n",
    "    optimizer.apply_gradients(grads_and_vars)\n",
    "    return loss"
   ]
  },
  {
   "cell_type": "code",
   "execution_count": 116,
   "metadata": {},
   "outputs": [],
   "source": [
    "#RNN LSTM hidden and memory state initializer\n",
    "def initialize_initial_state():\n",
    "        return [tf.zeros((BATCH_SIZE, rnn_units)), tf.zeros((BATCH_SIZE, rnn_units))]"
   ]
  },
  {
   "cell_type": "code",
   "execution_count": 117,
   "metadata": {},
   "outputs": [
    {
     "name": "stdout",
     "output_type": "stream",
     "text": [
      "total loss: 1.8886302709579468 epoch 1 batch 1 \n",
      "total loss: 1.8877029418945312 epoch 1 batch 2 \n",
      "total loss: 4.551619052886963 epoch 1 batch 3 \n",
      "total loss: 2.1490538120269775 epoch 1 batch 4 \n",
      "total loss: 1.7772051095962524 epoch 1 batch 5 \n",
      "total loss: 2.447599172592163 epoch 1 batch 6 \n",
      "total loss: 1.3594917058944702 epoch 1 batch 7 \n",
      "total loss: 1.9497156143188477 epoch 1 batch 8 \n",
      "total loss: 1.940775752067566 epoch 2 batch 1 \n",
      "total loss: 1.6381129026412964 epoch 2 batch 2 \n",
      "total loss: 1.599976658821106 epoch 2 batch 3 \n",
      "total loss: 1.7171744108200073 epoch 2 batch 4 \n",
      "total loss: 1.828129529953003 epoch 2 batch 5 \n",
      "total loss: 1.2986836433410645 epoch 2 batch 6 \n",
      "total loss: 1.2539727687835693 epoch 2 batch 7 \n",
      "total loss: 1.452532172203064 epoch 2 batch 8 \n",
      "total loss: 1.2416516542434692 epoch 3 batch 1 \n",
      "total loss: 1.5078916549682617 epoch 3 batch 2 \n",
      "total loss: 1.3181312084197998 epoch 3 batch 3 \n",
      "total loss: 1.5626060962677002 epoch 3 batch 4 \n",
      "total loss: 1.4508190155029297 epoch 3 batch 5 \n",
      "total loss: 1.3252592086791992 epoch 3 batch 6 \n",
      "total loss: 1.6304317712783813 epoch 3 batch 7 \n",
      "total loss: 1.6641204357147217 epoch 3 batch 8 \n",
      "total loss: 1.403885006904602 epoch 4 batch 1 \n",
      "total loss: 1.4832159280776978 epoch 4 batch 2 \n",
      "total loss: 1.3910788297653198 epoch 4 batch 3 \n",
      "total loss: 1.5369784832000732 epoch 4 batch 4 \n",
      "total loss: 1.4027985334396362 epoch 4 batch 5 \n",
      "total loss: 1.2219558954238892 epoch 4 batch 6 \n",
      "total loss: 1.5596835613250732 epoch 4 batch 7 \n",
      "total loss: 1.354038953781128 epoch 4 batch 8 \n",
      "total loss: 1.8734866380691528 epoch 5 batch 1 \n",
      "total loss: 1.305094838142395 epoch 5 batch 2 \n",
      "total loss: 1.3216502666473389 epoch 5 batch 3 \n",
      "total loss: 1.1115789413452148 epoch 5 batch 4 \n",
      "total loss: 1.5432814359664917 epoch 5 batch 5 \n",
      "total loss: 1.4151896238327026 epoch 5 batch 6 \n",
      "total loss: 1.4384125471115112 epoch 5 batch 7 \n",
      "total loss: 1.1761621236801147 epoch 5 batch 8 \n",
      "total loss: 1.2185869216918945 epoch 6 batch 1 \n",
      "total loss: 1.1477940082550049 epoch 6 batch 2 \n",
      "total loss: 1.466647744178772 epoch 6 batch 3 \n",
      "total loss: 1.3894745111465454 epoch 6 batch 4 \n",
      "total loss: 1.6032980680465698 epoch 6 batch 5 \n",
      "total loss: 1.2006500959396362 epoch 6 batch 6 \n",
      "total loss: 1.458581805229187 epoch 6 batch 7 \n",
      "total loss: 1.4784255027770996 epoch 6 batch 8 \n",
      "total loss: 4.091254234313965 epoch 7 batch 1 \n",
      "total loss: 1.0737472772598267 epoch 7 batch 2 \n",
      "total loss: 1.3585411310195923 epoch 7 batch 3 \n",
      "total loss: 1.7155218124389648 epoch 7 batch 4 \n",
      "total loss: 1.5637295246124268 epoch 7 batch 5 \n",
      "total loss: 1.2247412204742432 epoch 7 batch 6 \n",
      "total loss: 1.3154616355895996 epoch 7 batch 7 \n",
      "total loss: 1.3878207206726074 epoch 7 batch 8 \n",
      "total loss: 1.042696475982666 epoch 8 batch 1 \n",
      "total loss: 1.3278342485427856 epoch 8 batch 2 \n",
      "total loss: 1.425957441329956 epoch 8 batch 3 \n",
      "total loss: 1.4000049829483032 epoch 8 batch 4 \n",
      "total loss: 1.1130905151367188 epoch 8 batch 5 \n",
      "total loss: 1.6037697792053223 epoch 8 batch 6 \n",
      "total loss: 1.3737436532974243 epoch 8 batch 7 \n",
      "total loss: 1.5543378591537476 epoch 8 batch 8 \n",
      "total loss: 1.3678313493728638 epoch 9 batch 1 \n",
      "total loss: 1.3322807550430298 epoch 9 batch 2 \n",
      "total loss: 1.3116704225540161 epoch 9 batch 3 \n",
      "total loss: 1.274461030960083 epoch 9 batch 4 \n",
      "total loss: 1.276119351387024 epoch 9 batch 5 \n",
      "total loss: 1.4550132751464844 epoch 9 batch 6 \n",
      "total loss: 1.211118221282959 epoch 9 batch 7 \n",
      "total loss: 1.2419389486312866 epoch 9 batch 8 \n",
      "total loss: 1.3939157724380493 epoch 10 batch 1 \n",
      "total loss: 1.2297006845474243 epoch 10 batch 2 \n",
      "total loss: 1.1959189176559448 epoch 10 batch 3 \n",
      "total loss: 1.2226035594940186 epoch 10 batch 4 \n",
      "total loss: 1.3786267042160034 epoch 10 batch 5 \n",
      "total loss: 1.4342395067214966 epoch 10 batch 6 \n",
      "total loss: 1.2917122840881348 epoch 10 batch 7 \n",
      "total loss: 1.0259146690368652 epoch 10 batch 8 \n",
      "total loss: 1.0627745389938354 epoch 11 batch 1 \n",
      "total loss: 1.1901663541793823 epoch 11 batch 2 \n",
      "total loss: 1.4001142978668213 epoch 11 batch 3 \n",
      "total loss: 1.4138116836547852 epoch 11 batch 4 \n",
      "total loss: 1.2806295156478882 epoch 11 batch 5 \n",
      "total loss: 1.1954346895217896 epoch 11 batch 6 \n",
      "total loss: 1.212260127067566 epoch 11 batch 7 \n",
      "total loss: 1.195356845855713 epoch 11 batch 8 \n",
      "total loss: 1.2744983434677124 epoch 12 batch 1 \n",
      "total loss: 0.9967360496520996 epoch 12 batch 2 \n",
      "total loss: 1.442035436630249 epoch 12 batch 3 \n",
      "total loss: 1.112343668937683 epoch 12 batch 4 \n",
      "total loss: 1.4309262037277222 epoch 12 batch 5 \n",
      "total loss: 1.4660004377365112 epoch 12 batch 6 \n",
      "total loss: 0.8665091395378113 epoch 12 batch 7 \n",
      "total loss: 0.9237728118896484 epoch 12 batch 8 \n",
      "total loss: 1.1131671667099 epoch 13 batch 1 \n",
      "total loss: 1.148725986480713 epoch 13 batch 2 \n",
      "total loss: 1.242376685142517 epoch 13 batch 3 \n",
      "total loss: 1.1249890327453613 epoch 13 batch 4 \n",
      "total loss: 0.8945918083190918 epoch 13 batch 5 \n",
      "total loss: 1.314980387687683 epoch 13 batch 6 \n",
      "total loss: 1.2516824007034302 epoch 13 batch 7 \n",
      "total loss: 1.1495616436004639 epoch 13 batch 8 \n",
      "total loss: 1.2074306011199951 epoch 14 batch 1 \n",
      "total loss: 1.161692500114441 epoch 14 batch 2 \n",
      "total loss: 1.1363098621368408 epoch 14 batch 3 \n",
      "total loss: 1.152111291885376 epoch 14 batch 4 \n",
      "total loss: 0.8813188672065735 epoch 14 batch 5 \n",
      "total loss: 1.1868512630462646 epoch 14 batch 6 \n",
      "total loss: 1.1422322988510132 epoch 14 batch 7 \n",
      "total loss: 1.1392059326171875 epoch 14 batch 8 \n",
      "total loss: 1.0869052410125732 epoch 15 batch 1 \n",
      "total loss: 0.8528062105178833 epoch 15 batch 2 \n",
      "total loss: 0.9609196782112122 epoch 15 batch 3 \n",
      "total loss: 0.7902216911315918 epoch 15 batch 4 \n",
      "total loss: 1.151320219039917 epoch 15 batch 5 \n",
      "total loss: 1.3134384155273438 epoch 15 batch 6 \n",
      "total loss: 1.2652277946472168 epoch 15 batch 7 \n",
      "total loss: 1.1807878017425537 epoch 15 batch 8 \n",
      "total loss: 1.1144155263900757 epoch 16 batch 1 \n",
      "total loss: 1.0318102836608887 epoch 16 batch 2 \n",
      "total loss: 0.9036642909049988 epoch 16 batch 3 \n",
      "total loss: 0.9025288820266724 epoch 16 batch 4 \n",
      "total loss: 0.98932284116745 epoch 16 batch 5 \n",
      "total loss: 0.899592399597168 epoch 16 batch 6 \n",
      "total loss: 1.0853971242904663 epoch 16 batch 7 \n",
      "total loss: 1.3030931949615479 epoch 16 batch 8 \n",
      "total loss: 1.1858594417572021 epoch 17 batch 1 \n",
      "total loss: 0.8357284069061279 epoch 17 batch 2 \n",
      "total loss: 1.0014313459396362 epoch 17 batch 3 \n",
      "total loss: 1.141481876373291 epoch 17 batch 4 \n",
      "total loss: 1.0812541246414185 epoch 17 batch 5 \n",
      "total loss: 0.7359268069267273 epoch 17 batch 6 \n",
      "total loss: 1.0458017587661743 epoch 17 batch 7 \n",
      "total loss: 0.8803959488868713 epoch 17 batch 8 \n",
      "total loss: 1.1047440767288208 epoch 18 batch 1 \n",
      "total loss: 0.44263458251953125 epoch 18 batch 2 \n",
      "total loss: 0.9225354194641113 epoch 18 batch 3 \n",
      "total loss: 0.8473376035690308 epoch 18 batch 4 \n",
      "total loss: 1.1947909593582153 epoch 18 batch 5 \n",
      "total loss: 1.184779167175293 epoch 18 batch 6 \n",
      "total loss: 1.016563057899475 epoch 18 batch 7 \n",
      "total loss: 0.9688467979431152 epoch 18 batch 8 \n",
      "total loss: 1.0202836990356445 epoch 19 batch 1 \n",
      "total loss: 0.9446675777435303 epoch 19 batch 2 \n",
      "total loss: 0.9973382353782654 epoch 19 batch 3 \n",
      "total loss: 0.8443421721458435 epoch 19 batch 4 \n",
      "total loss: 0.8341041207313538 epoch 19 batch 5 \n",
      "total loss: 0.715833306312561 epoch 19 batch 6 \n",
      "total loss: 0.9420205354690552 epoch 19 batch 7 \n",
      "total loss: 1.0154600143432617 epoch 19 batch 8 \n",
      "total loss: 0.740540623664856 epoch 20 batch 1 \n",
      "total loss: 0.8418120741844177 epoch 20 batch 2 \n",
      "total loss: 1.0732293128967285 epoch 20 batch 3 \n",
      "total loss: 0.9388717412948608 epoch 20 batch 4 \n",
      "total loss: 0.8366064429283142 epoch 20 batch 5 \n",
      "total loss: 0.8628606796264648 epoch 20 batch 6 \n",
      "total loss: 0.7378893494606018 epoch 20 batch 7 \n",
      "total loss: 0.8893099427223206 epoch 20 batch 8 \n",
      "total loss: 0.529234766960144 epoch 21 batch 1 \n",
      "total loss: 0.7867636680603027 epoch 21 batch 2 \n",
      "total loss: 0.9677551984786987 epoch 21 batch 3 \n",
      "total loss: 0.9791594743728638 epoch 21 batch 4 \n",
      "total loss: 0.7972344756126404 epoch 21 batch 5 \n",
      "total loss: 0.8678792119026184 epoch 21 batch 6 \n",
      "total loss: 0.5643497705459595 epoch 21 batch 7 \n",
      "total loss: 0.9876341223716736 epoch 21 batch 8 \n",
      "total loss: 0.7479971051216125 epoch 22 batch 1 \n",
      "total loss: 0.6291155815124512 epoch 22 batch 2 \n",
      "total loss: 0.8209879398345947 epoch 22 batch 3 \n",
      "total loss: 0.5798247456550598 epoch 22 batch 4 \n",
      "total loss: 0.7906522154808044 epoch 22 batch 5 \n",
      "total loss: 0.8988580107688904 epoch 22 batch 6 \n",
      "total loss: 0.6355898380279541 epoch 22 batch 7 \n",
      "total loss: 0.7329281568527222 epoch 22 batch 8 \n",
      "total loss: 0.5208448171615601 epoch 23 batch 1 \n",
      "total loss: 0.6100892424583435 epoch 23 batch 2 \n",
      "total loss: 0.574611246585846 epoch 23 batch 3 \n",
      "total loss: 0.7449652552604675 epoch 23 batch 4 \n",
      "total loss: 0.7273077368736267 epoch 23 batch 5 \n",
      "total loss: 0.60490882396698 epoch 23 batch 6 \n",
      "total loss: 0.728398859500885 epoch 23 batch 7 \n",
      "total loss: 0.6615520715713501 epoch 23 batch 8 \n",
      "total loss: 0.5405511260032654 epoch 24 batch 1 \n",
      "total loss: 0.589633047580719 epoch 24 batch 2 \n",
      "total loss: 0.46698251366615295 epoch 24 batch 3 \n",
      "total loss: 0.6074123382568359 epoch 24 batch 4 \n",
      "total loss: 0.6512640118598938 epoch 24 batch 5 \n",
      "total loss: 0.48317191004753113 epoch 24 batch 6 \n",
      "total loss: 0.6416177749633789 epoch 24 batch 7 \n",
      "total loss: 0.5467976331710815 epoch 24 batch 8 \n",
      "total loss: 0.4713214635848999 epoch 25 batch 1 \n",
      "total loss: 0.5229417681694031 epoch 25 batch 2 \n",
      "total loss: 0.41321301460266113 epoch 25 batch 3 \n",
      "total loss: 0.5336644649505615 epoch 25 batch 4 \n",
      "total loss: 0.47678887844085693 epoch 25 batch 5 \n",
      "total loss: 0.6449202299118042 epoch 25 batch 6 \n",
      "total loss: 0.6493931412696838 epoch 25 batch 7 \n",
      "total loss: 0.5313215851783752 epoch 25 batch 8 \n",
      "total loss: 0.6106650233268738 epoch 26 batch 1 \n",
      "total loss: 0.6026859283447266 epoch 26 batch 2 \n",
      "total loss: 0.46240168809890747 epoch 26 batch 3 \n",
      "total loss: 0.6444396376609802 epoch 26 batch 4 \n",
      "total loss: 0.4119205176830292 epoch 26 batch 5 \n",
      "total loss: 0.47174137830734253 epoch 26 batch 6 \n",
      "total loss: 0.535037636756897 epoch 26 batch 7 \n",
      "total loss: 0.5222252607345581 epoch 26 batch 8 \n",
      "total loss: 0.43694692850112915 epoch 27 batch 1 \n",
      "total loss: 0.40179914236068726 epoch 27 batch 2 \n",
      "total loss: 0.4717898666858673 epoch 27 batch 3 \n",
      "total loss: 0.4064114987850189 epoch 27 batch 4 \n",
      "total loss: 0.39311715960502625 epoch 27 batch 5 \n",
      "total loss: 0.4521748125553131 epoch 27 batch 6 \n",
      "total loss: 0.5842772126197815 epoch 27 batch 7 \n",
      "total loss: 0.45038214325904846 epoch 27 batch 8 \n",
      "total loss: 0.3325006067752838 epoch 28 batch 1 \n",
      "total loss: 0.3120167851448059 epoch 28 batch 2 \n",
      "total loss: 0.38051289319992065 epoch 28 batch 3 \n",
      "total loss: 0.4094117283821106 epoch 28 batch 4 \n",
      "total loss: 0.3805501163005829 epoch 28 batch 5 \n",
      "total loss: 0.3900003433227539 epoch 28 batch 6 \n",
      "total loss: 0.3950032591819763 epoch 28 batch 7 \n",
      "total loss: 0.3032248318195343 epoch 28 batch 8 \n",
      "total loss: 0.30717983841896057 epoch 29 batch 1 \n",
      "total loss: 0.22625508904457092 epoch 29 batch 2 \n",
      "total loss: 0.27918729186058044 epoch 29 batch 3 \n",
      "total loss: 0.3379271924495697 epoch 29 batch 4 \n",
      "total loss: 0.3041371703147888 epoch 29 batch 5 \n",
      "total loss: 0.36139556765556335 epoch 29 batch 6 \n",
      "total loss: 0.27743658423423767 epoch 29 batch 7 \n",
      "total loss: 0.30289390683174133 epoch 29 batch 8 \n",
      "total loss: 0.2599901258945465 epoch 30 batch 1 \n",
      "total loss: 0.1898958683013916 epoch 30 batch 2 \n",
      "total loss: 0.23404012620449066 epoch 30 batch 3 \n",
      "total loss: 0.216225728392601 epoch 30 batch 4 \n",
      "total loss: 0.2598634362220764 epoch 30 batch 5 \n",
      "total loss: 0.2838864028453827 epoch 30 batch 6 \n",
      "total loss: 0.25267350673675537 epoch 30 batch 7 \n",
      "total loss: 0.27944108843803406 epoch 30 batch 8 \n",
      "total loss: 0.254086971282959 epoch 31 batch 1 \n",
      "total loss: 0.18885403871536255 epoch 31 batch 2 \n",
      "total loss: 0.19382672011852264 epoch 31 batch 3 \n",
      "total loss: 0.21804986894130707 epoch 31 batch 4 \n",
      "total loss: 0.28778910636901855 epoch 31 batch 5 \n",
      "total loss: 0.22675399482250214 epoch 31 batch 6 \n",
      "total loss: 0.19106525182724 epoch 31 batch 7 \n",
      "total loss: 0.2393949031829834 epoch 31 batch 8 \n",
      "total loss: 0.21253135800361633 epoch 32 batch 1 \n",
      "total loss: 0.1722230613231659 epoch 32 batch 2 \n",
      "total loss: 0.22831517457962036 epoch 32 batch 3 \n",
      "total loss: 0.1659785807132721 epoch 32 batch 4 \n",
      "total loss: 0.17487753927707672 epoch 32 batch 5 \n",
      "total loss: 0.2737438380718231 epoch 32 batch 6 \n",
      "total loss: 0.21342992782592773 epoch 32 batch 7 \n",
      "total loss: 0.1909090131521225 epoch 32 batch 8 \n",
      "total loss: 0.16547785699367523 epoch 33 batch 1 \n",
      "total loss: 0.1942463368177414 epoch 33 batch 2 \n",
      "total loss: 0.15573261678218842 epoch 33 batch 3 \n",
      "total loss: 0.17389804124832153 epoch 33 batch 4 \n",
      "total loss: 0.14041370153427124 epoch 33 batch 5 \n",
      "total loss: 0.1493036448955536 epoch 33 batch 6 \n",
      "total loss: 0.18919570744037628 epoch 33 batch 7 \n",
      "total loss: 0.18246974050998688 epoch 33 batch 8 \n",
      "total loss: 0.12255778908729553 epoch 34 batch 1 \n",
      "total loss: 0.13042254745960236 epoch 34 batch 2 \n",
      "total loss: 0.12297865748405457 epoch 34 batch 3 \n",
      "total loss: 0.1373244673013687 epoch 34 batch 4 \n",
      "total loss: 0.12448514997959137 epoch 34 batch 5 \n",
      "total loss: 0.11622685939073563 epoch 34 batch 6 \n",
      "total loss: 0.16193749010562897 epoch 34 batch 7 \n",
      "total loss: 0.19462479650974274 epoch 34 batch 8 \n",
      "total loss: 0.12123673409223557 epoch 35 batch 1 \n",
      "total loss: 0.12171461433172226 epoch 35 batch 2 \n",
      "total loss: 0.12292692065238953 epoch 35 batch 3 \n",
      "total loss: 0.09630618244409561 epoch 35 batch 4 \n",
      "total loss: 0.09842904657125473 epoch 35 batch 5 \n",
      "total loss: 0.13473375141620636 epoch 35 batch 6 \n",
      "total loss: 0.14004850387573242 epoch 35 batch 7 \n",
      "total loss: 0.11318545043468475 epoch 35 batch 8 \n",
      "total loss: 0.11353657394647598 epoch 36 batch 1 \n",
      "total loss: 0.06402979791164398 epoch 36 batch 2 \n",
      "total loss: 0.09439920634031296 epoch 36 batch 3 \n",
      "total loss: 0.09746693074703217 epoch 36 batch 4 \n",
      "total loss: 0.1021106019616127 epoch 36 batch 5 \n",
      "total loss: 0.11104798316955566 epoch 36 batch 6 \n",
      "total loss: 0.11410000175237656 epoch 36 batch 7 \n",
      "total loss: 0.10272932797670364 epoch 36 batch 8 \n",
      "total loss: 0.06786186248064041 epoch 37 batch 1 \n",
      "total loss: 0.07124260067939758 epoch 37 batch 2 \n",
      "total loss: 0.07791471481323242 epoch 37 batch 3 \n",
      "total loss: 0.07016269117593765 epoch 37 batch 4 \n",
      "total loss: 0.06754015386104584 epoch 37 batch 5 \n",
      "total loss: 0.13434313237667084 epoch 37 batch 6 \n",
      "total loss: 0.1161305233836174 epoch 37 batch 7 \n",
      "total loss: 0.11972096562385559 epoch 37 batch 8 \n",
      "total loss: 0.06616125255823135 epoch 38 batch 1 \n",
      "total loss: 0.07736718654632568 epoch 38 batch 2 \n",
      "total loss: 0.06786392629146576 epoch 38 batch 3 \n",
      "total loss: 0.07740513980388641 epoch 38 batch 4 \n",
      "total loss: 0.08681163191795349 epoch 38 batch 5 \n",
      "total loss: 0.07527171820402145 epoch 38 batch 6 \n",
      "total loss: 0.09884009510278702 epoch 38 batch 7 \n",
      "total loss: 0.08380645513534546 epoch 38 batch 8 \n",
      "total loss: 0.07128647714853287 epoch 39 batch 1 \n",
      "total loss: 0.0697663351893425 epoch 39 batch 2 \n",
      "total loss: 0.0881924033164978 epoch 39 batch 3 \n",
      "total loss: 0.059818021953105927 epoch 39 batch 4 \n",
      "total loss: 0.09232046455144882 epoch 39 batch 5 \n",
      "total loss: 0.08523343503475189 epoch 39 batch 6 \n",
      "total loss: 0.07323113828897476 epoch 39 batch 7 \n",
      "total loss: 0.07977164536714554 epoch 39 batch 8 \n",
      "total loss: 0.06284601241350174 epoch 40 batch 1 \n",
      "total loss: 0.07593806833028793 epoch 40 batch 2 \n",
      "total loss: 0.061175502836704254 epoch 40 batch 3 \n",
      "total loss: 0.06694114953279495 epoch 40 batch 4 \n",
      "total loss: 0.0955595150589943 epoch 40 batch 5 \n",
      "total loss: 0.06582149118185043 epoch 40 batch 6 \n",
      "total loss: 0.05644078552722931 epoch 40 batch 7 \n",
      "total loss: 0.0910230427980423 epoch 40 batch 8 \n"
     ]
    }
   ],
   "source": [
    "epochs = 40\n",
    "from collections import defaultdict\n",
    "data = defaultdict(list)\n",
    "\n",
    "for i in range(1, epochs+1):\n",
    "\n",
    "    encoder_initial_cell_state = initialize_initial_state()\n",
    "    total_loss = 0.0\n",
    "\n",
    "\n",
    "    for ( batch , (input_batch, output_batch)) in enumerate(dataset.take(steps_per_epoch)):\n",
    "        #encoder_initial_cell_state = initialize_initial_state() # TODO\n",
    "        batch_loss = train_step(input_batch, output_batch, encoder_initial_cell_state)\n",
    "        total_loss += batch_loss\n",
    "#        if (batch+1)%20 == 0:\n",
    "        print(\"total loss: {} epoch {} batch {} \".format(batch_loss.numpy(), i, batch+1))\n",
    "            #checkpoint.save(file_prefix = chkpoint_prefix)\n",
    "        data['batch'].append(total_loss)\n",
    "    data['epoch'].append(total_loss)\n",
    "    #print(data['epoch'][-1])"
   ]
  },
  {
   "cell_type": "code",
   "execution_count": 118,
   "metadata": {},
   "outputs": [
    {
     "data": {
      "text/plain": [
       "[<matplotlib.lines.Line2D at 0x1697fbcc0>]"
      ]
     },
     "execution_count": 118,
     "metadata": {},
     "output_type": "execute_result"
    },
    {
     "data": {
      "image/png": "[encoded data removed]",
      "text/plain": [
       "<Figure size 432x288 with 1 Axes>"
      ]
     },
     "metadata": {
      "needs_background": "light"
     },
     "output_type": "display_data"
    }
   ],
   "source": [
    "import matplotlib.pyplot as plt\n",
    "plt.plot(data['batch'])"
   ]
  },
  {
   "cell_type": "code",
   "execution_count": null,
   "metadata": {},
   "outputs": [],
   "source": [
    "total loss: 0.23502042889595032 epoch 40 batch 1"
   ]
  },
  {
   "cell_type": "code",
   "execution_count": 119,
   "metadata": {},
   "outputs": [
    {
     "data": {
      "text/plain": [
       "[<matplotlib.lines.Line2D at 0x15f661400>]"
      ]
     },
     "execution_count": 119,
     "metadata": {},
     "output_type": "execute_result"
    },
    {
     "data": {
      "image/png": "[encoded data removed]",
      "text/plain": [
       "<Figure size 432x288 with 1 Axes>"
      ]
     },
     "metadata": {
      "needs_background": "light"
     },
     "output_type": "display_data"
    }
   ],
   "source": [
    "plt.plot(data['epoch'])"
   ]
  },
  {
   "cell_type": "code",
   "execution_count": 37,
   "metadata": {},
   "outputs": [
    {
     "data": {
      "text/plain": [
       "TensorShape([4, 1024])"
      ]
     },
     "execution_count": 37,
     "metadata": {},
     "output_type": "execute_result"
    }
   ],
   "source": [
    "encoder_initial_cell_state[0].shape"
   ]
  },
  {
   "cell_type": "code",
   "execution_count": 38,
   "metadata": {},
   "outputs": [
    {
     "data": {
      "text/plain": [
       "[15, 15, 15, 15]"
      ]
     },
     "execution_count": 38,
     "metadata": {},
     "output_type": "execute_result"
    }
   ],
   "source": [
    "BATCH_SIZE*[Tx]"
   ]
  },
  {
   "cell_type": "code",
   "execution_count": 39,
   "metadata": {},
   "outputs": [
    {
     "data": {
      "text/plain": [
       "15"
      ]
     },
     "execution_count": 39,
     "metadata": {},
     "output_type": "execute_result"
    }
   ],
   "source": [
    "Tx"
   ]
  },
  {
   "cell_type": "markdown",
   "metadata": {},
   "source": [
    "### Inference\n",
    "Create input sequence to pass to encoder.\n",
    "\n",
    "The input to the decoder at each time step is its previous predictions along with the hidden state and the encoder output.\n",
    "\n",
    "Stop predicting when the model predicts the end token.\n",
    "\n",
    "And store the attention weights for every time step."
   ]
  },
  {
   "cell_type": "code",
   "execution_count": 120,
   "metadata": {},
   "outputs": [
    {
     "name": "stdout",
     "output_type": "stream",
     "text": [
      "(66, 256)\n"
     ]
    }
   ],
   "source": [
    "#if trained in same session else use checkpoint variable\n",
    "#decoder_embedding_matrix = tf.train.load_variable(checkpointdir, 'decoderNetwork/decoder_embedding/embeddings/.ATTRIBUTES/VARIABLE_VALUE')\n",
    "decoder_embedding_matrix = decoderNetwork.decoder_embedding.variables[0] \n",
    "print(decoderNetwork.decoder_embedding.variables[0].shape)"
   ]
  },
  {
   "cell_type": "markdown",
   "metadata": {},
   "source": [
    "if restoring from checkpoint, lets print all variables related to decoder_embeddings and then select and load the right variable containing decoder embeddings"
   ]
  },
  {
   "cell_type": "code",
   "execution_count": 121,
   "metadata": {},
   "outputs": [],
   "source": [
    "# [print(var) for var in tf.train.list_variables(\n",
    "#     checkpointdir) if re.match(r'.*decoder_embedding.*',var[0])]"
   ]
  },
  {
   "cell_type": "code",
   "execution_count": 122,
   "metadata": {},
   "outputs": [],
   "source": [
    "# decoder_embedding_matrix = tf.train.load_variable(\n",
    "#     checkpointdir, 'decoderNetwork/decoder_embedding/embeddings/.ATTRIBUTES/VARIABLE_VALUE')\n",
    "# print(decoder_embedding_matrix.shape)"
   ]
  },
  {
   "cell_type": "code",
   "execution_count": 152,
   "metadata": {},
   "outputs": [
    {
     "name": "stdout",
     "output_type": "stream",
     "text": [
      "a_tx : (2, 1024)\n",
      "c_tx : (2, 1024)\n",
      "decoder_initial_state = [a_tx, c_tx] : (2, 2, 1024)\n",
      "\n",
      "Compared to simple encoder-decoder without attention, the decoder_initial_state  is an AttentionWrapperState object containing s_prev tensors and context and alignment vector \n",
      " \n",
      "decoder initial state shape : (6,)\n",
      "decoder_initial_state tensor \n",
      " AttentionWrapperState(cell_state=[<tf.Tensor: shape=(2, 1024), dtype=float32, numpy=\n",
      "array([[ 0.0518618 , -0.14032008, -0.10341083, ..., -0.00112762,\n",
      "        -0.04448861,  0.03323371],\n",
      "       [ 0.0518618 , -0.14032008, -0.10341083, ..., -0.00112762,\n",
      "        -0.0444886 ,  0.03323371]], dtype=float32)>, <tf.Tensor: shape=(2, 1024), dtype=float32, numpy=\n",
      "array([[ 0.12939554, -0.32432944, -0.21965227, ..., -0.00250256,\n",
      "        -0.09040678,  0.06978433],\n",
      "       [ 0.12939553, -0.32432944, -0.21965227, ..., -0.00250257,\n",
      "        -0.09040677,  0.06978431]], dtype=float32)>], attention=<tf.Tensor: shape=(2, 1024), dtype=float32, numpy=\n",
      "array([[0., 0., 0., ..., 0., 0., 0.],\n",
      "       [0., 0., 0., ..., 0., 0., 0.]], dtype=float32)>, time=<tf.Tensor: shape=(), dtype=int32, numpy=0>, alignments=<tf.Tensor: shape=(2, 152), dtype=float32, numpy=\n",
      "array([[0., 0., 0., 0., 0., 0., 0., 0., 0., 0., 0., 0., 0., 0., 0., 0.,\n",
      "        0., 0., 0., 0., 0., 0., 0., 0., 0., 0., 0., 0., 0., 0., 0., 0.,\n",
      "        0., 0., 0., 0., 0., 0., 0., 0., 0., 0., 0., 0., 0., 0., 0., 0.,\n",
      "        0., 0., 0., 0., 0., 0., 0., 0., 0., 0., 0., 0., 0., 0., 0., 0.,\n",
      "        0., 0., 0., 0., 0., 0., 0., 0., 0., 0., 0., 0., 0., 0., 0., 0.,\n",
      "        0., 0., 0., 0., 0., 0., 0., 0., 0., 0., 0., 0., 0., 0., 0., 0.,\n",
      "        0., 0., 0., 0., 0., 0., 0., 0., 0., 0., 0., 0., 0., 0., 0., 0.,\n",
      "        0., 0., 0., 0., 0., 0., 0., 0., 0., 0., 0., 0., 0., 0., 0., 0.,\n",
      "        0., 0., 0., 0., 0., 0., 0., 0., 0., 0., 0., 0., 0., 0., 0., 0.,\n",
      "        0., 0., 0., 0., 0., 0., 0., 0.],\n",
      "       [0., 0., 0., 0., 0., 0., 0., 0., 0., 0., 0., 0., 0., 0., 0., 0.,\n",
      "        0., 0., 0., 0., 0., 0., 0., 0., 0., 0., 0., 0., 0., 0., 0., 0.,\n",
      "        0., 0., 0., 0., 0., 0., 0., 0., 0., 0., 0., 0., 0., 0., 0., 0.,\n",
      "        0., 0., 0., 0., 0., 0., 0., 0., 0., 0., 0., 0., 0., 0., 0., 0.,\n",
      "        0., 0., 0., 0., 0., 0., 0., 0., 0., 0., 0., 0., 0., 0., 0., 0.,\n",
      "        0., 0., 0., 0., 0., 0., 0., 0., 0., 0., 0., 0., 0., 0., 0., 0.,\n",
      "        0., 0., 0., 0., 0., 0., 0., 0., 0., 0., 0., 0., 0., 0., 0., 0.,\n",
      "        0., 0., 0., 0., 0., 0., 0., 0., 0., 0., 0., 0., 0., 0., 0., 0.,\n",
      "        0., 0., 0., 0., 0., 0., 0., 0., 0., 0., 0., 0., 0., 0., 0., 0.,\n",
      "        0., 0., 0., 0., 0., 0., 0., 0.]], dtype=float32)>, alignment_history=(), attention_state=<tf.Tensor: shape=(2, 152), dtype=float32, numpy=\n",
      "array([[0., 0., 0., 0., 0., 0., 0., 0., 0., 0., 0., 0., 0., 0., 0., 0.,\n",
      "        0., 0., 0., 0., 0., 0., 0., 0., 0., 0., 0., 0., 0., 0., 0., 0.,\n",
      "        0., 0., 0., 0., 0., 0., 0., 0., 0., 0., 0., 0., 0., 0., 0., 0.,\n",
      "        0., 0., 0., 0., 0., 0., 0., 0., 0., 0., 0., 0., 0., 0., 0., 0.,\n",
      "        0., 0., 0., 0., 0., 0., 0., 0., 0., 0., 0., 0., 0., 0., 0., 0.,\n",
      "        0., 0., 0., 0., 0., 0., 0., 0., 0., 0., 0., 0., 0., 0., 0., 0.,\n",
      "        0., 0., 0., 0., 0., 0., 0., 0., 0., 0., 0., 0., 0., 0., 0., 0.,\n",
      "        0., 0., 0., 0., 0., 0., 0., 0., 0., 0., 0., 0., 0., 0., 0., 0.,\n",
      "        0., 0., 0., 0., 0., 0., 0., 0., 0., 0., 0., 0., 0., 0., 0., 0.,\n",
      "        0., 0., 0., 0., 0., 0., 0., 0.],\n",
      "       [0., 0., 0., 0., 0., 0., 0., 0., 0., 0., 0., 0., 0., 0., 0., 0.,\n",
      "        0., 0., 0., 0., 0., 0., 0., 0., 0., 0., 0., 0., 0., 0., 0., 0.,\n",
      "        0., 0., 0., 0., 0., 0., 0., 0., 0., 0., 0., 0., 0., 0., 0., 0.,\n",
      "        0., 0., 0., 0., 0., 0., 0., 0., 0., 0., 0., 0., 0., 0., 0., 0.,\n",
      "        0., 0., 0., 0., 0., 0., 0., 0., 0., 0., 0., 0., 0., 0., 0., 0.,\n",
      "        0., 0., 0., 0., 0., 0., 0., 0., 0., 0., 0., 0., 0., 0., 0., 0.,\n",
      "        0., 0., 0., 0., 0., 0., 0., 0., 0., 0., 0., 0., 0., 0., 0., 0.,\n",
      "        0., 0., 0., 0., 0., 0., 0., 0., 0., 0., 0., 0., 0., 0., 0., 0.,\n",
      "        0., 0., 0., 0., 0., 0., 0., 0., 0., 0., 0., 0., 0., 0., 0., 0.,\n",
      "        0., 0., 0., 0., 0., 0., 0., 0.]], dtype=float32)>)\n",
      "\n",
      "first_inputs returns the same decoder_input i.e. embedding of  <start> : (2, 256)\n",
      "start_index_emb_avg  tf.Tensor(0.751768, shape=(), dtype=float32)\n",
      "\n",
      " predictions shape: (2, 0)\n",
      "\n",
      " predictions: []\n"
     ]
    }
   ],
   "source": [
    "#use with scope /cpu:0 for inferencing\n",
    "#restore from latest checkpoint for inferencing\n",
    "input_raw=\"1  \\nx\"\n",
    "#input_raw=\"Wow!\"  #checking translation on training set record\n",
    "#def inference(input_raw):\n",
    "input_lines = input_raw.split(\"\\n\")\n",
    "\n",
    "# Preprocess X\n",
    "input_lines = [preprocess_sentence(line) for line in input_lines]\n",
    "input_sequences = [[X_tokenizer.word_index[w] for w in line.split(' ')] for line in input_lines]\n",
    "input_sequences = tf.keras.preprocessing.sequence.pad_sequences(input_sequences,\n",
    "                                                                maxlen=Tx, padding='post')\n",
    "inp = tf.convert_to_tensor(input_sequences)\n",
    "#print(inp.shape)\n",
    "inference_batch_size = input_sequences.shape[0]\n",
    "encoder_initial_cell_state = [tf.zeros((inference_batch_size, rnn_units)),\n",
    "                              tf.zeros((inference_batch_size, rnn_units))]\n",
    "encoder_emb_inp = encoderNetwork.encoder_embedding(inp)\n",
    "a, a_tx, c_tx = encoderNetwork.encoder_rnnlayer(encoder_emb_inp,\n",
    "                                                initial_state =encoder_initial_cell_state)\n",
    "\n",
    "\n",
    "#output_sequences = []\n",
    "print('a_tx :',a_tx.shape)\n",
    "print('c_tx :', c_tx.shape)\n",
    "\n",
    "\n",
    "\n",
    "start_tokens = tf.fill([inference_batch_size],Y_tokenizer.word_index['<start>'])\n",
    "#print(start_tokens)\n",
    "end_token = Y_tokenizer.word_index['<end>']\n",
    "\n",
    "greedy_sampler = tfa.seq2seq.GreedyEmbeddingSampler()\n",
    "#finished,start_inputs = greedy_sampler.initialize(decoder_embedding_matrix,start_tokens,end_token)\n",
    "#print(finished.shape, start_inputs.shape)\n",
    "\n",
    "decoder_input = tf.expand_dims([Y_tokenizer.word_index['<start>']]* inference_batch_size,1)\n",
    "\n",
    "decoder_emb_inp = decoderNetwork.decoder_embedding(decoder_input)\n",
    "\n",
    "decoder_instance = tfa.seq2seq.BasicDecoder(cell = decoderNetwork.rnn_cell, sampler = greedy_sampler,\n",
    "                                            output_layer=decoderNetwork.dense_layer)\n",
    "decoderNetwork.attention_mechanism.setup_memory(a)\n",
    "#pass [ last step activations , encoder memory_state ] as input to decoder for LSTM\n",
    "print(\"decoder_initial_state = [a_tx, c_tx] :\",np.array([a_tx, c_tx]).shape)\n",
    "decoder_initial_state = decoderNetwork.build_decoder_initial_state(inference_batch_size,\n",
    "                                                                   encoder_state=[a_tx, c_tx],\n",
    "                                                                   Dtype=tf.float32)\n",
    "print(\"\\nCompared to simple encoder-decoder without attention, the decoder_initial_state \\\n",
    " is an AttentionWrapperState object containing s_prev tensors and context and alignment vector \\n \")\n",
    "print(\"decoder initial state shape :\",np.array(decoder_initial_state).shape)\n",
    "print(\"decoder_initial_state tensor \\n\", decoder_initial_state)\n",
    "\n",
    "# Since we do not know the target sequence lengths in advance, we use maximum_iterations to limit the translation lengths.\n",
    "# One heuristic is to decode up to two times the source sentence lengths.\n",
    "maximum_iterations = tf.round(tf.reduce_max(Tx) * 2)\n",
    "\n",
    "#initialize inference decoder\n",
    "\n",
    "(first_finished, first_inputs,first_state) = decoder_instance.initialize(decoder_embedding_matrix,\n",
    "                             start_tokens = start_tokens,\n",
    "                             end_token=end_token,\n",
    "                             initial_state = decoder_initial_state)\n",
    "#print( first_finished.shape)\n",
    "print(\"\\nfirst_inputs returns the same decoder_input i.e. embedding of  <start> :\",first_inputs.shape)\n",
    "print(\"start_index_emb_avg \", tf.reduce_sum(tf.reduce_mean(first_inputs, axis=0))) # mean along the batch\n",
    "\n",
    "inputs = first_inputs\n",
    "state = first_state  \n",
    "predictions = np.empty((inference_batch_size,0), dtype = np.int32) \n",
    "\n",
    "print(\"\\n predictions shape:\", predictions.shape)\n",
    "print(\"\\n predictions:\", predictions)\n",
    "\n",
    "for j in range(maximum_iterations):\n",
    "    outputs, next_state, next_inputs, finished = decoder_instance.step(j,inputs,state)\n",
    "    inputs = next_inputs\n",
    "    state = next_state\n",
    "    outputs = np.expand_dims(outputs.sample_id,axis = -1)\n",
    "    predictions = np.append(predictions, outputs, axis = -1)"
   ]
  },
  {
   "cell_type": "markdown",
   "metadata": {},
   "source": [
    "Discard translations on encountering first sequence \\<end\\> \n",
    "\n"
   ]
  },
  {
   "cell_type": "code",
   "execution_count": 153,
   "metadata": {},
   "outputs": [],
   "source": [
    "end_token = Y_tokenizer.word_index['<end>']"
   ]
  },
  {
   "cell_type": "code",
   "execution_count": 157,
   "metadata": {},
   "outputs": [
    {
     "name": "stdout",
     "output_type": "stream",
     "text": [
      "Equation:\n",
      "1  \n",
      "x\n",
      "\n",
      "Integral Equation:\n",
      "+ / -1 8 + * -1 x + * -9 pow cos 4 -1 * / 1 4 * pi acos 4\n",
      "+ * -1 x + * / -1 4 tanh 2 * / 1 4 cosh 4\n"
     ]
    }
   ],
   "source": [
    "print(\"Equation:\")\n",
    "print(input_raw)\n",
    "integral_seq = []\n",
    "print(\"\\nIntegral Equation:\")\n",
    "for i in range(len(predictions)):\n",
    "    line = predictions[i,:]\n",
    "    seq = list(itertools.takewhile( lambda index: index !=end_token, line))\n",
    "    output = \" \".join( [Y_tokenizer.index_word[w] for w in seq])\n",
    "    integral_seq.append(output)\n",
    "    print(output)"
   ]
  },
  {
   "cell_type": "code",
   "execution_count": 164,
   "metadata": {},
   "outputs": [
    {
     "name": "stdout",
     "output_type": "stream",
     "text": [
      "( -1 ) / 8 + ( -1 ) * x + -9 * cos ( 4 ) ** -1 + 1 / 4 * pi * acos ( 4 )\n",
      "-x - 1/8 - 9/cos(4) + pi*acos(4)/4\n",
      "( -1 ) * x + -1 / 4 * tanh ( 2 ) + 1 / 4 * cosh ( 4 )\n",
      "-x - tanh(2)/4 + cosh(4)/4\n"
     ]
    }
   ],
   "source": [
    "from infix_prefix1 import prefix_to_infix\n",
    "from sympy import *\n",
    "from sympy.parsing.sympy_parser import parse_expr\n",
    "\n",
    "x = symbols('x', real=True)\n",
    "\n",
    "for ele in integral_seq:\n",
    "    result_infix = prefix_to_infix(ele)\n",
    "    result_infix = result_infix.replace(\"pow\", \"**\")\n",
    "    print(result_infix)\n",
    "    result_simp = simplify(parse_expr(result_infix, local_dict={'x': x}))\n",
    "    print(result_simp)\n",
    "    \n"
   ]
  },
  {
   "cell_type": "markdown",
   "metadata": {},
   "source": [
    "Inference using Beam Search with beam_width = 3"
   ]
  },
  {
   "cell_type": "code",
   "execution_count": 127,
   "metadata": {},
   "outputs": [
    {
     "name": "stdout",
     "output_type": "stream",
     "text": [
      "beam_with * [batch_size, Tx, rnn_units] :  3 * [2, Tx, rnn_units]] : (10, 152, 1024)\n",
      "\n",
      "first_inputs returns the same decoder_input i.e. embedding of  <start> : (2, 5, 256)\n",
      "(2, 5, 304)\n",
      "(2, 5, 304)\n"
     ]
    }
   ],
   "source": [
    "beam_width = 5\n",
    "#use with scope /cpu:0 for inferencing\n",
    "#restore from latest checkpoint for inferencing\n",
    "input_raw=\"1  \\nx\"\n",
    "#input_raw=\"Wow!\"  #checking translation on training set record\n",
    "#def inference(input_raw):\n",
    "input_lines = input_raw.split(\"\\n\")\n",
    "# We have a transcript file containing English-Hindi pairs\n",
    "# Preprocess X\n",
    "input_lines = [preprocess_sentence(line) for line in input_lines]\n",
    "input_sequences = [[X_tokenizer.word_index[w] for w in line.split(' ')] for line in input_lines]\n",
    "input_sequences = tf.keras.preprocessing.sequence.pad_sequences(input_sequences,\n",
    "                                                                maxlen=Tx, padding='post')\n",
    "inp = tf.convert_to_tensor(input_sequences)\n",
    "#print(inp.shape)\n",
    "inference_batch_size = input_sequences.shape[0]\n",
    "encoder_initial_cell_state = [tf.zeros((inference_batch_size, rnn_units)),\n",
    "                              tf.zeros((inference_batch_size, rnn_units))]\n",
    "encoder_emb_inp = encoderNetwork.encoder_embedding(inp)\n",
    "a, a_tx, c_tx = encoderNetwork.encoder_rnnlayer(encoder_emb_inp,\n",
    "                                                initial_state =encoder_initial_cell_state)\n",
    "\n",
    "start_tokens = tf.fill([inference_batch_size],Y_tokenizer.word_index['<start>'])\n",
    "#print(start_tokens)\n",
    "end_token = Y_tokenizer.word_index['<end>']\n",
    "\n",
    "\n",
    "\n",
    "decoder_input = tf.expand_dims([Y_tokenizer.word_index['<start>']]* inference_batch_size,1)\n",
    "decoder_emb_inp = decoderNetwork.decoder_embedding(decoder_input)\n",
    "\n",
    "\n",
    "#From official documentation\n",
    "#NOTE If you are using the BeamSearchDecoder with a cell wrapped in AttentionWrapper, then you must ensure that:\n",
    "\n",
    "#The encoder output has been tiled to beam_width via tfa.seq2seq.tile_batch (NOT tf.tile).\n",
    "#The batch_size argument passed to the get_initial_state method of this wrapper is equal to true_batch_size * beam_width.\n",
    "#The initial state created with get_initial_state above contains a cell_state value containing properly tiled final state from the encoder.\n",
    "encoder_memory = tfa.seq2seq.tile_batch(a, beam_width)\n",
    "decoderNetwork.attention_mechanism.setup_memory(encoder_memory)\n",
    "print(\"beam_with * [batch_size, Tx, rnn_units] :  3 * [2, Tx, rnn_units]] :\", encoder_memory.shape)\n",
    "#set decoder_inital_state which is an AttentionWrapperState considering beam_width\n",
    "decoder_initial_state = decoderNetwork.rnn_cell.get_initial_state(batch_size = inference_batch_size* beam_width,dtype = Dtype)\n",
    "encoder_state = tfa.seq2seq.tile_batch([a_tx, c_tx], multiplier=beam_width)\n",
    "decoder_initial_state = decoder_initial_state.clone(cell_state=encoder_state) \n",
    "\n",
    "decoder_instance = tfa.seq2seq.BeamSearchDecoder(decoderNetwork.rnn_cell,beam_width=beam_width,\n",
    "                                                 output_layer=decoderNetwork.dense_layer)\n",
    "\n",
    "\n",
    "# Since we do not know the target sequence lengths in advance, we use maximum_iterations to limit the translation lengths.\n",
    "# One heuristic is to decode up to two times the source sentence lengths.\n",
    "maximum_iterations = tf.round(tf.reduce_max(Tx) * 2)\n",
    "\n",
    "#initialize inference decoder\n",
    "\n",
    "(first_finished, first_inputs,first_state) = decoder_instance.initialize(decoder_embedding_matrix,\n",
    "                             start_tokens = start_tokens,\n",
    "                             end_token=end_token,\n",
    "                             initial_state = decoder_initial_state)\n",
    "#print( first_finished.shape)\n",
    "print(\"\\nfirst_inputs returns the same decoder_input i.e. embedding of  <start> :\",first_inputs.shape)\n",
    "\n",
    "inputs = first_inputs\n",
    "state = first_state  \n",
    "predictions = np.empty((inference_batch_size, beam_width,0), dtype = np.int32)\n",
    "beam_scores =  np.empty((inference_batch_size, beam_width,0), dtype = np.float32)                                                                            \n",
    "for j in range(maximum_iterations):\n",
    "    beam_search_outputs, next_state, next_inputs, finished = decoder_instance.step(j,inputs,state)\n",
    "    inputs = next_inputs\n",
    "    state = next_state\n",
    "    outputs = np.expand_dims(beam_search_outputs.predicted_ids,axis = -1)\n",
    "    scores = np.expand_dims(beam_search_outputs.scores,axis = -1)\n",
    "    predictions = np.append(predictions, outputs, axis = -1)\n",
    "    beam_scores = np.append(beam_scores, scores, axis = -1)\n",
    "print(predictions.shape) \n",
    "print(beam_scores.shape) "
   ]
  },
  {
   "cell_type": "code",
   "execution_count": 142,
   "metadata": {},
   "outputs": [
    {
     "name": "stdout",
     "output_type": "stream",
     "text": [
      "-----------------\n",
      "Equation:\n",
      "1  \n",
      "x\n",
      "-----------------\n",
      "\n",
      "Integral Equation:\n",
      "---------------------------------------------\n",
      "+ / -1 8 + * -1 x + * -9 pow cos 4 -1 * / 1 4 * -1  beam score:  -43.3278\n",
      "* -1 * 6 * pow asinh asinh + 5 * -8 pow sin 3 -1 -1 pow log 2 pi acos 4  beam score:  -57.305958\n",
      "exp x * pow sinh 5 -1 + * -1 acosh  beam score:  -31.449848\n",
      "tan * atan atan  beam score:  -12.818518\n",
      "cosh -3 -1 x * / 48 5 * pow acosh / -7 2 -1 + 4 asinh 2 sinh tanh x  beam score:  -69.38785\n",
      "---------------------------------------------\n",
      "+ * -1 x + * / -1 4 tanh 2 * / 1 4 cosh 4  beam score:  -24.137402\n",
      "* -1 -1 pow + * -1 x + * -9 pow cos 4 -1 * / 1 4 * pi acos 4  beam score:  -53.936237\n",
      "exp / * 8 sinh 5 -1 + * -1 acosh -5 + * x sinh 5 tanh 10  beam score:  -47.55332\n",
      "tan 5 + * -1 pow x -1 + * -1 atan 2 + * -1 atanh 4 * -1 sinh 4  beam score:  -75.83485\n",
      "cosh -3 + * 5 cos tan / 25 17 * / -1 2 x  beam score:  -56.12629\n"
     ]
    }
   ],
   "source": [
    "print(\"-----------------\")\n",
    "print(\"Equation:\")\n",
    "print(input_raw)\n",
    "print(\"-----------------\")\n",
    "print(\"\\nIntegral Equation:\")\n",
    "for i in range(len(predictions)):\n",
    "    print(\"---------------------------------------------\")\n",
    "    output_beams_per_sample = predictions[i,:,:]\n",
    "    score_beams_per_sample = beam_scores[i,:,:]\n",
    "    for beam, score in zip(output_beams_per_sample,score_beams_per_sample) :\n",
    "        seq = list(itertools.takewhile( lambda index: index !=end_token, beam))\n",
    "        score_indexes = np.arange(len(seq))\n",
    "        beam_score = score[score_indexes].sum()\n",
    "        print(\" \".join( [Y_tokenizer.index_word[w] for w in seq]), \" beam score: \", beam_score)"
   ]
  },
  {
   "cell_type": "markdown",
   "metadata": {},
   "source": [
    "### Evaluate Loss"
   ]
  },
  {
   "cell_type": "code",
   "execution_count": 165,
   "metadata": {},
   "outputs": [],
   "source": [
    "def eval_step(input_batch, output_batch,encoder_initial_cell_state, BATCH_SIZE):\n",
    "    #initialize loss = 0\n",
    "    loss = 0\n",
    "\n",
    "    # we can do initialization in outer block\n",
    "    #encoder_initial_cell_state = encoder.initialize_initial_state()\n",
    "    encoder_emb_inp = encoderNetwork.encoder_embedding(input_batch)\n",
    "    a, h_tx, c_tx = encoderNetwork.encoder_rnnlayer(encoder_emb_inp, \n",
    "                                                    initial_state =encoder_initial_cell_state)\n",
    "\n",
    "\n",
    "\n",
    "    decoder_input = output_batch[:,:-1] # ignore <end>\n",
    "    #compare logits with timestepped +1 version of decoder_input\n",
    "    decoder_output = output_batch[:,1:] #ignore <start>\n",
    "    decoder_emb_inp = decoderNetwork.decoder_embedding(decoder_input)\n",
    "    decoder_instance = tfa.seq2seq.BasicDecoder(decoderNetwork.rnn_cell, \n",
    "                                                greedy_sampler,\n",
    "                                                decoderNetwork.dense_layer)\n",
    "    #BasicDecoderOutput\n",
    "\n",
    "    decoderNetwork.attention_mechanism.setup_memory(a)\n",
    "    #pass [ last step activations , encoder memory_state ] as input to decoder for LSTM\n",
    "    \n",
    "    decoder_initial_state = decoderNetwork.build_decoder_initial_state(BATCH_SIZE,\n",
    "                                                                       encoder_state=[h_tx, c_tx],\n",
    "                                                                       Dtype=tf.float32)\n",
    "    outputs, _, _ = decoderNetwork.decoder(decoder_emb_inp,initial_state=decoder_initial_state,\n",
    "                                           sequence_length=BATCH_SIZE*[Ty-1])\n",
    "    logits = outputs.rnn_output\n",
    "    sample_id = outputs.sample_id\n",
    "    #Calculate loss\n",
    "    loss = loss_function(logits, decoder_output)\n",
    "    return loss, sample_id"
   ]
  },
  {
   "cell_type": "markdown",
   "metadata": {},
   "source": [
    "### Evaluation Loss on Entire Test Set"
   ]
  },
  {
   "cell_type": "code",
   "execution_count": 166,
   "metadata": {},
   "outputs": [
    {
     "name": "stdout",
     "output_type": "stream",
     "text": [
      "(20, 152)\n",
      "Training loss 2.277127504348755\n"
     ]
    }
   ],
   "source": [
    "dataset_test = tf.data.Dataset.from_tensor_slices((X_test, Y_test)).batch(len(X_test))\n",
    "for (input_batch, output_batch) in dataset_test.take(-1):\n",
    "    batch_size = len(input_batch)\n",
    "    print(input_batch.shape)\n",
    "    encoder_initial_cell_state = [tf.zeros((batch_size, rnn_units)),\n",
    "                                  tf.zeros((batch_size, rnn_units))]\n",
    "    loss,_ = eval_step(input_batch, output_batch, encoder_initial_cell_state, batch_size)\n",
    "    loss = tf.reduce_mean(loss)\n",
    "    print(\"Training loss {}\".format(loss) )"
   ]
  },
  {
   "cell_type": "code",
   "execution_count": 167,
   "metadata": {},
   "outputs": [
    {
     "name": "stdout",
     "output_type": "stream",
     "text": [
      "tf.Tensor([5], shape=(1,), dtype=int32)\n",
      "(1, 256)\n",
      "0.751768\n"
     ]
    }
   ],
   "source": [
    "#BasicDecoder initialization returns the <start> sequence as first_input\n",
    "#Check Inference Cell output\n",
    "\n",
    "start_index = Y_tokenizer.word_index['<start>']\n",
    "start_index = tf.constant([start_index], dtype = tf.int32)\n",
    "print(start_index)\n",
    "start_index_emb = decoderNetwork.decoder_embedding(start_index)\n",
    "print(start_index_emb.shape)\n",
    "start_index_emb_avg = tf.reduce_sum(start_index_emb)\n",
    "print(start_index_emb_avg.numpy()) "
   ]
  },
  {
   "cell_type": "code",
   "execution_count": null,
   "metadata": {},
   "outputs": [],
   "source": []
  }
 ],
 "metadata": {
  "kernelspec": {
   "display_name": "symbolic_math",
   "language": "python",
   "name": "symbolic_math"
  },
  "language_info": {
   "codemirror_mode": {
    "name": "ipython",
    "version": 3
   },
   "file_extension": ".py",
   "mimetype": "text/x-python",
   "name": "python",
   "nbconvert_exporter": "python",
   "pygments_lexer": "ipython3",
   "version": "3.6.8"
  }
 },
 "nbformat": 4,
 "nbformat_minor": 4
}
