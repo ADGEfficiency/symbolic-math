{
 "cells": [
  {
   "cell_type": "markdown",
   "metadata": {},
   "source": [
    "###  p_1 != 0"
   ]
  },
  {
   "cell_type": "markdown",
   "metadata": {},
   "source": [
    "### 1. calculate D(e,n)"
   ]
  },
  {
   "cell_type": "code",
   "execution_count": 1,
   "metadata": {},
   "outputs": [],
   "source": [
    "from random import choices\n",
    "import numpy as np"
   ]
  },
  {
   "cell_type": "code",
   "execution_count": 2,
   "metadata": {},
   "outputs": [],
   "source": [
    "def unary_binary_subtrees(e, n):\n",
    "    if e==0:\n",
    "        return 0\n",
    "    elif n==0:\n",
    "        return 1\n",
    "    else:\n",
    "        return unary_binary_subtrees(e-1, n) + unary_binary_subtrees(e, n-1) + unary_binary_subtrees(e+1, n-1)"
   ]
  },
  {
   "cell_type": "markdown",
   "metadata": {},
   "source": [
    "### 2. calculate distribution K(e,n)"
   ]
  },
  {
   "cell_type": "code",
   "execution_count": 3,
   "metadata": {},
   "outputs": [],
   "source": [
    "def distribution_k_a(e, n):\n",
    "    population = []\n",
    "    weights = []\n",
    "    for k in range(e):\n",
    "        population.append( (k, 1))\n",
    "        weights.append(unary_binary_subtrees(e-k, n-1)/unary_binary_subtrees(e, n))\n",
    "        population.append((k, 2))\n",
    "        weights.append(unary_binary_subtrees(e-k+1, n-1)/unary_binary_subtrees(e, n))\n",
    "    return population, weights"
   ]
  },
  {
   "cell_type": "markdown",
   "metadata": {},
   "source": [
    "### 3. leaves and binary operators"
   ]
  },
  {
   "cell_type": "code",
   "execution_count": 4,
   "metadata": {},
   "outputs": [],
   "source": [
    "leaves = [\"x\", \"-5\", \"-4\", \"-3\", \"-2\", \"-1\", \"1\", \"2\", \"3\", \"4\", \"5\"]\n",
    "binary_operators = [\"+\", \"-\", \"*\", \"/\"]\n",
    "unary_operators = [\"exp\", \"log\", \"sqrt\", \"sin\", \"cos\", \"tan\", \"arcsin\", \"arccos\", \"arctan\", \"sinh\", \"cosh\", \"tanh\", \"sinh\", \"cosh\", \"tanh\"]"
   ]
  },
  {
   "cell_type": "markdown",
   "metadata": {},
   "source": [
    "### 4. generate random binary trees"
   ]
  },
  {
   "cell_type": "code",
   "execution_count": 5,
   "metadata": {},
   "outputs": [],
   "source": [
    "class Node_Binary:\n",
    "    operator = True\n",
    "    binary = True\n",
    "    operand = False\n",
    "    def __init__(self, data, left=None, right=None):\n",
    "        self.data = data\n",
    "        self.left = left\n",
    "        self.right = right\n",
    "        \n",
    "class Node_Unary:\n",
    "    operator = True\n",
    "    binary = False\n",
    "    operand = False\n",
    "    def __init__(self, data, middle=None):\n",
    "        self.data = data\n",
    "        self.middle = middle \n",
    "        \n",
    "class Leaf:\n",
    "    operator = False\n",
    "    binary = False\n",
    "    operand = True\n",
    "    def __init__(self, data):\n",
    "        self.data = data"
   ]
  },
  {
   "cell_type": "code",
   "execution_count": 10,
   "metadata": {},
   "outputs": [],
   "source": [
    "def random_binary_trees(n):\n",
    "    population, weights = distribution_k_a(1, n)\n",
    "    k, a = choices(population, weights)[0]\n",
    "    if a == 1:\n",
    "        operator = choices(unary_operators)[0]\n",
    "        node = Node_Unary(operator)\n",
    "        empty_node = [(node, 'middle')]\n",
    "        e = 1\n",
    "    else:\n",
    "        operator = choices(binary_operators)[0]\n",
    "        node = Node_Binary(operator)\n",
    "        empty_node = [(node, 'left'), (node, 'right')]\n",
    "        e = 2\n",
    "    n = n - 1\n",
    "    while n > 0:\n",
    "        population, weights = distribution_k_a(e, n)\n",
    "        k, a = choices(population, weights)[0]\n",
    "        i = 0\n",
    "        new_empty_node = []\n",
    "        for ele in empty_node:\n",
    "            if i < k:\n",
    "                leave = choices(leaves)[0]\n",
    "                value = Leaf(leave)\n",
    "                setattr(ele[0], ele[1], value)\n",
    "            elif i == k:\n",
    "                if a == 1:\n",
    "                    operator = choices(unary_operators)[0]\n",
    "                    value = Node_Unary(operator)\n",
    "                    setattr(ele[0], ele[1], value)\n",
    "                    if ele[1] == 'left':\n",
    "                        new_ele = ele[0].left\n",
    "                    elif ele[1] == 'middle':\n",
    "                        new_ele = ele[0].middle\n",
    "                    else:\n",
    "                        new_ele = ele[0].right\n",
    "                    new_empty_node = [(new_ele, 'middle')]\n",
    "                    e = e - k\n",
    "                else:\n",
    "                    operator = choices(binary_operators)[0]\n",
    "                    value = Node_Binary(operator)\n",
    "                    setattr(ele[0], ele[1], value)\n",
    "                    if ele[1] == 'left':\n",
    "                        new_ele = ele[0].left\n",
    "                    elif ele[1] == 'middle':\n",
    "                        new_ele = ele[0].middle\n",
    "                    else:\n",
    "                        new_ele = ele[0].right\n",
    "                    new_empty_node = [(new_ele, 'left'), (new_ele, 'right')]\n",
    "                    e = e - k + 1\n",
    "            else:\n",
    "                new_empty_node.append(ele)\n",
    "            i += 1\n",
    "        empty_node = new_empty_node\n",
    "        n = n - 1\n",
    "    if len(empty_node) != 0:\n",
    "        for ele in empty_node:\n",
    "            leave = choices(leaves)[0]\n",
    "            value = Leaf(leave)\n",
    "            setattr(ele[0], ele[1], value)\n",
    "            \n",
    "    return node"
   ]
  },
  {
   "cell_type": "code",
   "execution_count": 18,
   "metadata": {},
   "outputs": [],
   "source": [
    "root = random_binary_trees(4)"
   ]
  },
  {
   "cell_type": "code",
   "execution_count": 19,
   "metadata": {},
   "outputs": [
    {
     "data": {
      "text/plain": [
       "['cosh', '-', '4', 'sinh', '/', '-4', '-2']"
      ]
     },
     "execution_count": 19,
     "metadata": {},
     "output_type": "execute_result"
    }
   ],
   "source": [
    "def traverse_unary_binary(root, seq=None, verbose=False):\n",
    "    if not seq:\n",
    "        seq = []\n",
    "        \n",
    "    if verbose:\n",
    "        print(root.data)\n",
    "        \n",
    "    seq.append(root.data)\n",
    "    \n",
    "    if root.binary:\n",
    "        if root.left.operator:\n",
    "            traverse_unary_binary(root.left, seq)\n",
    "        else:\n",
    "            if verbose:\n",
    "                print(root.left.data)\n",
    "            seq.append(root.left.data)\n",
    "        \n",
    "        if root.right.operator:\n",
    "            traverse_unary_binary(root.right, seq)\n",
    "        else:\n",
    "            if verbose:\n",
    "                print(root.right.data)\n",
    "            seq.append(root.right.data)\n",
    "    else:\n",
    "        if root.middle.operator:\n",
    "            traverse_unary_binary(root.middle, seq)\n",
    "        else:\n",
    "            if verbose:\n",
    "                print(root.middle.data)\n",
    "            seq.append(root.middle.data)\n",
    "    \n",
    "    return seq\n",
    "        \n",
    "traverse_unary_binary(root) "
   ]
  },
  {
   "cell_type": "markdown",
   "metadata": {},
   "source": [
    "- Test traverse <br>\n",
    "need to add test for unary-binary mixed expression"
   ]
  },
  {
   "cell_type": "code",
   "execution_count": null,
   "metadata": {},
   "outputs": [],
   "source": [
    "def test_traverse():\n",
    "    \n",
    "    # prefix = (5 − 6) × 7\n",
    "    tree = Node('*')\n",
    "    tree.left = Node('-')\n",
    "    tree.right = Leaf(7)\n",
    "    tree.left.left = Leaf(5)\n",
    "    tree.left.right = Leaf(6)\n",
    "    \n",
    "    res = traverse(tree, verbose=False)\n",
    "    desired = ['*', '-', 5, 6, 7]\n",
    "    assert desired == res\n",
    "    \n",
    "test_traverse()"
   ]
  },
  {
   "cell_type": "code",
   "execution_count": null,
   "metadata": {},
   "outputs": [],
   "source": [
    "def test_traverse2():\n",
    "    \n",
    "    # prefix = 2 + 3 * (5 + 2)\n",
    "    tree = Node('+')\n",
    "    tree.left = Leaf(2)\n",
    "    tree.right = Node('*')\n",
    "    tree.right.left = Leaf(3)\n",
    "    tree.right.right = Node('+')\n",
    "    tree.right.right.left = Leaf(5)\n",
    "    tree.right.right.right = Leaf(2)\n",
    "\n",
    "    res = traverse(tree, verbose=False)\n",
    "    desired = ['+', 2, '*', 3, '+', 5, 2]\n",
    "    assert desired == res\n",
    "    \n",
    "test_traverse2()"
   ]
  },
  {
   "cell_type": "markdown",
   "metadata": {},
   "source": [
    "<pre>\n",
    "Algorithm infix (tree)\n",
    " if (tree not empty)\n",
    "    if (tree token is operator)\n",
    "       print (open parenthesis)\n",
    "    end if\n",
    "    infix (tree left subtree)\n",
    "    print (tree token)\n",
    "    infix (tree right subtree)\n",
    "    if (tree token is operator)\n",
    "       print (close parenthesis)\n",
    "    end if\n",
    " end if\n",
    "end infix\n",
    "<pre>"
   ]
  },
  {
   "cell_type": "code",
   "execution_count": 26,
   "metadata": {},
   "outputs": [],
   "source": [
    "def traverse_unary_binary_infix(root, seq=None):\n",
    "    if not seq:\n",
    "        seq = []\n",
    "    if root.operator:\n",
    "        if root.binary:\n",
    "            seq.append(\"(\")    \n",
    "            if root.left.operator:\n",
    "                traverse_unary_binary_infix(root.left, seq)\n",
    "            else:\n",
    "                seq.append(root.left.data)\n",
    "            seq.append(root.data)    \n",
    "            if root.right.operator:\n",
    "                traverse_unary_binary_infix(root.right, seq)\n",
    "            else:\n",
    "                seq.append(root.right.data)    \n",
    "            seq.append(\")\")\n",
    "        else:\n",
    "            seq.append(root.data)\n",
    "            seq.append(\"(\")\n",
    "            if root.middle.operator:\n",
    "                traverse_unary_binary_infix(root.middle, seq)\n",
    "            else:\n",
    "                seq.append(root.middle.data)  \n",
    "            seq.append(\")\") \n",
    "    return seq       \n",
    "seq = traverse_unary_binary_infix(root)                "
   ]
  },
  {
   "cell_type": "code",
   "execution_count": 29,
   "metadata": {},
   "outputs": [
    {
     "name": "stdout",
     "output_type": "stream",
     "text": [
      "['cosh', '(', '(', '4', '-', 'sinh', '(', '(', '-4', '/', '-2', ')', ')', ')', ')']\n"
     ]
    }
   ],
   "source": [
    "print(seq)"
   ]
  },
  {
   "cell_type": "markdown",
   "metadata": {},
   "source": [
    "<pre>\n",
    "Algorithm prefix (tree) \n",
    " if (tree not empty) \n",
    "    print (tree token) \n",
    "    prefix (tree left subtree) \n",
    "    prefix (tree right subtree)\n",
    " end if \n",
    "end prefix <br>\n",
    "<pre>"
   ]
  },
  {
   "cell_type": "code",
   "execution_count": 28,
   "metadata": {},
   "outputs": [
    {
     "data": {
      "text/plain": [
       "['cosh', '-', '4', 'sinh', '/', '-4', '-2']"
      ]
     },
     "execution_count": 28,
     "metadata": {},
     "output_type": "execute_result"
    }
   ],
   "source": [
    "def traverse_unary_binary_prefix(root, seq=None, verbose=False):\n",
    "    if not seq:\n",
    "        seq = []\n",
    "        \n",
    "    if verbose:\n",
    "        print(root.data)\n",
    "        \n",
    "    seq.append(root.data)\n",
    "    \n",
    "    if root.binary:\n",
    "        if root.left.operator:\n",
    "            traverse_unary_binary(root.left, seq)\n",
    "        else:\n",
    "            if verbose:\n",
    "                print(root.left.data)\n",
    "            seq.append(root.left.data)\n",
    "        \n",
    "        if root.right.operator:\n",
    "            traverse_unary_binary(root.right, seq)\n",
    "        else:\n",
    "            if verbose:\n",
    "                print(root.right.data)\n",
    "            seq.append(root.right.data)\n",
    "    else:\n",
    "        if root.middle.operator:\n",
    "            traverse_unary_binary(root.middle, seq)\n",
    "        else:\n",
    "            if verbose:\n",
    "                print(root.middle.data)\n",
    "            seq.append(root.middle.data)\n",
    "    \n",
    "    return seq\n",
    "        \n",
    "traverse_unary_binary_prefix(root)  "
   ]
  },
  {
   "cell_type": "code",
   "execution_count": null,
   "metadata": {},
   "outputs": [],
   "source": []
  }
 ],
 "metadata": {
  "kernelspec": {
   "display_name": "symbolic_math",
   "language": "python",
   "name": "symbolic_math"
  },
  "language_info": {
   "codemirror_mode": {
    "name": "ipython",
    "version": 3
   },
   "file_extension": ".py",
   "mimetype": "text/x-python",
   "name": "python",
   "nbconvert_exporter": "python",
   "pygments_lexer": "ipython3",
   "version": "3.6.8"
  }
 },
 "nbformat": 4,
 "nbformat_minor": 4
}
