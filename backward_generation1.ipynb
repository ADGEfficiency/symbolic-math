{
 "cells": [
  {
   "cell_type": "markdown",
   "metadata": {},
   "source": [
    "#### Backward generation(BWD)\n",
    "- 20 data"
   ]
  },
  {
   "cell_type": "markdown",
   "metadata": {},
   "source": [
    "1. generate data after integral"
   ]
  },
  {
   "cell_type": "code",
   "execution_count": 2,
   "metadata": {},
   "outputs": [],
   "source": [
    "import random\n",
    "from  random_unary_binary_tree1 import random_binary_trees\n",
    "from  random_unary_binary_tree1 import traverse_unary_binary_prefix \n",
    "from infix_prefix1 import prefix_to_infix\n",
    "from infix_prefix1 import infix_to_prefix\n",
    "from sympy.parsing.sympy_parser import parse_expr\n",
    "import time"
   ]
  },
  {
   "cell_type": "code",
   "execution_count": 3,
   "metadata": {},
   "outputs": [],
   "source": [
    "from __future__ import division\n",
    "from sympy import *\n",
    "import numpy as np"
   ]
  },
  {
   "cell_type": "code",
   "execution_count": 9,
   "metadata": {},
   "outputs": [
    {
     "name": "stdout",
     "output_type": "stream",
     "text": [
      "Collecting symengine\n",
      "  Downloading symengine-0.6.0-cp36-cp36m-macosx_10_9_x86_64.whl (12.2 MB)\n",
      "\u001b[K     |████████████████████████████████| 12.2 MB 10.1 MB/s eta 0:00:01\n",
      "\u001b[?25hInstalling collected packages: symengine\n",
      "Successfully installed symengine-0.6.0\n"
     ]
    }
   ],
   "source": [
    "!pip install symengine"
   ]
  },
  {
   "cell_type": "code",
   "execution_count": 4,
   "metadata": {},
   "outputs": [],
   "source": [
    "x = symbols('x', real=True)"
   ]
  },
  {
   "cell_type": "code",
   "execution_count": 4,
   "metadata": {},
   "outputs": [
    {
     "name": "stdout",
     "output_type": "stream",
     "text": [
      "step 1: 0.0044629573822021484\n",
      "step 2: 0.00021314620971679688\n",
      "step 3: 5.507469177246094e-05\n",
      "step 4: 0.4778008460998535\n",
      "step 5: 0.0022690296173095703\n",
      "step 6: 0.23882389068603516\n",
      "step 7: 0.0024809837341308594\n",
      "All step: 0.7261059284210205\n",
      "step 1: 0.0024399757385253906\n",
      "step 2: 0.00020694732666015625\n",
      "step 3: 3.504753112792969e-05\n",
      "step 4: 0.09685301780700684\n",
      "step 5: 0.001967906951904297\n",
      "step 6: 0.06145119667053223\n",
      "step 7: 0.0014410018920898438\n",
      "All step: 0.16439509391784668\n"
     ]
    }
   ],
   "source": [
    "sequence = []\n",
    "\n",
    "i = 0\n",
    "while i<=1:\n",
    "    #n = random.randint(1, 11)\n",
    "    #print(n)\n",
    "    n = 15\n",
    "    start = time.time()\n",
    "    root = random_binary_trees(n)\n",
    "    \n",
    "    time1 = time.time()\n",
    "    print(\"step 1:\", time1 - start)\n",
    "    \n",
    "    result = traverse_unary_binary_prefix(root)\n",
    "\n",
    "    time2 = time.time()\n",
    "    print(\"step 2:\", time2 - time1)\n",
    "    \n",
    "    if 'x' not in result:\n",
    "        continue\n",
    "    result_infix = prefix_to_infix(result)\n",
    "    \n",
    "    time3 = time.time()\n",
    "    print(\"step 3:\", time3 - time2)    \n",
    "    \n",
    "    result_simp = simplify(parse_expr(result_infix, local_dict={'x': x}))\n",
    "    \n",
    "    time4 = time.time()\n",
    "    print(\"step 4:\", time4 - time3) \n",
    "    \n",
    "    result_simp_prefix = infix_to_prefix(result_simp)\n",
    "    \n",
    "    time5 = time.time()\n",
    "    print(\"step 5:\", time5 - time4) \n",
    "    \n",
    "    expression = simplify(diff(result_simp, x))\n",
    "\n",
    "    time6 = time.time()\n",
    "    print(\"step 6:\", time6 - time5) \n",
    "    \n",
    "    expression_prefix = infix_to_prefix(expression)\n",
    "    \n",
    "    time7 = time.time()\n",
    "    print(\"step 7:\", time7 - time6) \n",
    "    print(\"All step:\", time7 - start)\n",
    "    \n",
    "    sequence.append([expression_prefix, result_simp_prefix])\n",
    "    i += 1"
   ]
  },
  {
   "cell_type": "code",
   "execution_count": 5,
   "metadata": {},
   "outputs": [
    {
     "name": "stdout",
     "output_type": "stream",
     "text": [
      "step 1: 0.004584789276123047\n",
      "step 2: 0.0002510547637939453\n",
      "step 3: 5.698204040527344e-05\n",
      "log((-x + atan(x) + 5*sqrt(3)*I + exp(-x))*log(3) - 3)\n",
      "log((-x + atan(x) + 5*sqrt(3)*I + exp(-x))*log(3) - 3)\n",
      "step 4: 0.3444390296936035\n",
      "step 5: 0.0026819705963134766\n",
      "log(3)*(-1 + (1 + x**2)**(-1) - exp(-x))/(-3 + log(3)*(-x + 5*I*sqrt(3) + exp(-x) + atan(x)))\n",
      "-(x**2 + (x**2 + 1)*exp(x) - exp(x) + 1)*log(3)/((x**2 + 1)*(((-x + atan(x) + 5*sqrt(3)*I)*exp(x) + 1)*log(3) - 3*exp(x)))\n",
      "step 6: 0.147413969039917\n",
      "step 7: 0.00707697868347168\n",
      "All step: 0.5065047740936279\n",
      "step 1: 0.0023641586303710938\n",
      "step 2: 0.00019693374633789062\n",
      "step 1: 0.0027937889099121094\n",
      "step 2: 0.0002372264862060547\n",
      "step 3: 6.29425048828125e-05\n",
      "acos(4 - sinh(x - 4*cosh(2*x + 4))) + 1 + 2*I*pi/3\n",
      "acos(4 - sinh(x - 4*cosh(2*x + 4))) + 1 + 2*I*pi/3\n",
      "step 4: 1.3690879344940186\n",
      "step 5: 0.003443002700805664\n",
      "cosh(x - 4*cosh(4 + 2*x))*(1 - 8*sinh(4 + 2*x))/sqrt(1 - (4 - sinh(x - 4*cosh(4 + 2*x)))**2)\n",
      "-(8*sinh(2*x + 4) - 1)*cosh(x - 4*cosh(2*x + 4))/sqrt(1 - (4 - sinh(x - 4*cosh(2*x + 4)))**2)\n",
      "step 6: 3.7525980472564697\n",
      "step 7: 0.008034944534301758\n",
      "All step: 5.136257886886597\n"
     ]
    }
   ],
   "source": [
    "#from symengine import *\n",
    "sequence = []\n",
    "\n",
    "i = 0\n",
    "while i<=1:\n",
    "    #n = random.randint(1, 11)\n",
    "    #print(n)\n",
    "    n = 15\n",
    "    start = time.time()\n",
    "    root = random_binary_trees(n)\n",
    "    \n",
    "    time1 = time.time()\n",
    "    print(\"step 1:\", time1 - start)\n",
    "    \n",
    "    result = traverse_unary_binary_prefix(root)\n",
    "\n",
    "    time2 = time.time()\n",
    "    print(\"step 2:\", time2 - time1)\n",
    "    \n",
    "    if 'x' not in result:\n",
    "        continue\n",
    "    result_infix = prefix_to_infix(result)\n",
    "    \n",
    "    time3 = time.time()\n",
    "    print(\"step 3:\", time3 - time2)    \n",
    "    \n",
    "    result_simp = parse_expr(result_infix, local_dict={'x': x})\n",
    "    print(result_simp)\n",
    "    result_simp = simplify(result_simp)\n",
    "    print(result_simp)\n",
    "    \n",
    "    time4 = time.time()\n",
    "    print(\"step 4:\", time4 - time3) \n",
    "    \n",
    "    result_simp_prefix = infix_to_prefix(result_simp)\n",
    "    \n",
    "    time5 = time.time()\n",
    "    print(\"step 5:\", time5 - time4) \n",
    "    \n",
    "    expression = diff(result_simp, x)\n",
    "    print(expression)\n",
    "    expression = simplify(expression)\n",
    "    print(expression)\n",
    "\n",
    "    time6 = time.time()\n",
    "    print(\"step 6:\", time6 - time5) \n",
    "    \n",
    "    expression_prefix = infix_to_prefix(expression)\n",
    "    \n",
    "    time7 = time.time()\n",
    "    print(\"step 7:\", time7 - time6) \n",
    "    print(\"All step:\", time7 - start)\n",
    "    \n",
    "    sequence.append([expression_prefix, result_simp_prefix])\n",
    "    i += 1"
   ]
  },
  {
   "cell_type": "code",
   "execution_count": 14,
   "metadata": {},
   "outputs": [
    {
     "name": "stdout",
     "output_type": "stream",
     "text": [
      "4 - sinh(x*(x + 10)*acosh(5 + asin(4))/8 - 2 + log(5))\n",
      "sinh(exp(-x + 2 - 5*atanh(5/(2*acos(-3)))/x) + 1)/acosh(3) - 5\n",
      "sinh(2*x + 1/sinh(2) + 3*cosh(2)/5) - 2 + asinh(5)\n",
      "2*x - cos(exp(-5)) + 1/3\n",
      "-x/4 + 3 + 3*asin(4) - 1/cos(4*x)\n",
      "-8*x - 6 - 2*sqrt(3)\n",
      "acosh(tan(tanh(x)) + 3)\n",
      "6 + sinh(3) + sqrt(3)*I/3 - 12/x\n",
      "8 - 2*x\n",
      "4*tan(tan(5 - 2/x)/3 - 5)/(5*x*sinh(3))\n",
      "-x - 19 - 1/asin(x)\n",
      "-3*x - x*asin(2) + 3*exp(-x - 1/4)*sinh(4) + 1\n",
      "2*(10 - 2*sinh(1))*(x + exp(-tan(1))/3)/sinh(cosh(x + 1)) - 3\n",
      "-x/3 - 5 - 20/sinh(5)\n",
      "-4*x\n",
      "x + x/(2*(x + atanh(5 - tanh(5 - cosh(5))))) - 4\n",
      "acos(atanh(x) + 3) - 1 + atan(5)\n",
      "x - 2 - 200*I/pi + log(acosh(-9))\n",
      "sqrt(5)*sqrt(-x)/cos(5*sin(5/(log(4) + I*pi))) + 2\n",
      "sqrt(2)*I/acos(x)\n",
      "x + 1\n",
      "(E*x*(x + 3)*cosh(3) + 4*acos(x))*exp(-1)/(x*acos(x))\n",
      "tan(3)*acos(cos(sqrt(cosh(x)))) + 3*tan(tanh(5/(4*sinh(2))))\n",
      "-1/cos(x*sin(5))\n",
      "-x + 4*atan(-1 + sinh(1) + 5/x) + 5\n",
      "I*x*sqrt(tan(1)) + exp(-1/acosh(x))*tanh(sin(3))/x\n",
      "-4*tan(1/tan(5*log(x)/3 + 1)) - 2\n",
      "4*x + acos(-2*tan(cosh(x)) - 2*atan(2)) - 4\n",
      "-sin(acos(2*sin(-x + tan(2 - sinh(5)) + 1)) - 4)\n",
      "20*x - 5*cos(x) - 20 + tan(2) + 5*tan(3/4)\n",
      "sqrt(acosh(-15*sqrt(x) - 15*x + 10 - 45/asinh(x)))\n",
      "sqrt(3)*sqrt((14 - 11*x)/(x - 2))/3\n",
      "4*x - 24\n",
      "5*x*asin(5)/sin(5) - 8 - cos(log(1 + sqrt(2)))\n",
      "-x - 3/5\n",
      "-exp(x*acos(x))/2 - 2\n",
      "16 + 2/sinh(3*x + exp(-5) + 26)\n",
      "(x + 11/2)*acos(cos(5*x))\n",
      "4 + cos(cos(2)*atanh(5)) + 4/x + acosh(5*x)/x**2\n",
      "asin(4*x) - 4 - 3*sin(3)/2 + sqrt(asinh(atan(2)))\n",
      "x*asinh(sin(2)/x) + 5\n",
      "-1 + 3/atanh(x - 5*sqrt(2)*I/2) + sinh(4)/x\n",
      "-4*log(-(5*x - 42)/(5*asin(2 - atan(39))))\n",
      "4*acos(x) - 1/tanh(3) - atanh(3)\n",
      "40*x + 8\n",
      "2*x - 1/4\n",
      "cosh(atan(x - 3))\n",
      "atanh(cosh(asin(x))) + 4\n",
      "exp(tanh((x + asinh(4) + 6)/x)/2 + 2)\n",
      "tanh(pi*exp(-2)/2 + 20/asin(x))\n",
      "-atanh(-5*x + 1 + 5/(3*x))\n",
      "4*x*atan(sin(-2 + sin(3) + asin(sinh(1)))) + 3\n",
      "asin(5)/atanh(exp(-sinh(1/(3*x)))) + exp(-2*atanh(cos(x + 5)))\n",
      "acosh(-2*sin(x) + pi + 10 + 2*asin(sinh(20)) + asinh(asin(6)))\n",
      "-tanh(7*x/4 - 13/4)\n",
      "3*x*acos(x) + 4*x/25 + 13/6\n",
      "x - 11 - tanh(1)\n",
      "-12 - 15/x\n",
      "4*exp(cos(7/(2*asin(x))))\n",
      "x + 4\n",
      "-atan(asinh(x*(5 - exp(-3*asin(3/x)))) + 2) - 5\n",
      "5*x - 5*(x + 4)*asin(5) - 6\n",
      "-4*sqrt(x - sinh(x*(log(3) + I*pi)*exp(-atan(4))/3))/log(-1 + sqrt(2))\n",
      "x - sinh(8*asin(x) - cos(2) + 5) + 11/3\n",
      "x*cos(x/5 - tanh(4)) - x + sin(x) + 5\n",
      "9/2 - 1/x\n",
      "-cos(4*x) - 4\n",
      "sqrt(cosh(cos(cos(1/(5*asin(asinh(x)))) + 2) - 4) - 4)\n",
      "x*((15*x - 300)*tan(4) + 8)/6\n",
      "4 - x\n",
      "atan(exp(2)/3 - 12/x)\n",
      "x - log(cosh(acos(1/x))) - sinh(x)/5 + 29/5\n",
      "cos(sinh(log(sinh(tanh(cos(x))) - 3)) + 2 - 8/x)/x\n",
      "x + 37/15\n",
      "-3*atan(x/cos(7*x + 24 + 3*acosh(-atan(3))))\n",
      "-x - asin(sinh(cosh(x - 2))) + pi/2\n",
      "asin(atanh(x - sinh(4)/x))\n",
      "x/4\n",
      "(3*x - 5/cosh(atan(4)))/(4*x)\n",
      "-x + 2 - 5*pi*atanh(4) - 20/x\n",
      "2*x - 46/15 - exp(-2)\n",
      "tanh(x + 1/2)\n",
      "x - cos(4)/8 + 1/(4*x)\n",
      "log(2 - x)/sin(2)\n",
      "((x + 1)*exp(2) - 2 + I)*sin(4)/5 - sin(5)/4 + 3\n",
      "-log(I*pi*(x + atan(3))/asin(x*tan(1) + 15))/3\n",
      "3/(4*(x - 5))\n",
      "sinh(x + 9)*acosh(acosh(2))*atan(5)\n",
      "-tanh(12*x**2)/4\n",
      "7 + 4*acosh(5)/(x*log(-1 + sqrt(2)))\n",
      "x - 4/3 + pi/12\n",
      "-tanh(x) - 3/2\n",
      "(x*atanh(acos(x) - 4) - 1 + sin((1 - sinh(1))*acos(-4))/5)/atanh(acos(x) - 4)\n",
      "19/5 + 2*exp(-cosh(4))/((x - 4)*atan(5) + 2)\n",
      "log(x)\n",
      "x - 5 + 3/(5*tan(1/(x - 3))*sinh(5))\n",
      "3 - tanh(4*x*(tanh((5 - exp(-5))/cos(5)) + 6))\n",
      "acos(cosh(x))\n",
      "2*x - 10\n",
      "x*sqrt(asin(2))*asinh(3)/3\n",
      "59.713377714157104\n"
     ]
    }
   ],
   "source": [
    "sequence = []\n",
    "\n",
    "start = time.time()\n",
    "i = 1\n",
    "while i<=100:\n",
    "    n = random.randint(1, 15)\n",
    "    root = random_binary_trees(n)\n",
    "    result = traverse_unary_binary_prefix(root)\n",
    "    if 'x' not in result.split():\n",
    "        continue  \n",
    "    result_infix = prefix_to_infix(result)\n",
    "    result_simp = simplify(parse_expr(result_infix, local_dict={'x': x}))\n",
    "    result_simp_prefix = infix_to_prefix(result_simp)\n",
    "    if result_simp_prefix == False:\n",
    "        continue\n",
    "    print(result_simp)    \n",
    "    expression = simplify(diff(result_simp, x))\n",
    "    expression_prefix = infix_to_prefix(expression)\n",
    "    sequence.append(expression_prefix + \"\\t\" + result_simp_prefix + \"\\n\")\n",
    "    i += 1\n",
    "end = time.time()\n",
    "print(end - start)"
   ]
  },
  {
   "cell_type": "code",
   "execution_count": 6,
   "metadata": {},
   "outputs": [],
   "source": [
    "file = open(r\"bwd_sample5000.txt\", \"w+\")\n",
    "file.writelines(sequence) "
   ]
  },
  {
   "cell_type": "markdown",
   "metadata": {},
   "source": [
    "### To do\n",
    "- 1. change def function list to numpy\n",
    "- 2. save sequence and label to csv file"
   ]
  },
  {
   "cell_type": "markdown",
   "metadata": {},
   "source": [
    "test csvfile"
   ]
  },
  {
   "cell_type": "code",
   "execution_count": 5,
   "metadata": {},
   "outputs": [],
   "source": [
    "import numpy as np"
   ]
  },
  {
   "cell_type": "code",
   "execution_count": 6,
   "metadata": {},
   "outputs": [],
   "source": [
    "bwd_test = np.array(sequence)\n"
   ]
  },
  {
   "cell_type": "code",
   "execution_count": 7,
   "metadata": {},
   "outputs": [
    {
     "data": {
      "text/plain": [
       "array([list(['/', '-1', '15']),\n",
       "       list(['+', '/', '-1', '5', '*', '/', '-1', '15', 'x'])],\n",
       "      dtype=object)"
      ]
     },
     "execution_count": 7,
     "metadata": {},
     "output_type": "execute_result"
    }
   ],
   "source": [
    "bwd_test[0]"
   ]
  },
  {
   "cell_type": "code",
   "execution_count": 8,
   "metadata": {},
   "outputs": [
    {
     "data": {
      "text/plain": [
       "(6, 2)"
      ]
     },
     "execution_count": 8,
     "metadata": {},
     "output_type": "execute_result"
    }
   ],
   "source": [
    "bwd_test.shape"
   ]
  },
  {
   "cell_type": "code",
   "execution_count": 9,
   "metadata": {},
   "outputs": [
    {
     "data": {
      "text/plain": [
       "'/Users/wenjuanyang/symbolic_math'"
      ]
     },
     "execution_count": 9,
     "metadata": {},
     "output_type": "execute_result"
    }
   ],
   "source": [
    "pwd"
   ]
  },
  {
   "cell_type": "code",
   "execution_count": 21,
   "metadata": {},
   "outputs": [],
   "source": [
    "li = []\n",
    "file = open(r\"bwd_test2.txt\", \"w+\")\n",
    "for ele in bwd_test:\n",
    "    new_ele1 = \" \".join(ele[0])\n",
    "    new_ele2 = \" \".join(ele[1])\n",
    "    new_ele = new_ele1 + \"\\t\" + new_ele2 + \"\\n\"\n",
    "    li.append(new_ele)\n",
    "file.writelines(li)    "
   ]
  },
  {
   "cell_type": "code",
   "execution_count": 22,
   "metadata": {},
   "outputs": [
    {
     "data": {
      "text/plain": [
       "['/ -1 15\\t+ / -1 5 * / -1 15 x\\n',\n",
       " 'exp x\\t+ 1 exp x\\n',\n",
       " 'pow + 1 * -1 pow x 2 / -1 2\\t+ -10 + asin x cos 2\\n',\n",
       " '* 2 * pow x -2 pow + * pi log 2 -1\\t* -2 * pow x -1 pow + * pi log 2 -1\\n',\n",
       " '1\\t+ 37 x\\n',\n",
       " '/ -1 4\\t* / -1 4 x\\n']"
      ]
     },
     "execution_count": 22,
     "metadata": {},
     "output_type": "execute_result"
    }
   ],
   "source": [
    "li"
   ]
  },
  {
   "cell_type": "code",
   "execution_count": 10,
   "metadata": {},
   "outputs": [],
   "source": [
    "import numpy as np\n",
    "\n",
    "np.savetxt('bwd_test.csv', bwd_test, delimiter=',', fmt=\"%s\")"
   ]
  },
  {
   "cell_type": "code",
   "execution_count": 63,
   "metadata": {},
   "outputs": [],
   "source": [
    "import csv\n",
    "import ast\n",
    "bwd_test2 = []\n",
    "with open('bwd_test.csv', 'r') as f:\n",
    "    for line in f:\n",
    "        newline = ast.literal_eval(line)\n",
    "        bwd_test2.append(list(newline))\n",
    "    "
   ]
  },
  {
   "cell_type": "code",
   "execution_count": 64,
   "metadata": {},
   "outputs": [],
   "source": [
    "bwd_test2 = np.array(bwd_test2)"
   ]
  },
  {
   "cell_type": "code",
   "execution_count": 65,
   "metadata": {},
   "outputs": [
    {
     "data": {
      "text/plain": [
       "(6, 2)"
      ]
     },
     "execution_count": 65,
     "metadata": {},
     "output_type": "execute_result"
    }
   ],
   "source": [
    "bwd_test2.shape"
   ]
  },
  {
   "cell_type": "code",
   "execution_count": 66,
   "metadata": {},
   "outputs": [
    {
     "name": "stdout",
     "output_type": "stream",
     "text": [
      "[list(['*', '3', 'pow', '+', '-1', '*', '9', 'pow', '+', '3', 'x', '2', '-1'])\n",
      " list(['*', '-1', 'atanh', '+', '9', '*', '3', 'x'])]\n"
     ]
    }
   ],
   "source": [
    "print(bwd_test2[0])"
   ]
  },
  {
   "cell_type": "code",
   "execution_count": 9,
   "metadata": {},
   "outputs": [
    {
     "data": {
      "text/latex": [
       "$\\displaystyle 0$"
      ],
      "text/plain": [
       "0"
      ]
     },
     "execution_count": 9,
     "metadata": {},
     "output_type": "execute_result"
    }
   ],
   "source": [
    "simplify(sympify(\"x/oo\"))"
   ]
  },
  {
   "cell_type": "code",
   "execution_count": 11,
   "metadata": {},
   "outputs": [
    {
     "data": {
      "text/latex": [
       "$\\displaystyle 0$"
      ],
      "text/plain": [
       "0"
      ]
     },
     "execution_count": 11,
     "metadata": {},
     "output_type": "execute_result"
    }
   ],
   "source": [
    "simplify(parse_expr(\"x/oo\", local_dict={'x': x}))"
   ]
  },
  {
   "cell_type": "code",
   "execution_count": null,
   "metadata": {},
   "outputs": [],
   "source": []
  }
 ],
 "metadata": {
  "kernelspec": {
   "display_name": "symbolic_math",
   "language": "python",
   "name": "symbolic_math"
  },
  "language_info": {
   "codemirror_mode": {
    "name": "ipython",
    "version": 3
   },
   "file_extension": ".py",
   "mimetype": "text/x-python",
   "name": "python",
   "nbconvert_exporter": "python",
   "pygments_lexer": "ipython3",
   "version": "3.6.8"
  }
 },
 "nbformat": 4,
 "nbformat_minor": 4
}
